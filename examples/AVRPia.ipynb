{
 "cells": [
  {
   "cell_type": "markdown",
   "metadata": {},
   "source": [
    "# Clustering AVR-Pia\n",
    "---"
   ]
  },
  {
   "cell_type": "markdown",
   "metadata": {},
   "source": [
    "This notebook will guide you through the process of clustering 99 complexes of the AVR-Pia protein against a sample of rice proteins. All of the models are dimeric. The 99 models originate from a proteome-wide screen of AVR-Pia against the rice proteome (O. sativa subsp. japonica, 43,000+ initial models). To select this sample we first ran AlphaCRV on all the models, and the 99 structures are part of some of the best clusters that were identified. Running the pipeline on these models should be enough to reproduce the results and give you an idea of the workflow."
   ]
  },
  {
   "cell_type": "markdown",
   "metadata": {},
   "source": [
    "# Prerequisites\n",
    "\n",
    "- Install AlphaCRV on a conda environment and activate it\n",
    "- Download the models and sequences for this example from [Zenodo](https://zenodo.org/record/5525340/files/alphafold-multimer.tar.gz?download=1)"
   ]
  },
  {
   "cell_type": "markdown",
   "metadata": {},
   "source": [
    "# 1. Cluster the models with the `clustering` command"
   ]
  },
  {
   "cell_type": "markdown",
   "metadata": {},
   "source": [
    "Run the following command to cluster the models. Make sure to change the paths according to your system:\n",
    "\n",
    "```bash\n",
    "alphacrv-cluster \\\n",
    "  --bait ./examples/AVRPia/AVRPia.fasta \\\n",
    "  --binders ./examples/AVRPia/AVRPia_binders.fasta \\\n",
    "  --models_dir ./examples/AVRPia/AVRPia_vs_rice_models \\\n",
    "  --destination ./examples/AVRPia/AVRPia_vs_rice_clusters \\\n",
    "  --cpus 8\n",
    "```"
   ]
  },
  {
   "cell_type": "markdown",
   "metadata": {},
   "source": [
    "After collecting the quality scores from the models in `--models_dir`, it will count how many models are there with an ipTM scores higher than the threshold (0.75 by default). It will prompt you to confirm or to modify the threshold. After that, it will proceed with the clustering."
   ]
  },
  {
   "cell_type": "markdown",
   "metadata": {},
   "source": [
    "The full output is as follows:"
   ]
  },
  {
   "cell_type": "raw",
   "metadata": {},
   "source": [
    "(env) AlphaCRV$ alphacrv-cluster \\\n",
    "--bait ./examples/AVRPia/AVRPia.fasta \\\n",
    "--binders ./examples/AVRPia/AVRPia_binders.fasta \\\n",
    "--models_dir ./examples/AVRPia/AVRPia_vs_rice_models \\\n",
    "--destination ./examples/AVRPia/AVRPia_vs_rice_clusters \\\n",
    "--cpus 8\n",
    "INFO:root:Getting quality scores for models in examples/AVRPia/AVRPia_vs_rice_models...\n",
    "INFO:root:Found 99 model directories with quality scores.\n",
    "Will select 99 models with iptm >= 0.75. Press enter to continue, or enter a new threshold: \n",
    "INFO:root:Trimming binder molecules to keep only regions with an average PAE against the bait of up to 10.0...\n",
    "INFO:root:Processed 99 complexes.\n",
    "INFO:root:Writing trimmed sequences to fasta file.\n",
    "INFO:root:Running sequence clustering...\n",
    "INFO:root:Processing output...\n",
    "INFO:root:Running structural clustering...\n",
    "INFO:root:Processing output...\n",
    "INFO:root:Aligning all vs all members of each cluster...\n",
    "INFO:root:Aligning cluster 1 of 3...\n",
    "INFO:root:49 members.\n",
    "INFO:root:Aligning cluster 2 of 3...\n",
    "INFO:root:40 members.\n",
    "INFO:root:Aligning cluster 3 of 3...\n",
    "INFO:root:10 members.\n",
    "INFO:root:Calculating median alignment scores...\n",
    "INFO:root:Done!!"
   ]
  },
  {
   "cell_type": "markdown",
   "metadata": {},
   "source": [
    "After this step you will have a directory with the following structure:"
   ]
  },
  {
   "cell_type": "raw",
   "metadata": {},
   "source": [
    "(env) AlphaCRV$ ll examples/AVRPia/AVRPia_vs_rice_clusters/\n",
    "total 36K\n",
    "-rw-r--r-- 1 example g-example 2.0K Jan  3 19:39 binders_regions.csv\n",
    "drwxr-xr-x 1 example g-example    0 Jan  3 19:40 merged_clusters/\n",
    "drwxr-xr-x 1 example g-example    0 Jan  3 19:39 pdbs_trimmed/\n",
    "drwxr-xr-x 1 example g-example    0 Jan  3 19:39 seqclusters/\n",
    "drwxr-xr-x 1 example g-example    0 Jan  3 19:39 strclusters/\n",
    "-rw-r--r-- 1 example g-example  29K Jan  3 19:39 trimmed_binders.fasta"
   ]
  },
  {
   "cell_type": "markdown",
   "metadata": {},
   "source": [
    "Now let's look at some of the important files:"
   ]
  },
  {
   "cell_type": "code",
   "execution_count": 1,
   "metadata": {},
   "outputs": [],
   "source": [
    "from pathlib import Path\n",
    "import pandas as pd"
   ]
  },
  {
   "cell_type": "code",
   "execution_count": 2,
   "metadata": {},
   "outputs": [],
   "source": [
    "results_dir = Path('./AVRPia/AVRPia_vs_rice_clusters/')"
   ]
  },
  {
   "cell_type": "markdown",
   "metadata": {},
   "source": [
    "## See clusters"
   ]
  },
  {
   "cell_type": "markdown",
   "metadata": {},
   "source": [
    "The `merged_clusters.csv` file contains the list of models with their corresponding sequence, structure and merged clusters. It also has the quality scores provided by AlphaFold."
   ]
  },
  {
   "cell_type": "code",
   "execution_count": 3,
   "metadata": {},
   "outputs": [],
   "source": [
    "clusters = pd.read_csv(results_dir / 'merged_clusters/merged_clusters.csv')"
   ]
  },
  {
   "cell_type": "code",
   "execution_count": 4,
   "metadata": {},
   "outputs": [
    {
     "data": {
      "text/html": [
       "<div>\n",
       "<style scoped>\n",
       "    .dataframe tbody tr th:only-of-type {\n",
       "        vertical-align: middle;\n",
       "    }\n",
       "\n",
       "    .dataframe tbody tr th {\n",
       "        vertical-align: top;\n",
       "    }\n",
       "\n",
       "    .dataframe thead th {\n",
       "        text-align: right;\n",
       "    }\n",
       "</style>\n",
       "<table border=\"1\" class=\"dataframe\">\n",
       "  <thead>\n",
       "    <tr style=\"text-align: right;\">\n",
       "      <th></th>\n",
       "      <th>complex</th>\n",
       "      <th>str_rep</th>\n",
       "      <th>seq_rep</th>\n",
       "      <th>merged_rep</th>\n",
       "      <th>member</th>\n",
       "      <th>iptm</th>\n",
       "      <th>iptm+ptm</th>\n",
       "    </tr>\n",
       "  </thead>\n",
       "  <tbody>\n",
       "    <tr>\n",
       "      <th>0</th>\n",
       "      <td>6Q76-1_Q5JN27-1</td>\n",
       "      <td>Q0IYV8.pdb_B</td>\n",
       "      <td>C7IWS6</td>\n",
       "      <td>Q6Z1A9.pdb_B</td>\n",
       "      <td>Q5JN27</td>\n",
       "      <td>0.946405</td>\n",
       "      <td>0.880667</td>\n",
       "    </tr>\n",
       "    <tr>\n",
       "      <th>1</th>\n",
       "      <td>6Q76-1_Q6K9S6-1</td>\n",
       "      <td>A0A0P0WCR3.pdb_B</td>\n",
       "      <td>Q6K9S6</td>\n",
       "      <td>Q6Z1A9.pdb_B</td>\n",
       "      <td>Q6K9S6</td>\n",
       "      <td>0.934689</td>\n",
       "      <td>0.859638</td>\n",
       "    </tr>\n",
       "    <tr>\n",
       "      <th>2</th>\n",
       "      <td>6Q76-1_A0A0P0VEX0-1</td>\n",
       "      <td>Q0IYV8.pdb_B</td>\n",
       "      <td>A0A0P0XZP1</td>\n",
       "      <td>Q6Z1A9.pdb_B</td>\n",
       "      <td>A0A0P0VEX0</td>\n",
       "      <td>0.933272</td>\n",
       "      <td>0.916800</td>\n",
       "    </tr>\n",
       "    <tr>\n",
       "      <th>3</th>\n",
       "      <td>6Q76-1_Q2R3L3-1</td>\n",
       "      <td>A0A0P0VF33.pdb_B</td>\n",
       "      <td>A0A0P0Y2U8</td>\n",
       "      <td>Q6Z1A9.pdb_B</td>\n",
       "      <td>Q2R3L3</td>\n",
       "      <td>0.926249</td>\n",
       "      <td>0.909282</td>\n",
       "    </tr>\n",
       "    <tr>\n",
       "      <th>4</th>\n",
       "      <td>6Q76-1_A0A0P0UZA6-1</td>\n",
       "      <td>A0A0P0UZA6.pdb_B</td>\n",
       "      <td>A0A0P0UZA6</td>\n",
       "      <td>Q7XL74.pdb_B</td>\n",
       "      <td>A0A0P0UZA6</td>\n",
       "      <td>0.921295</td>\n",
       "      <td>0.827867</td>\n",
       "    </tr>\n",
       "    <tr>\n",
       "      <th>...</th>\n",
       "      <td>...</td>\n",
       "      <td>...</td>\n",
       "      <td>...</td>\n",
       "      <td>...</td>\n",
       "      <td>...</td>\n",
       "      <td>...</td>\n",
       "      <td>...</td>\n",
       "    </tr>\n",
       "    <tr>\n",
       "      <th>94</th>\n",
       "      <td>6Q76-1_A0A0P0XDF8-1</td>\n",
       "      <td>Q0IYV8.pdb_B</td>\n",
       "      <td>A0A0N7KMC1</td>\n",
       "      <td>Q6Z1A9.pdb_B</td>\n",
       "      <td>A0A0P0XDF8</td>\n",
       "      <td>0.768701</td>\n",
       "      <td>0.751252</td>\n",
       "    </tr>\n",
       "    <tr>\n",
       "      <th>95</th>\n",
       "      <td>6Q76-1_A0A0P0Y3K7-1</td>\n",
       "      <td>Q0IYV8.pdb_B</td>\n",
       "      <td>A0A0P0Y3K7</td>\n",
       "      <td>Q6Z1A9.pdb_B</td>\n",
       "      <td>A0A0P0Y3K7</td>\n",
       "      <td>0.766905</td>\n",
       "      <td>0.758089</td>\n",
       "    </tr>\n",
       "    <tr>\n",
       "      <th>96</th>\n",
       "      <td>6Q76-1_Q0IYI4-1</td>\n",
       "      <td>Q7XL74.pdb_B</td>\n",
       "      <td>Q7XL74</td>\n",
       "      <td>Q7XL74.pdb_B</td>\n",
       "      <td>Q0IYI4</td>\n",
       "      <td>0.766464</td>\n",
       "      <td>0.718768</td>\n",
       "    </tr>\n",
       "    <tr>\n",
       "      <th>97</th>\n",
       "      <td>6Q76-1_Q6Z0A9-1</td>\n",
       "      <td>Q0IYV8.pdb_B</td>\n",
       "      <td>A0A0N7KMC1</td>\n",
       "      <td>Q6Z1A9.pdb_B</td>\n",
       "      <td>Q6Z0A9</td>\n",
       "      <td>0.764813</td>\n",
       "      <td>0.740763</td>\n",
       "    </tr>\n",
       "    <tr>\n",
       "      <th>98</th>\n",
       "      <td>6Q76-1_Q84TS2-1</td>\n",
       "      <td>Q7XL74.pdb_B</td>\n",
       "      <td>Q8S181</td>\n",
       "      <td>Q7XL74.pdb_B</td>\n",
       "      <td>Q84TS2</td>\n",
       "      <td>0.762130</td>\n",
       "      <td>0.730054</td>\n",
       "    </tr>\n",
       "  </tbody>\n",
       "</table>\n",
       "<p>99 rows × 7 columns</p>\n",
       "</div>"
      ],
      "text/plain": [
       "                complex           str_rep     seq_rep    merged_rep  \\\n",
       "0       6Q76-1_Q5JN27-1      Q0IYV8.pdb_B      C7IWS6  Q6Z1A9.pdb_B   \n",
       "1       6Q76-1_Q6K9S6-1  A0A0P0WCR3.pdb_B      Q6K9S6  Q6Z1A9.pdb_B   \n",
       "2   6Q76-1_A0A0P0VEX0-1      Q0IYV8.pdb_B  A0A0P0XZP1  Q6Z1A9.pdb_B   \n",
       "3       6Q76-1_Q2R3L3-1  A0A0P0VF33.pdb_B  A0A0P0Y2U8  Q6Z1A9.pdb_B   \n",
       "4   6Q76-1_A0A0P0UZA6-1  A0A0P0UZA6.pdb_B  A0A0P0UZA6  Q7XL74.pdb_B   \n",
       "..                  ...               ...         ...           ...   \n",
       "94  6Q76-1_A0A0P0XDF8-1      Q0IYV8.pdb_B  A0A0N7KMC1  Q6Z1A9.pdb_B   \n",
       "95  6Q76-1_A0A0P0Y3K7-1      Q0IYV8.pdb_B  A0A0P0Y3K7  Q6Z1A9.pdb_B   \n",
       "96      6Q76-1_Q0IYI4-1      Q7XL74.pdb_B      Q7XL74  Q7XL74.pdb_B   \n",
       "97      6Q76-1_Q6Z0A9-1      Q0IYV8.pdb_B  A0A0N7KMC1  Q6Z1A9.pdb_B   \n",
       "98      6Q76-1_Q84TS2-1      Q7XL74.pdb_B      Q8S181  Q7XL74.pdb_B   \n",
       "\n",
       "        member      iptm  iptm+ptm  \n",
       "0       Q5JN27  0.946405  0.880667  \n",
       "1       Q6K9S6  0.934689  0.859638  \n",
       "2   A0A0P0VEX0  0.933272  0.916800  \n",
       "3       Q2R3L3  0.926249  0.909282  \n",
       "4   A0A0P0UZA6  0.921295  0.827867  \n",
       "..         ...       ...       ...  \n",
       "94  A0A0P0XDF8  0.768701  0.751252  \n",
       "95  A0A0P0Y3K7  0.766905  0.758089  \n",
       "96      Q0IYI4  0.766464  0.718768  \n",
       "97      Q6Z0A9  0.764813  0.740763  \n",
       "98      Q84TS2  0.762130  0.730054  \n",
       "\n",
       "[99 rows x 7 columns]"
      ]
     },
     "execution_count": 4,
     "metadata": {},
     "output_type": "execute_result"
    }
   ],
   "source": [
    "clusters"
   ]
  },
  {
   "cell_type": "markdown",
   "metadata": {},
   "source": [
    "The columns of the `clusters` DataFrame are:\n",
    "- `complex`: The name of the complex. This is the same name as the directory where the model is stored.\n",
    "- `str_rep`: Name of the structure cluster representative\n",
    "- `seq_rep`: Name of the sequence cluster representative\n",
    "- `merged_rep`: Name of the merged cluster representative (sequence + structure)\n",
    "- `member`: The ID of the binder protein\n",
    "- `iptm`: The ipTM score of the model\n",
    "- `iptm+ptm`: The ipTM+PTM score of the model (it is calculated by AlphaFold as 0.8*ipTM + 0.2*pTM)"
   ]
  },
  {
   "cell_type": "markdown",
   "metadata": {},
   "source": [
    "See the number of different merged clusters:"
   ]
  },
  {
   "cell_type": "code",
   "execution_count": 5,
   "metadata": {},
   "outputs": [
    {
     "data": {
      "text/plain": [
       "(3,)"
      ]
     },
     "execution_count": 5,
     "metadata": {},
     "output_type": "execute_result"
    }
   ],
   "source": [
    "clusters.merged_rep.unique().shape"
   ]
  },
  {
   "cell_type": "markdown",
   "metadata": {},
   "source": [
    "For this example, the models and sequences from the 99 binder proteins were summarized in 3 clusters. Much fewer structures to sort through!"
   ]
  },
  {
   "cell_type": "markdown",
   "metadata": {},
   "source": [
    "## See alignment scores"
   ]
  },
  {
   "cell_type": "markdown",
   "metadata": {},
   "source": [
    "Alignment scores are calcualted for each cluster by aligning all vs all members of the cluster."
   ]
  },
  {
   "cell_type": "code",
   "execution_count": 6,
   "metadata": {},
   "outputs": [],
   "source": [
    "alignment_scores = pd.read_csv(results_dir / 'merged_clusters/alignment_scores.csv')"
   ]
  },
  {
   "cell_type": "code",
   "execution_count": 7,
   "metadata": {},
   "outputs": [
    {
     "data": {
      "text/html": [
       "<div>\n",
       "<style scoped>\n",
       "    .dataframe tbody tr th:only-of-type {\n",
       "        vertical-align: middle;\n",
       "    }\n",
       "\n",
       "    .dataframe tbody tr th {\n",
       "        vertical-align: top;\n",
       "    }\n",
       "\n",
       "    .dataframe thead th {\n",
       "        text-align: right;\n",
       "    }\n",
       "</style>\n",
       "<table border=\"1\" class=\"dataframe\">\n",
       "  <thead>\n",
       "    <tr style=\"text-align: right;\">\n",
       "      <th></th>\n",
       "      <th>cluster</th>\n",
       "      <th>ref</th>\n",
       "      <th>member</th>\n",
       "      <th>tmscore_ref</th>\n",
       "      <th>tmscore_m</th>\n",
       "      <th>aligned_length</th>\n",
       "      <th>rmsd</th>\n",
       "    </tr>\n",
       "  </thead>\n",
       "  <tbody>\n",
       "    <tr>\n",
       "      <th>0</th>\n",
       "      <td>Q6Z1A9.pdb_B</td>\n",
       "      <td>Q5JN27</td>\n",
       "      <td>Q6K9S6</td>\n",
       "      <td>0.22351</td>\n",
       "      <td>0.56157</td>\n",
       "      <td>206</td>\n",
       "      <td>12.72</td>\n",
       "    </tr>\n",
       "    <tr>\n",
       "      <th>1</th>\n",
       "      <td>Q6Z1A9.pdb_B</td>\n",
       "      <td>Q5JN27</td>\n",
       "      <td>A0A0P0VEX0</td>\n",
       "      <td>0.53580</td>\n",
       "      <td>0.44881</td>\n",
       "      <td>564</td>\n",
       "      <td>20.63</td>\n",
       "    </tr>\n",
       "    <tr>\n",
       "      <th>2</th>\n",
       "      <td>Q6Z1A9.pdb_B</td>\n",
       "      <td>Q5JN27</td>\n",
       "      <td>Q2R3L3</td>\n",
       "      <td>0.32890</td>\n",
       "      <td>0.66186</td>\n",
       "      <td>274</td>\n",
       "      <td>10.16</td>\n",
       "    </tr>\n",
       "    <tr>\n",
       "      <th>3</th>\n",
       "      <td>Q6Z1A9.pdb_B</td>\n",
       "      <td>Q5JN27</td>\n",
       "      <td>A0A0P0Y2U8</td>\n",
       "      <td>0.23944</td>\n",
       "      <td>0.51955</td>\n",
       "      <td>225</td>\n",
       "      <td>11.05</td>\n",
       "    </tr>\n",
       "    <tr>\n",
       "      <th>4</th>\n",
       "      <td>Q6Z1A9.pdb_B</td>\n",
       "      <td>Q5JN27</td>\n",
       "      <td>C7IWS6</td>\n",
       "      <td>0.55887</td>\n",
       "      <td>0.81560</td>\n",
       "      <td>393</td>\n",
       "      <td>9.61</td>\n",
       "    </tr>\n",
       "  </tbody>\n",
       "</table>\n",
       "</div>"
      ],
      "text/plain": [
       "        cluster     ref      member  tmscore_ref  tmscore_m  aligned_length  \\\n",
       "0  Q6Z1A9.pdb_B  Q5JN27      Q6K9S6      0.22351    0.56157             206   \n",
       "1  Q6Z1A9.pdb_B  Q5JN27  A0A0P0VEX0      0.53580    0.44881             564   \n",
       "2  Q6Z1A9.pdb_B  Q5JN27      Q2R3L3      0.32890    0.66186             274   \n",
       "3  Q6Z1A9.pdb_B  Q5JN27  A0A0P0Y2U8      0.23944    0.51955             225   \n",
       "4  Q6Z1A9.pdb_B  Q5JN27      C7IWS6      0.55887    0.81560             393   \n",
       "\n",
       "    rmsd  \n",
       "0  12.72  \n",
       "1  20.63  \n",
       "2  10.16  \n",
       "3  11.05  \n",
       "4   9.61  "
      ]
     },
     "execution_count": 7,
     "metadata": {},
     "output_type": "execute_result"
    }
   ],
   "source": [
    "alignment_scores.head()"
   ]
  },
  {
   "cell_type": "markdown",
   "metadata": {},
   "source": [
    "The columns of the `alignment_scores` DataFrame are:\n",
    "- `cluster`: The name of the cluster\n",
    "- `ref`: Binder ID of the reference structure in the alignment\n",
    "- `member`: Binder ID of the second structure in the alignment\n",
    "- `tmscore_ref`: TM-score based on the reference structure\n",
    "- `tmscore_m`: TM-score based on the second structure\n",
    "- `aligned_length`: Length of the alignment\n",
    "- `rmsd`: RMSD of the alignment\n",
    "\n",
    "Based on these scores, the median scores are calculated for each cluster member to find the best representative of the cluster (the one with lowest RMSD score to the other members)."
   ]
  },
  {
   "cell_type": "markdown",
   "metadata": {},
   "source": [
    "## Read median scores and find top clusters"
   ]
  },
  {
   "cell_type": "markdown",
   "metadata": {},
   "source": [
    "Now we can rank the clusters based on the median alignment scores of the cluster representatives:"
   ]
  },
  {
   "cell_type": "code",
   "execution_count": 8,
   "metadata": {},
   "outputs": [],
   "source": [
    "median_scores = pd.read_csv(results_dir / 'merged_clusters/median_scores.csv')"
   ]
  },
  {
   "cell_type": "code",
   "execution_count": 9,
   "metadata": {},
   "outputs": [
    {
     "data": {
      "text/plain": [
       "(99, 7)"
      ]
     },
     "execution_count": 9,
     "metadata": {},
     "output_type": "execute_result"
    }
   ],
   "source": [
    "median_scores.shape"
   ]
  },
  {
   "cell_type": "markdown",
   "metadata": {},
   "source": [
    "The `median_scores` DataFrame contains the median alignment scores of each cluster member when aligned to all other members of the same cluster."
   ]
  },
  {
   "cell_type": "code",
   "execution_count": 10,
   "metadata": {},
   "outputs": [
    {
     "data": {
      "text/html": [
       "<div>\n",
       "<style scoped>\n",
       "    .dataframe tbody tr th:only-of-type {\n",
       "        vertical-align: middle;\n",
       "    }\n",
       "\n",
       "    .dataframe tbody tr th {\n",
       "        vertical-align: top;\n",
       "    }\n",
       "\n",
       "    .dataframe thead th {\n",
       "        text-align: right;\n",
       "    }\n",
       "</style>\n",
       "<table border=\"1\" class=\"dataframe\">\n",
       "  <thead>\n",
       "    <tr style=\"text-align: right;\">\n",
       "      <th></th>\n",
       "      <th>cluster</th>\n",
       "      <th>member</th>\n",
       "      <th>tmscore</th>\n",
       "      <th>rmsd</th>\n",
       "      <th>aligned_length</th>\n",
       "      <th>cluster_size</th>\n",
       "      <th>fraction_binder</th>\n",
       "    </tr>\n",
       "  </thead>\n",
       "  <tbody>\n",
       "    <tr>\n",
       "      <th>0</th>\n",
       "      <td>P42211.pdb_B</td>\n",
       "      <td>A0A0P0VAB8</td>\n",
       "      <td>0.56928</td>\n",
       "      <td>21.55</td>\n",
       "      <td>419.0</td>\n",
       "      <td>10.0</td>\n",
       "      <td>0.862408</td>\n",
       "    </tr>\n",
       "    <tr>\n",
       "      <th>1</th>\n",
       "      <td>P42211.pdb_B</td>\n",
       "      <td>A0A0P0VAW6</td>\n",
       "      <td>0.59934</td>\n",
       "      <td>12.81</td>\n",
       "      <td>407.0</td>\n",
       "      <td>10.0</td>\n",
       "      <td>0.867008</td>\n",
       "    </tr>\n",
       "    <tr>\n",
       "      <th>2</th>\n",
       "      <td>P42211.pdb_B</td>\n",
       "      <td>A0A0P0WVN9</td>\n",
       "      <td>0.39349</td>\n",
       "      <td>24.73</td>\n",
       "      <td>412.0</td>\n",
       "      <td>10.0</td>\n",
       "      <td>0.577181</td>\n",
       "    </tr>\n",
       "    <tr>\n",
       "      <th>3</th>\n",
       "      <td>P42211.pdb_B</td>\n",
       "      <td>P42211</td>\n",
       "      <td>0.26818</td>\n",
       "      <td>20.91</td>\n",
       "      <td>363.0</td>\n",
       "      <td>10.0</td>\n",
       "      <td>0.707434</td>\n",
       "    </tr>\n",
       "    <tr>\n",
       "      <th>4</th>\n",
       "      <td>P42211.pdb_B</td>\n",
       "      <td>Q0D5V1</td>\n",
       "      <td>0.66389</td>\n",
       "      <td>10.75</td>\n",
       "      <td>402.0</td>\n",
       "      <td>10.0</td>\n",
       "      <td>0.902703</td>\n",
       "    </tr>\n",
       "  </tbody>\n",
       "</table>\n",
       "</div>"
      ],
      "text/plain": [
       "        cluster      member  tmscore   rmsd  aligned_length  cluster_size  \\\n",
       "0  P42211.pdb_B  A0A0P0VAB8  0.56928  21.55           419.0          10.0   \n",
       "1  P42211.pdb_B  A0A0P0VAW6  0.59934  12.81           407.0          10.0   \n",
       "2  P42211.pdb_B  A0A0P0WVN9  0.39349  24.73           412.0          10.0   \n",
       "3  P42211.pdb_B      P42211  0.26818  20.91           363.0          10.0   \n",
       "4  P42211.pdb_B      Q0D5V1  0.66389  10.75           402.0          10.0   \n",
       "\n",
       "   fraction_binder  \n",
       "0         0.862408  \n",
       "1         0.867008  \n",
       "2         0.577181  \n",
       "3         0.707434  \n",
       "4         0.902703  "
      ]
     },
     "execution_count": 10,
     "metadata": {},
     "output_type": "execute_result"
    }
   ],
   "source": [
    "median_scores.head()"
   ]
  },
  {
   "cell_type": "markdown",
   "metadata": {},
   "source": [
    "The columns of the `median_scores` DataFrame are:\n",
    "- `cluster`: The name of the cluster\n",
    "- `member`: ID of the cluster member (binder molecule)\n",
    "- `tmscore`: Median TM-score of the complex against all other complexes in this cluster\n",
    "- `rmsd`: Median RMSD of the complex against all other complexes in this cluster\n",
    "- `aligned_length`: Median length of the alignment\n",
    "- `cluster_size`\n",
    "- `fraction_binder`: In average, how much of the binder molecule is included in the alignments of this complex against all other complexes (calculated as `(aligned_length - bait_length)/binder_length`). This is just meant to be an approximation of how complete the aligmnents are for this cluster member."
   ]
  },
  {
   "cell_type": "markdown",
   "metadata": {},
   "source": [
    "The next step is to select the cluster representatives. For this, we first need to filter out the cluster members with poor quality alignments, according to the following criteria:\n",
    "- Small size\n",
    "- Low median TM-score\n",
    "- High median RMSD\n",
    "- Low fraction of the binder aligned in the cluster representative"
   ]
  },
  {
   "cell_type": "code",
   "execution_count": 11,
   "metadata": {},
   "outputs": [],
   "source": [
    "# Select the clusters with the following criteria:\n",
    "select = ((median_scores.cluster_size >= 5) & \\\n",
    "            (median_scores.tmscore >= 0.2) & \\\n",
    "            (median_scores.fraction_binder >= 0.2) & \\\n",
    "            (median_scores.rmsd <= 15))\n",
    "median_scores_filtered = median_scores[select]"
   ]
  },
  {
   "cell_type": "code",
   "execution_count": 12,
   "metadata": {},
   "outputs": [
    {
     "data": {
      "text/plain": [
       "(83, 7)"
      ]
     },
     "execution_count": 12,
     "metadata": {},
     "output_type": "execute_result"
    }
   ],
   "source": [
    "median_scores_filtered.shape"
   ]
  },
  {
   "cell_type": "markdown",
   "metadata": {},
   "source": [
    "See how many clusters are left after filtering:"
   ]
  },
  {
   "cell_type": "code",
   "execution_count": 13,
   "metadata": {},
   "outputs": [
    {
     "data": {
      "text/plain": [
       "(3,)"
      ]
     },
     "execution_count": 13,
     "metadata": {},
     "output_type": "execute_result"
    }
   ],
   "source": [
    "median_scores_filtered.cluster.unique().shape"
   ]
  },
  {
   "cell_type": "markdown",
   "metadata": {},
   "source": [
    "Function to format tables:"
   ]
  },
  {
   "cell_type": "code",
   "execution_count": 14,
   "metadata": {},
   "outputs": [],
   "source": [
    "import seaborn as sns\n",
    "cm_r = sns.color_palette(\"mako_r\", as_cmap=True)\n",
    "cm = sns.color_palette(\"mako\", as_cmap=True)"
   ]
  },
  {
   "cell_type": "code",
   "execution_count": 15,
   "metadata": {},
   "outputs": [],
   "source": [
    "def make_pretty(styler):\n",
    "    styler.format(precision=2)\n",
    "    styler.background_gradient(axis=0, cmap=cm_r, subset=pd.IndexSlice[:,\"cluster_size\"],vmin=5,vmax=15)\n",
    "    styler.background_gradient(axis=0, cmap=cm_r, subset=pd.IndexSlice[:,\"tmscore\"],vmin=0.2,vmax=0.8)\n",
    "    styler.background_gradient(axis=0, cmap=cm, subset=pd.IndexSlice[:,\"rmsd\"],vmin=2,vmax=10)\n",
    "    styler.background_gradient(axis=0, cmap=cm_r, subset=pd.IndexSlice[:,\"fraction_binder\"],vmin=0.2,vmax=0.9)\n",
    "    return styler"
   ]
  },
  {
   "cell_type": "markdown",
   "metadata": {},
   "source": [
    "## RESULT 1: See clusters ranked by RMSD"
   ]
  },
  {
   "cell_type": "markdown",
   "metadata": {},
   "source": [
    "Finally, we can rank the clusters and see which ones have a good combination of low RMSD and large cluster size. These ones are the most likely to contain the true binder."
   ]
  },
  {
   "cell_type": "code",
   "execution_count": 16,
   "metadata": {},
   "outputs": [
    {
     "data": {
      "text/html": [
       "<style type=\"text/css\">\n",
       "#T_23c6a_row0_col1, #T_23c6a_row0_col2, #T_23c6a_row0_col3, #T_23c6a_row0_col4, #T_23c6a_row1_col3, #T_23c6a_row2_col4 {\n",
       "  background-color: #0b0405;\n",
       "  color: #f1f1f1;\n",
       "}\n",
       "#T_23c6a_row1_col1 {\n",
       "  background-color: #38629d;\n",
       "  color: #f1f1f1;\n",
       "}\n",
       "#T_23c6a_row1_col2, #T_23c6a_row2_col2 {\n",
       "  background-color: #def5e5;\n",
       "  color: #000000;\n",
       "}\n",
       "#T_23c6a_row1_col4 {\n",
       "  background-color: #221425;\n",
       "  color: #f1f1f1;\n",
       "}\n",
       "#T_23c6a_row2_col1 {\n",
       "  background-color: #3c3060;\n",
       "  color: #f1f1f1;\n",
       "}\n",
       "#T_23c6a_row2_col3 {\n",
       "  background-color: #357aa2;\n",
       "  color: #f1f1f1;\n",
       "}\n",
       "</style>\n",
       "<table id=\"T_23c6a\">\n",
       "  <thead>\n",
       "    <tr>\n",
       "      <th class=\"blank level0\" >&nbsp;</th>\n",
       "      <th id=\"T_23c6a_level0_col0\" class=\"col_heading level0 col0\" >cluster</th>\n",
       "      <th id=\"T_23c6a_level0_col1\" class=\"col_heading level0 col1\" >tmscore</th>\n",
       "      <th id=\"T_23c6a_level0_col2\" class=\"col_heading level0 col2\" >rmsd</th>\n",
       "      <th id=\"T_23c6a_level0_col3\" class=\"col_heading level0 col3\" >cluster_size</th>\n",
       "      <th id=\"T_23c6a_level0_col4\" class=\"col_heading level0 col4\" >fraction_binder</th>\n",
       "    </tr>\n",
       "  </thead>\n",
       "  <tbody>\n",
       "    <tr>\n",
       "      <th id=\"T_23c6a_level0_row0\" class=\"row_heading level0 row0\" >59</th>\n",
       "      <td id=\"T_23c6a_row0_col0\" class=\"data row0 col0\" >Q7XL74.pdb_B</td>\n",
       "      <td id=\"T_23c6a_row0_col1\" class=\"data row0 col1\" >0.90</td>\n",
       "      <td id=\"T_23c6a_row0_col2\" class=\"data row0 col2\" >1.49</td>\n",
       "      <td id=\"T_23c6a_row0_col3\" class=\"data row0 col3\" >40.00</td>\n",
       "      <td id=\"T_23c6a_row0_col4\" class=\"data row0 col4\" >0.94</td>\n",
       "    </tr>\n",
       "    <tr>\n",
       "      <th id=\"T_23c6a_level0_row1\" class=\"row_heading level0 row1\" >22</th>\n",
       "      <td id=\"T_23c6a_row1_col0\" class=\"data row1 col0\" >Q6Z1A9.pdb_B</td>\n",
       "      <td id=\"T_23c6a_row1_col1\" class=\"data row1 col1\" >0.55</td>\n",
       "      <td id=\"T_23c6a_row1_col2\" class=\"data row1 col2\" >10.65</td>\n",
       "      <td id=\"T_23c6a_row1_col3\" class=\"data row1 col3\" >49.00</td>\n",
       "      <td id=\"T_23c6a_row1_col4\" class=\"data row1 col4\" >0.84</td>\n",
       "    </tr>\n",
       "    <tr>\n",
       "      <th id=\"T_23c6a_level0_row2\" class=\"row_heading level0 row2\" >4</th>\n",
       "      <td id=\"T_23c6a_row2_col0\" class=\"data row2 col0\" >P42211.pdb_B</td>\n",
       "      <td id=\"T_23c6a_row2_col1\" class=\"data row2 col1\" >0.66</td>\n",
       "      <td id=\"T_23c6a_row2_col2\" class=\"data row2 col2\" >10.75</td>\n",
       "      <td id=\"T_23c6a_row2_col3\" class=\"data row2 col3\" >10.00</td>\n",
       "      <td id=\"T_23c6a_row2_col4\" class=\"data row2 col4\" >0.90</td>\n",
       "    </tr>\n",
       "  </tbody>\n",
       "</table>\n"
      ],
      "text/plain": [
       "<pandas.io.formats.style.Styler at 0x1473a1a0b850>"
      ]
     },
     "execution_count": 16,
     "metadata": {},
     "output_type": "execute_result"
    }
   ],
   "source": [
    "# Select the rows with the minimum RMSD for each cluster\n",
    "select = median_scores_filtered.groupby('cluster').rmsd.idxmin()\n",
    "columns = ['cluster', 'tmscore', 'rmsd', 'cluster_size', 'fraction_binder']\n",
    "median_scores_filtered.loc[select,columns].sort_values(by='rmsd').style.pipe(make_pretty)"
   ]
  },
  {
   "cell_type": "markdown",
   "metadata": {},
   "source": [
    "Here we can see that the cluster `Q7XL74.pdb_B` has the lowest median RMSD and the highest median TM-score. It also has a very large size with 40 members."
   ]
  },
  {
   "cell_type": "markdown",
   "metadata": {},
   "source": [
    "## RESULT 2: See clusters ranked by size"
   ]
  },
  {
   "cell_type": "code",
   "execution_count": 17,
   "metadata": {},
   "outputs": [
    {
     "data": {
      "text/html": [
       "<style type=\"text/css\">\n",
       "#T_5b4c1_row0_col1 {\n",
       "  background-color: #38629d;\n",
       "  color: #f1f1f1;\n",
       "}\n",
       "#T_5b4c1_row0_col2, #T_5b4c1_row2_col2 {\n",
       "  background-color: #def5e5;\n",
       "  color: #000000;\n",
       "}\n",
       "#T_5b4c1_row0_col3, #T_5b4c1_row1_col1, #T_5b4c1_row1_col2, #T_5b4c1_row1_col3, #T_5b4c1_row1_col4, #T_5b4c1_row2_col4 {\n",
       "  background-color: #0b0405;\n",
       "  color: #f1f1f1;\n",
       "}\n",
       "#T_5b4c1_row0_col4 {\n",
       "  background-color: #221425;\n",
       "  color: #f1f1f1;\n",
       "}\n",
       "#T_5b4c1_row2_col1 {\n",
       "  background-color: #3c3060;\n",
       "  color: #f1f1f1;\n",
       "}\n",
       "#T_5b4c1_row2_col3 {\n",
       "  background-color: #357aa2;\n",
       "  color: #f1f1f1;\n",
       "}\n",
       "</style>\n",
       "<table id=\"T_5b4c1\">\n",
       "  <thead>\n",
       "    <tr>\n",
       "      <th class=\"blank level0\" >&nbsp;</th>\n",
       "      <th id=\"T_5b4c1_level0_col0\" class=\"col_heading level0 col0\" >cluster</th>\n",
       "      <th id=\"T_5b4c1_level0_col1\" class=\"col_heading level0 col1\" >tmscore</th>\n",
       "      <th id=\"T_5b4c1_level0_col2\" class=\"col_heading level0 col2\" >rmsd</th>\n",
       "      <th id=\"T_5b4c1_level0_col3\" class=\"col_heading level0 col3\" >cluster_size</th>\n",
       "      <th id=\"T_5b4c1_level0_col4\" class=\"col_heading level0 col4\" >fraction_binder</th>\n",
       "    </tr>\n",
       "  </thead>\n",
       "  <tbody>\n",
       "    <tr>\n",
       "      <th id=\"T_5b4c1_level0_row0\" class=\"row_heading level0 row0\" >22</th>\n",
       "      <td id=\"T_5b4c1_row0_col0\" class=\"data row0 col0\" >Q6Z1A9.pdb_B</td>\n",
       "      <td id=\"T_5b4c1_row0_col1\" class=\"data row0 col1\" >0.55</td>\n",
       "      <td id=\"T_5b4c1_row0_col2\" class=\"data row0 col2\" >10.65</td>\n",
       "      <td id=\"T_5b4c1_row0_col3\" class=\"data row0 col3\" >49.00</td>\n",
       "      <td id=\"T_5b4c1_row0_col4\" class=\"data row0 col4\" >0.84</td>\n",
       "    </tr>\n",
       "    <tr>\n",
       "      <th id=\"T_5b4c1_level0_row1\" class=\"row_heading level0 row1\" >59</th>\n",
       "      <td id=\"T_5b4c1_row1_col0\" class=\"data row1 col0\" >Q7XL74.pdb_B</td>\n",
       "      <td id=\"T_5b4c1_row1_col1\" class=\"data row1 col1\" >0.90</td>\n",
       "      <td id=\"T_5b4c1_row1_col2\" class=\"data row1 col2\" >1.49</td>\n",
       "      <td id=\"T_5b4c1_row1_col3\" class=\"data row1 col3\" >40.00</td>\n",
       "      <td id=\"T_5b4c1_row1_col4\" class=\"data row1 col4\" >0.94</td>\n",
       "    </tr>\n",
       "    <tr>\n",
       "      <th id=\"T_5b4c1_level0_row2\" class=\"row_heading level0 row2\" >4</th>\n",
       "      <td id=\"T_5b4c1_row2_col0\" class=\"data row2 col0\" >P42211.pdb_B</td>\n",
       "      <td id=\"T_5b4c1_row2_col1\" class=\"data row2 col1\" >0.66</td>\n",
       "      <td id=\"T_5b4c1_row2_col2\" class=\"data row2 col2\" >10.75</td>\n",
       "      <td id=\"T_5b4c1_row2_col3\" class=\"data row2 col3\" >10.00</td>\n",
       "      <td id=\"T_5b4c1_row2_col4\" class=\"data row2 col4\" >0.90</td>\n",
       "    </tr>\n",
       "  </tbody>\n",
       "</table>\n"
      ],
      "text/plain": [
       "<pandas.io.formats.style.Styler at 0x147341b232e0>"
      ]
     },
     "execution_count": 17,
     "metadata": {},
     "output_type": "execute_result"
    }
   ],
   "source": [
    "# Select the rows with the minimum RMSD for each cluster\n",
    "select = median_scores_filtered.groupby('cluster').rmsd.idxmin()\n",
    "columns = ['cluster', 'tmscore', 'rmsd', 'cluster_size', 'fraction_binder']\n",
    "median_scores_filtered.loc[select, columns].sort_values(by='cluster_size', ascending=False).style.pipe(make_pretty)"
   ]
  },
  {
   "cell_type": "markdown",
   "metadata": {},
   "source": [
    "Here we can see that the cluster `Q6Z1A9.pdb_B` is the largest cluster with 49 members, but it has a much worse RMSD than `Q7XL74.pdb_B`. It would be interesting to look at both and see how they compare. So we managed to reduce more than 43,000 starting models to only two promising clusters!"
   ]
  },
  {
   "cell_type": "markdown",
   "metadata": {},
   "source": [
    "For this example we know that in our list of candidate binders there are 14 homologues of the true binder protein. We can find out which clusters contain these homologues:"
   ]
  },
  {
   "cell_type": "code",
   "execution_count": 25,
   "metadata": {},
   "outputs": [],
   "source": [
    "homologues = ['Q6YY33', 'Q6YY34', 'A0A0P0VKX7', 'Q0JCK8', 'Q6YY31', 'Q7XJV3',\n",
    "       'A0A0N7KFK3', 'Q7XJV0', 'A0A0P0WB87', 'Q6EPT4', 'Q0J314', 'Q6EPT2',\n",
    "       'Q8S5W0', 'Q2QSQ7']"
   ]
  },
  {
   "cell_type": "code",
   "execution_count": 26,
   "metadata": {},
   "outputs": [
    {
     "data": {
      "text/html": [
       "<div>\n",
       "<style scoped>\n",
       "    .dataframe tbody tr th:only-of-type {\n",
       "        vertical-align: middle;\n",
       "    }\n",
       "\n",
       "    .dataframe tbody tr th {\n",
       "        vertical-align: top;\n",
       "    }\n",
       "\n",
       "    .dataframe thead th {\n",
       "        text-align: right;\n",
       "    }\n",
       "</style>\n",
       "<table border=\"1\" class=\"dataframe\">\n",
       "  <thead>\n",
       "    <tr style=\"text-align: right;\">\n",
       "      <th></th>\n",
       "      <th>complex</th>\n",
       "      <th>merged_rep</th>\n",
       "      <th>iptm</th>\n",
       "      <th>iptm+ptm</th>\n",
       "    </tr>\n",
       "  </thead>\n",
       "  <tbody>\n",
       "    <tr>\n",
       "      <th>6</th>\n",
       "      <td>6Q76-1_Q6EPT2-1</td>\n",
       "      <td>Q7XL74.pdb_B</td>\n",
       "      <td>0.913843</td>\n",
       "      <td>0.847186</td>\n",
       "    </tr>\n",
       "    <tr>\n",
       "      <th>14</th>\n",
       "      <td>6Q76-1_Q6EPT4-1</td>\n",
       "      <td>Q7XL74.pdb_B</td>\n",
       "      <td>0.903790</td>\n",
       "      <td>0.819935</td>\n",
       "    </tr>\n",
       "    <tr>\n",
       "      <th>26</th>\n",
       "      <td>6Q76-1_Q2QSQ7-1</td>\n",
       "      <td>Q7XL74.pdb_B</td>\n",
       "      <td>0.892084</td>\n",
       "      <td>0.806683</td>\n",
       "    </tr>\n",
       "    <tr>\n",
       "      <th>30</th>\n",
       "      <td>6Q76-1_Q0J314-1</td>\n",
       "      <td>Q7XL74.pdb_B</td>\n",
       "      <td>0.886320</td>\n",
       "      <td>0.820720</td>\n",
       "    </tr>\n",
       "    <tr>\n",
       "      <th>38</th>\n",
       "      <td>6Q76-1_Q8S5W0-1</td>\n",
       "      <td>Q7XL74.pdb_B</td>\n",
       "      <td>0.875703</td>\n",
       "      <td>0.805274</td>\n",
       "    </tr>\n",
       "    <tr>\n",
       "      <th>43</th>\n",
       "      <td>6Q76-1_Q6YY34-1</td>\n",
       "      <td>Q7XL74.pdb_B</td>\n",
       "      <td>0.867315</td>\n",
       "      <td>0.839418</td>\n",
       "    </tr>\n",
       "    <tr>\n",
       "      <th>47</th>\n",
       "      <td>6Q76-1_Q7XJV3-1</td>\n",
       "      <td>Q7XL74.pdb_B</td>\n",
       "      <td>0.862152</td>\n",
       "      <td>0.831752</td>\n",
       "    </tr>\n",
       "    <tr>\n",
       "      <th>48</th>\n",
       "      <td>6Q76-1_Q6YY33-1</td>\n",
       "      <td>Q7XL74.pdb_B</td>\n",
       "      <td>0.860912</td>\n",
       "      <td>0.830552</td>\n",
       "    </tr>\n",
       "    <tr>\n",
       "      <th>55</th>\n",
       "      <td>6Q76-1_A0A0N7KFK3-1</td>\n",
       "      <td>Q7XL74.pdb_B</td>\n",
       "      <td>0.857097</td>\n",
       "      <td>0.819887</td>\n",
       "    </tr>\n",
       "    <tr>\n",
       "      <th>57</th>\n",
       "      <td>6Q76-1_A0A0P0VKX7-1</td>\n",
       "      <td>Q7XL74.pdb_B</td>\n",
       "      <td>0.854087</td>\n",
       "      <td>0.827703</td>\n",
       "    </tr>\n",
       "    <tr>\n",
       "      <th>63</th>\n",
       "      <td>6Q76-1_A0A0P0WB87-1</td>\n",
       "      <td>Q7XL74.pdb_B</td>\n",
       "      <td>0.843057</td>\n",
       "      <td>0.768634</td>\n",
       "    </tr>\n",
       "    <tr>\n",
       "      <th>71</th>\n",
       "      <td>6Q76-1_Q6YY31-1</td>\n",
       "      <td>Q7XL74.pdb_B</td>\n",
       "      <td>0.825141</td>\n",
       "      <td>0.805893</td>\n",
       "    </tr>\n",
       "    <tr>\n",
       "      <th>76</th>\n",
       "      <td>6Q76-1_Q0JCK8-1</td>\n",
       "      <td>Q7XL74.pdb_B</td>\n",
       "      <td>0.818324</td>\n",
       "      <td>0.793344</td>\n",
       "    </tr>\n",
       "    <tr>\n",
       "      <th>84</th>\n",
       "      <td>6Q76-1_Q7XJV0-1</td>\n",
       "      <td>Q7XL74.pdb_B</td>\n",
       "      <td>0.806434</td>\n",
       "      <td>0.778532</td>\n",
       "    </tr>\n",
       "  </tbody>\n",
       "</table>\n",
       "</div>"
      ],
      "text/plain": [
       "                complex    merged_rep      iptm  iptm+ptm\n",
       "6       6Q76-1_Q6EPT2-1  Q7XL74.pdb_B  0.913843  0.847186\n",
       "14      6Q76-1_Q6EPT4-1  Q7XL74.pdb_B  0.903790  0.819935\n",
       "26      6Q76-1_Q2QSQ7-1  Q7XL74.pdb_B  0.892084  0.806683\n",
       "30      6Q76-1_Q0J314-1  Q7XL74.pdb_B  0.886320  0.820720\n",
       "38      6Q76-1_Q8S5W0-1  Q7XL74.pdb_B  0.875703  0.805274\n",
       "43      6Q76-1_Q6YY34-1  Q7XL74.pdb_B  0.867315  0.839418\n",
       "47      6Q76-1_Q7XJV3-1  Q7XL74.pdb_B  0.862152  0.831752\n",
       "48      6Q76-1_Q6YY33-1  Q7XL74.pdb_B  0.860912  0.830552\n",
       "55  6Q76-1_A0A0N7KFK3-1  Q7XL74.pdb_B  0.857097  0.819887\n",
       "57  6Q76-1_A0A0P0VKX7-1  Q7XL74.pdb_B  0.854087  0.827703\n",
       "63  6Q76-1_A0A0P0WB87-1  Q7XL74.pdb_B  0.843057  0.768634\n",
       "71      6Q76-1_Q6YY31-1  Q7XL74.pdb_B  0.825141  0.805893\n",
       "76      6Q76-1_Q0JCK8-1  Q7XL74.pdb_B  0.818324  0.793344\n",
       "84      6Q76-1_Q7XJV0-1  Q7XL74.pdb_B  0.806434  0.778532"
      ]
     },
     "execution_count": 26,
     "metadata": {},
     "output_type": "execute_result"
    }
   ],
   "source": [
    "clusters[clusters.member.isin(homologues)][['complex','merged_rep','iptm','iptm+ptm']]"
   ]
  },
  {
   "cell_type": "markdown",
   "metadata": {},
   "source": [
    "They are all in the top cluster by RMSD!"
   ]
  },
  {
   "cell_type": "markdown",
   "metadata": {},
   "source": [
    "# 2. Make pymol sessions for the top clusters with `make_pymol_sessions`"
   ]
  },
  {
   "cell_type": "markdown",
   "metadata": {},
   "source": [
    "Run the following command to select the top clusters that we saw above, make pymol sessions of the top clusters, and optionally do structural clustering on each cluster to find subclusters:\n",
    "\n",
    "```bash\n",
    "alphacrv-rank \\\n",
    "  --clusters_dir ./examples/AVRPia/AVRPia_vs_rice_clusters \\\n",
    "  --min_members 5 \\\n",
    "  --min_tmscore 0.2 \\\n",
    "  --max_rmsd 15 \\\n",
    "  --cluster_clusters\n",
    "```\n",
    "\n",
    "The program will show you the top clusters that will be used to make the pymol sessions. You can press `Enter` to continue, or exit the program with `Ctrl+C` to change the filtering parameters."
   ]
  },
  {
   "cell_type": "raw",
   "metadata": {},
   "source": [
    "(env) AlphaCRV$ alphacrv-rank \\\n",
    "--clusters_dir ./examples/AVRPia/AVRPia_vs_rice_clusters \\\n",
    "--min_members 5 \\\n",
    "--min_tmscore 0.2 \\\n",
    "--max_rmsd 15 \\\n",
    "--cluster_clusters\n",
    "INFO:root:Identified 3 top clusters.\n",
    "INFO:root:Top clusters:\n",
    "\n",
    "        cluster  tmscore    rmsd  cluster_size  fraction_binder\n",
    "0  Q6Z1A9.pdb_B  0.54957  10.655          49.0         0.839820\n",
    "1  Q7XL74.pdb_B  0.89660   1.490          40.0         0.935897\n",
    "2  P42211.pdb_B  0.66389  10.750          10.0         0.902703\n",
    "\n",
    "Press Enter to continue, or Ctrl+C to exit and select different filtering parameters: \n",
    "INFO:root:Copying pdbs from the top clusters...\n",
    "INFO:root:Making Pymol sessions...\n",
    "PyMOL>select chain B AND model P42211_repB\n",
    " Selector: selection \"sele\" defined with 6294 atoms.\n",
    "PyMOL>bg white\n",
    "PyMOL>set ray_shadow, 0\n",
    " Setting: ray_shadow set to off.\n",
    "PyMOL>color grey80\n",
    " Executive: Colored 72547 atoms.\n",
    "PyMOL>select chain A\n",
    " Selector: selection \"sele\" defined with 10530 atoms.\n",
    "PyMOL>color slate, sele\n",
    " Executive: Colored 10530 atoms.\n",
    "PyMOL>delete all\n",
    "PyMOL>select chain B AND model Q6Z1A9_repB\n",
    " Selector: selection \"sele\" defined with 3855 atoms.\n",
    "PyMOL>bg white\n",
    "PyMOL>set ray_shadow, 0\n",
    " Setting: ray_shadow set to off.\n",
    "PyMOL>color grey80\n",
    " Executive: Colored 368033 atoms.\n",
    "PyMOL>select chain A\n",
    " Selector: selection \"sele\" defined with 51597 atoms.\n",
    "PyMOL>color slate, sele\n",
    " Executive: Colored 51597 atoms.\n",
    "PyMOL>delete all\n",
    "PyMOL>select chain B AND model Q7XL74_repB\n",
    " Selector: selection \"sele\" defined with 1365 atoms.\n",
    "PyMOL>bg white\n",
    "PyMOL>set ray_shadow, 0\n",
    " Setting: ray_shadow set to off.\n",
    "PyMOL>color grey80\n",
    " Executive: Colored 92930 atoms.\n",
    "PyMOL>select chain A\n",
    " Selector: selection \"sele\" defined with 42120 atoms.\n",
    "PyMOL>color slate, sele\n",
    " Executive: Colored 42120 atoms.\n",
    "PyMOL>delete all\n",
    "INFO:root:Clustering clusters...\n",
    "INFO:root:Clustering P42211.pdb_B\n",
    "INFO:root:Running structural clustering...\n",
    "INFO:root:Processing output...\n",
    "INFO:root:Clustering Q6Z1A9.pdb_B\n",
    "INFO:root:Running structural clustering...\n",
    "INFO:root:Processing output...\n",
    "INFO:root:Clustering Q7XL74.pdb_B\n",
    "INFO:root:Running structural clustering...\n",
    "INFO:root:Processing output...\n",
    "INFO:root:Done!!"
   ]
  },
  {
   "cell_type": "markdown",
   "metadata": {},
   "source": [
    "This command should create the following files in the `./examples/AVRPia/AVRPia_vs_rice_clusters/merged_clusters/` / `merged_clusters` directory:\n",
    "\n",
    "- `clustered_clusters.csv`: Contains the subclusters for each of the top clusters.\n",
    "- `cluster_<cluster_ID>/`: Contains the PDBs of each cluster, and a PyMol session with the cluster members.\n",
    "- `cluster_<cluster_ID>_clusters/`: Contains the results of the `foldseek easy-cluster` run on the cluster members."
   ]
  },
  {
   "cell_type": "markdown",
   "metadata": {},
   "source": [
    "## Read clustered clusters"
   ]
  },
  {
   "cell_type": "markdown",
   "metadata": {},
   "source": [
    "The following DataFrame contains the subclusters for each of the top clusters:"
   ]
  },
  {
   "cell_type": "code",
   "execution_count": 27,
   "metadata": {},
   "outputs": [],
   "source": [
    "clustered_clusters = pd.read_csv(results_dir / 'merged_clusters/clustered_clusters.csv')"
   ]
  },
  {
   "cell_type": "code",
   "execution_count": 28,
   "metadata": {},
   "outputs": [
    {
     "data": {
      "text/html": [
       "<div>\n",
       "<style scoped>\n",
       "    .dataframe tbody tr th:only-of-type {\n",
       "        vertical-align: middle;\n",
       "    }\n",
       "\n",
       "    .dataframe tbody tr th {\n",
       "        vertical-align: top;\n",
       "    }\n",
       "\n",
       "    .dataframe thead th {\n",
       "        text-align: right;\n",
       "    }\n",
       "</style>\n",
       "<table border=\"1\" class=\"dataframe\">\n",
       "  <thead>\n",
       "    <tr style=\"text-align: right;\">\n",
       "      <th></th>\n",
       "      <th>subcluster_rep</th>\n",
       "      <th>member</th>\n",
       "      <th>cluster</th>\n",
       "    </tr>\n",
       "  </thead>\n",
       "  <tbody>\n",
       "    <tr>\n",
       "      <th>0</th>\n",
       "      <td>P42211.pdb_B</td>\n",
       "      <td>P42211</td>\n",
       "      <td>P42211.pdb_B</td>\n",
       "    </tr>\n",
       "    <tr>\n",
       "      <th>1</th>\n",
       "      <td>P42211.pdb_B</td>\n",
       "      <td>Q6F4N5</td>\n",
       "      <td>P42211.pdb_B</td>\n",
       "    </tr>\n",
       "    <tr>\n",
       "      <th>2</th>\n",
       "      <td>P42211.pdb_B</td>\n",
       "      <td>A0A0P0VAB8</td>\n",
       "      <td>P42211.pdb_B</td>\n",
       "    </tr>\n",
       "    <tr>\n",
       "      <th>3</th>\n",
       "      <td>P42211.pdb_B</td>\n",
       "      <td>Q0D5V1</td>\n",
       "      <td>P42211.pdb_B</td>\n",
       "    </tr>\n",
       "    <tr>\n",
       "      <th>4</th>\n",
       "      <td>P42211.pdb_B</td>\n",
       "      <td>Q8LNM1</td>\n",
       "      <td>P42211.pdb_B</td>\n",
       "    </tr>\n",
       "  </tbody>\n",
       "</table>\n",
       "</div>"
      ],
      "text/plain": [
       "  subcluster_rep      member       cluster\n",
       "0   P42211.pdb_B      P42211  P42211.pdb_B\n",
       "1   P42211.pdb_B      Q6F4N5  P42211.pdb_B\n",
       "2   P42211.pdb_B  A0A0P0VAB8  P42211.pdb_B\n",
       "3   P42211.pdb_B      Q0D5V1  P42211.pdb_B\n",
       "4   P42211.pdb_B      Q8LNM1  P42211.pdb_B"
      ]
     },
     "execution_count": 28,
     "metadata": {},
     "output_type": "execute_result"
    }
   ],
   "source": [
    "clustered_clusters.head()"
   ]
  },
  {
   "cell_type": "markdown",
   "metadata": {},
   "source": [
    "Now we can look at the most interesting clusters and their subclusters in more detail:"
   ]
  },
  {
   "cell_type": "markdown",
   "metadata": {},
   "source": [
    "## RESULT 1: Cluster Q7XL74.pdb_B (contains true binder homologs, top cluster by size)"
   ]
  },
  {
   "cell_type": "code",
   "execution_count": 29,
   "metadata": {},
   "outputs": [],
   "source": [
    "cluster = 'Q7XL74.pdb_B'"
   ]
  },
  {
   "cell_type": "markdown",
   "metadata": {},
   "source": [
    "See subclusters:"
   ]
  },
  {
   "cell_type": "code",
   "execution_count": 30,
   "metadata": {},
   "outputs": [
    {
     "data": {
      "text/html": [
       "<div>\n",
       "<style scoped>\n",
       "    .dataframe tbody tr th:only-of-type {\n",
       "        vertical-align: middle;\n",
       "    }\n",
       "\n",
       "    .dataframe tbody tr th {\n",
       "        vertical-align: top;\n",
       "    }\n",
       "\n",
       "    .dataframe thead th {\n",
       "        text-align: right;\n",
       "    }\n",
       "</style>\n",
       "<table border=\"1\" class=\"dataframe\">\n",
       "  <thead>\n",
       "    <tr style=\"text-align: right;\">\n",
       "      <th></th>\n",
       "      <th>subcluster_rep</th>\n",
       "      <th>member</th>\n",
       "      <th>cluster</th>\n",
       "    </tr>\n",
       "  </thead>\n",
       "  <tbody>\n",
       "    <tr>\n",
       "      <th>59</th>\n",
       "      <td>A0A0P0UZA6.pdb_B</td>\n",
       "      <td>A0A0P0UZA6</td>\n",
       "      <td>Q7XL74.pdb_B</td>\n",
       "    </tr>\n",
       "    <tr>\n",
       "      <th>60</th>\n",
       "      <td>Q7XL74.pdb_B</td>\n",
       "      <td>Q7XL74</td>\n",
       "      <td>Q7XL74.pdb_B</td>\n",
       "    </tr>\n",
       "    <tr>\n",
       "      <th>61</th>\n",
       "      <td>Q7XL74.pdb_B</td>\n",
       "      <td>Q0IYI4</td>\n",
       "      <td>Q7XL74.pdb_B</td>\n",
       "    </tr>\n",
       "    <tr>\n",
       "      <th>62</th>\n",
       "      <td>Q7XL74.pdb_B</td>\n",
       "      <td>Q75J02</td>\n",
       "      <td>Q7XL74.pdb_B</td>\n",
       "    </tr>\n",
       "    <tr>\n",
       "      <th>63</th>\n",
       "      <td>Q7XL74.pdb_B</td>\n",
       "      <td>A0A0P0WEB4</td>\n",
       "      <td>Q7XL74.pdb_B</td>\n",
       "    </tr>\n",
       "    <tr>\n",
       "      <th>64</th>\n",
       "      <td>Q7XL74.pdb_B</td>\n",
       "      <td>A0A0P0VRA1</td>\n",
       "      <td>Q7XL74.pdb_B</td>\n",
       "    </tr>\n",
       "    <tr>\n",
       "      <th>65</th>\n",
       "      <td>Q7XL74.pdb_B</td>\n",
       "      <td>Q0JBG2</td>\n",
       "      <td>Q7XL74.pdb_B</td>\n",
       "    </tr>\n",
       "    <tr>\n",
       "      <th>66</th>\n",
       "      <td>Q7XL74.pdb_B</td>\n",
       "      <td>A0A0P0XD00</td>\n",
       "      <td>Q7XL74.pdb_B</td>\n",
       "    </tr>\n",
       "    <tr>\n",
       "      <th>67</th>\n",
       "      <td>Q7XL74.pdb_B</td>\n",
       "      <td>A0A0P0V126</td>\n",
       "      <td>Q7XL74.pdb_B</td>\n",
       "    </tr>\n",
       "    <tr>\n",
       "      <th>68</th>\n",
       "      <td>Q7XL74.pdb_B</td>\n",
       "      <td>A3AYA2</td>\n",
       "      <td>Q7XL74.pdb_B</td>\n",
       "    </tr>\n",
       "    <tr>\n",
       "      <th>69</th>\n",
       "      <td>Q7XL74.pdb_B</td>\n",
       "      <td>Q10KH9</td>\n",
       "      <td>Q7XL74.pdb_B</td>\n",
       "    </tr>\n",
       "    <tr>\n",
       "      <th>70</th>\n",
       "      <td>Q7XL74.pdb_B</td>\n",
       "      <td>Q84TS2</td>\n",
       "      <td>Q7XL74.pdb_B</td>\n",
       "    </tr>\n",
       "    <tr>\n",
       "      <th>71</th>\n",
       "      <td>Q7XL74.pdb_B</td>\n",
       "      <td>Q8LNN6</td>\n",
       "      <td>Q7XL74.pdb_B</td>\n",
       "    </tr>\n",
       "    <tr>\n",
       "      <th>72</th>\n",
       "      <td>Q7XL74.pdb_B</td>\n",
       "      <td>Q8S181</td>\n",
       "      <td>Q7XL74.pdb_B</td>\n",
       "    </tr>\n",
       "    <tr>\n",
       "      <th>73</th>\n",
       "      <td>Q7XL74.pdb_B</td>\n",
       "      <td>Q7G2B2</td>\n",
       "      <td>Q7XL74.pdb_B</td>\n",
       "    </tr>\n",
       "    <tr>\n",
       "      <th>74</th>\n",
       "      <td>Q7XL74.pdb_B</td>\n",
       "      <td>A0A0P0XFR7</td>\n",
       "      <td>Q7XL74.pdb_B</td>\n",
       "    </tr>\n",
       "    <tr>\n",
       "      <th>75</th>\n",
       "      <td>Q7XL74.pdb_B</td>\n",
       "      <td>A3ADD6</td>\n",
       "      <td>Q7XL74.pdb_B</td>\n",
       "    </tr>\n",
       "    <tr>\n",
       "      <th>76</th>\n",
       "      <td>Q7XL74.pdb_B</td>\n",
       "      <td>Q6I5G4</td>\n",
       "      <td>Q7XL74.pdb_B</td>\n",
       "    </tr>\n",
       "    <tr>\n",
       "      <th>77</th>\n",
       "      <td>Q7XL74.pdb_B</td>\n",
       "      <td>Q6YY31</td>\n",
       "      <td>Q7XL74.pdb_B</td>\n",
       "    </tr>\n",
       "    <tr>\n",
       "      <th>78</th>\n",
       "      <td>Q7XL74.pdb_B</td>\n",
       "      <td>Q84TB9</td>\n",
       "      <td>Q7XL74.pdb_B</td>\n",
       "    </tr>\n",
       "    <tr>\n",
       "      <th>79</th>\n",
       "      <td>Q7XL74.pdb_B</td>\n",
       "      <td>Q8LN41</td>\n",
       "      <td>Q7XL74.pdb_B</td>\n",
       "    </tr>\n",
       "    <tr>\n",
       "      <th>80</th>\n",
       "      <td>Q7XL74.pdb_B</td>\n",
       "      <td>B7E663</td>\n",
       "      <td>Q7XL74.pdb_B</td>\n",
       "    </tr>\n",
       "    <tr>\n",
       "      <th>81</th>\n",
       "      <td>Q7XL74.pdb_B</td>\n",
       "      <td>A0A0N7KFK3</td>\n",
       "      <td>Q7XL74.pdb_B</td>\n",
       "    </tr>\n",
       "    <tr>\n",
       "      <th>82</th>\n",
       "      <td>Q7XL74.pdb_B</td>\n",
       "      <td>A0A0P0VKX7</td>\n",
       "      <td>Q7XL74.pdb_B</td>\n",
       "    </tr>\n",
       "    <tr>\n",
       "      <th>83</th>\n",
       "      <td>Q7XL74.pdb_B</td>\n",
       "      <td>A0A0P0WB87</td>\n",
       "      <td>Q7XL74.pdb_B</td>\n",
       "    </tr>\n",
       "    <tr>\n",
       "      <th>84</th>\n",
       "      <td>Q7XL74.pdb_B</td>\n",
       "      <td>Q0JCK8</td>\n",
       "      <td>Q7XL74.pdb_B</td>\n",
       "    </tr>\n",
       "    <tr>\n",
       "      <th>85</th>\n",
       "      <td>Q7XL74.pdb_B</td>\n",
       "      <td>Q6EPT2</td>\n",
       "      <td>Q7XL74.pdb_B</td>\n",
       "    </tr>\n",
       "    <tr>\n",
       "      <th>86</th>\n",
       "      <td>Q7XL74.pdb_B</td>\n",
       "      <td>Q6YY33</td>\n",
       "      <td>Q7XL74.pdb_B</td>\n",
       "    </tr>\n",
       "    <tr>\n",
       "      <th>87</th>\n",
       "      <td>Q7XL74.pdb_B</td>\n",
       "      <td>Q6YY34</td>\n",
       "      <td>Q7XL74.pdb_B</td>\n",
       "    </tr>\n",
       "    <tr>\n",
       "      <th>88</th>\n",
       "      <td>Q7XL74.pdb_B</td>\n",
       "      <td>Q7XJV0</td>\n",
       "      <td>Q7XL74.pdb_B</td>\n",
       "    </tr>\n",
       "    <tr>\n",
       "      <th>89</th>\n",
       "      <td>Q7XL74.pdb_B</td>\n",
       "      <td>Q7XJV3</td>\n",
       "      <td>Q7XL74.pdb_B</td>\n",
       "    </tr>\n",
       "    <tr>\n",
       "      <th>90</th>\n",
       "      <td>Q7XL74.pdb_B</td>\n",
       "      <td>Q2QSQ7</td>\n",
       "      <td>Q7XL74.pdb_B</td>\n",
       "    </tr>\n",
       "    <tr>\n",
       "      <th>91</th>\n",
       "      <td>Q7XL74.pdb_B</td>\n",
       "      <td>A0A0P0V0T5</td>\n",
       "      <td>Q7XL74.pdb_B</td>\n",
       "    </tr>\n",
       "    <tr>\n",
       "      <th>92</th>\n",
       "      <td>Q7XL74.pdb_B</td>\n",
       "      <td>A2ZV04</td>\n",
       "      <td>Q7XL74.pdb_B</td>\n",
       "    </tr>\n",
       "    <tr>\n",
       "      <th>93</th>\n",
       "      <td>Q7XL74.pdb_B</td>\n",
       "      <td>Q5JL91</td>\n",
       "      <td>Q7XL74.pdb_B</td>\n",
       "    </tr>\n",
       "    <tr>\n",
       "      <th>94</th>\n",
       "      <td>Q7XL74.pdb_B</td>\n",
       "      <td>Q8S5W0</td>\n",
       "      <td>Q7XL74.pdb_B</td>\n",
       "    </tr>\n",
       "    <tr>\n",
       "      <th>95</th>\n",
       "      <td>Q7XL74.pdb_B</td>\n",
       "      <td>A0A0P0Y5Q0</td>\n",
       "      <td>Q7XL74.pdb_B</td>\n",
       "    </tr>\n",
       "    <tr>\n",
       "      <th>96</th>\n",
       "      <td>Q7XL74.pdb_B</td>\n",
       "      <td>Q0J314</td>\n",
       "      <td>Q7XL74.pdb_B</td>\n",
       "    </tr>\n",
       "    <tr>\n",
       "      <th>97</th>\n",
       "      <td>Q7XL74.pdb_B</td>\n",
       "      <td>Q6EPT4</td>\n",
       "      <td>Q7XL74.pdb_B</td>\n",
       "    </tr>\n",
       "    <tr>\n",
       "      <th>98</th>\n",
       "      <td>Q7XL74.pdb_B</td>\n",
       "      <td>Q8LMS1</td>\n",
       "      <td>Q7XL74.pdb_B</td>\n",
       "    </tr>\n",
       "  </tbody>\n",
       "</table>\n",
       "</div>"
      ],
      "text/plain": [
       "      subcluster_rep      member       cluster\n",
       "59  A0A0P0UZA6.pdb_B  A0A0P0UZA6  Q7XL74.pdb_B\n",
       "60      Q7XL74.pdb_B      Q7XL74  Q7XL74.pdb_B\n",
       "61      Q7XL74.pdb_B      Q0IYI4  Q7XL74.pdb_B\n",
       "62      Q7XL74.pdb_B      Q75J02  Q7XL74.pdb_B\n",
       "63      Q7XL74.pdb_B  A0A0P0WEB4  Q7XL74.pdb_B\n",
       "64      Q7XL74.pdb_B  A0A0P0VRA1  Q7XL74.pdb_B\n",
       "65      Q7XL74.pdb_B      Q0JBG2  Q7XL74.pdb_B\n",
       "66      Q7XL74.pdb_B  A0A0P0XD00  Q7XL74.pdb_B\n",
       "67      Q7XL74.pdb_B  A0A0P0V126  Q7XL74.pdb_B\n",
       "68      Q7XL74.pdb_B      A3AYA2  Q7XL74.pdb_B\n",
       "69      Q7XL74.pdb_B      Q10KH9  Q7XL74.pdb_B\n",
       "70      Q7XL74.pdb_B      Q84TS2  Q7XL74.pdb_B\n",
       "71      Q7XL74.pdb_B      Q8LNN6  Q7XL74.pdb_B\n",
       "72      Q7XL74.pdb_B      Q8S181  Q7XL74.pdb_B\n",
       "73      Q7XL74.pdb_B      Q7G2B2  Q7XL74.pdb_B\n",
       "74      Q7XL74.pdb_B  A0A0P0XFR7  Q7XL74.pdb_B\n",
       "75      Q7XL74.pdb_B      A3ADD6  Q7XL74.pdb_B\n",
       "76      Q7XL74.pdb_B      Q6I5G4  Q7XL74.pdb_B\n",
       "77      Q7XL74.pdb_B      Q6YY31  Q7XL74.pdb_B\n",
       "78      Q7XL74.pdb_B      Q84TB9  Q7XL74.pdb_B\n",
       "79      Q7XL74.pdb_B      Q8LN41  Q7XL74.pdb_B\n",
       "80      Q7XL74.pdb_B      B7E663  Q7XL74.pdb_B\n",
       "81      Q7XL74.pdb_B  A0A0N7KFK3  Q7XL74.pdb_B\n",
       "82      Q7XL74.pdb_B  A0A0P0VKX7  Q7XL74.pdb_B\n",
       "83      Q7XL74.pdb_B  A0A0P0WB87  Q7XL74.pdb_B\n",
       "84      Q7XL74.pdb_B      Q0JCK8  Q7XL74.pdb_B\n",
       "85      Q7XL74.pdb_B      Q6EPT2  Q7XL74.pdb_B\n",
       "86      Q7XL74.pdb_B      Q6YY33  Q7XL74.pdb_B\n",
       "87      Q7XL74.pdb_B      Q6YY34  Q7XL74.pdb_B\n",
       "88      Q7XL74.pdb_B      Q7XJV0  Q7XL74.pdb_B\n",
       "89      Q7XL74.pdb_B      Q7XJV3  Q7XL74.pdb_B\n",
       "90      Q7XL74.pdb_B      Q2QSQ7  Q7XL74.pdb_B\n",
       "91      Q7XL74.pdb_B  A0A0P0V0T5  Q7XL74.pdb_B\n",
       "92      Q7XL74.pdb_B      A2ZV04  Q7XL74.pdb_B\n",
       "93      Q7XL74.pdb_B      Q5JL91  Q7XL74.pdb_B\n",
       "94      Q7XL74.pdb_B      Q8S5W0  Q7XL74.pdb_B\n",
       "95      Q7XL74.pdb_B  A0A0P0Y5Q0  Q7XL74.pdb_B\n",
       "96      Q7XL74.pdb_B      Q0J314  Q7XL74.pdb_B\n",
       "97      Q7XL74.pdb_B      Q6EPT4  Q7XL74.pdb_B\n",
       "98      Q7XL74.pdb_B      Q8LMS1  Q7XL74.pdb_B"
      ]
     },
     "execution_count": 30,
     "metadata": {},
     "output_type": "execute_result"
    }
   ],
   "source": [
    "clustered_clusters[clustered_clusters.cluster==cluster]"
   ]
  },
  {
   "cell_type": "markdown",
   "metadata": {},
   "source": [
    "Here we have two subclusters (`subcluster_rep` column). However, one of them (`A0A0P0UZA6.pdb_B`) has only one member, and if we look at it in the PyMOL session we can see that it is very similar to the other complexes. The only difference is the HMA domain being shorter. So for our purposes it would be ok to take them all together."
   ]
  },
  {
   "cell_type": "markdown",
   "metadata": {},
   "source": [
    "We can see in the `median_scores` DataFrame the model that has the best alignments to all other structures (best representative of the cluster)."
   ]
  },
  {
   "cell_type": "code",
   "execution_count": 31,
   "metadata": {},
   "outputs": [
    {
     "data": {
      "text/html": [
       "<div>\n",
       "<style scoped>\n",
       "    .dataframe tbody tr th:only-of-type {\n",
       "        vertical-align: middle;\n",
       "    }\n",
       "\n",
       "    .dataframe tbody tr th {\n",
       "        vertical-align: top;\n",
       "    }\n",
       "\n",
       "    .dataframe thead th {\n",
       "        text-align: right;\n",
       "    }\n",
       "</style>\n",
       "<table border=\"1\" class=\"dataframe\">\n",
       "  <thead>\n",
       "    <tr style=\"text-align: right;\">\n",
       "      <th></th>\n",
       "      <th>cluster</th>\n",
       "      <th>member</th>\n",
       "      <th>tmscore</th>\n",
       "      <th>rmsd</th>\n",
       "      <th>aligned_length</th>\n",
       "      <th>cluster_size</th>\n",
       "      <th>fraction_binder</th>\n",
       "    </tr>\n",
       "  </thead>\n",
       "  <tbody>\n",
       "    <tr>\n",
       "      <th>59</th>\n",
       "      <td>Q7XL74.pdb_B</td>\n",
       "      <td>A0A0N7KFK3</td>\n",
       "      <td>0.89660</td>\n",
       "      <td>1.49</td>\n",
       "      <td>141.0</td>\n",
       "      <td>40.0</td>\n",
       "      <td>0.935897</td>\n",
       "    </tr>\n",
       "    <tr>\n",
       "      <th>61</th>\n",
       "      <td>Q7XL74.pdb_B</td>\n",
       "      <td>A0A0P0V0T5</td>\n",
       "      <td>0.89782</td>\n",
       "      <td>1.50</td>\n",
       "      <td>140.0</td>\n",
       "      <td>40.0</td>\n",
       "      <td>0.960000</td>\n",
       "    </tr>\n",
       "    <tr>\n",
       "      <th>93</th>\n",
       "      <td>Q7XL74.pdb_B</td>\n",
       "      <td>Q84TS2</td>\n",
       "      <td>0.90749</td>\n",
       "      <td>1.52</td>\n",
       "      <td>140.0</td>\n",
       "      <td>40.0</td>\n",
       "      <td>0.972973</td>\n",
       "    </tr>\n",
       "    <tr>\n",
       "      <th>62</th>\n",
       "      <td>Q7XL74.pdb_B</td>\n",
       "      <td>A0A0P0V126</td>\n",
       "      <td>0.90529</td>\n",
       "      <td>1.58</td>\n",
       "      <td>140.0</td>\n",
       "      <td>40.0</td>\n",
       "      <td>0.972973</td>\n",
       "    </tr>\n",
       "    <tr>\n",
       "      <th>90</th>\n",
       "      <td>Q7XL74.pdb_B</td>\n",
       "      <td>Q7XJV3</td>\n",
       "      <td>0.90317</td>\n",
       "      <td>1.62</td>\n",
       "      <td>141.0</td>\n",
       "      <td>40.0</td>\n",
       "      <td>0.948052</td>\n",
       "    </tr>\n",
       "    <tr>\n",
       "      <th>84</th>\n",
       "      <td>Q7XL74.pdb_B</td>\n",
       "      <td>Q6YY31</td>\n",
       "      <td>0.90490</td>\n",
       "      <td>1.62</td>\n",
       "      <td>141.0</td>\n",
       "      <td>40.0</td>\n",
       "      <td>0.948052</td>\n",
       "    </tr>\n",
       "    <tr>\n",
       "      <th>63</th>\n",
       "      <td>Q7XL74.pdb_B</td>\n",
       "      <td>A0A0P0VKX7</td>\n",
       "      <td>0.87889</td>\n",
       "      <td>1.74</td>\n",
       "      <td>142.0</td>\n",
       "      <td>40.0</td>\n",
       "      <td>0.936709</td>\n",
       "    </tr>\n",
       "    <tr>\n",
       "      <th>85</th>\n",
       "      <td>Q7XL74.pdb_B</td>\n",
       "      <td>Q6YY33</td>\n",
       "      <td>0.88542</td>\n",
       "      <td>1.74</td>\n",
       "      <td>142.0</td>\n",
       "      <td>40.0</td>\n",
       "      <td>0.948718</td>\n",
       "    </tr>\n",
       "    <tr>\n",
       "      <th>70</th>\n",
       "      <td>Q7XL74.pdb_B</td>\n",
       "      <td>A2ZV04</td>\n",
       "      <td>0.89069</td>\n",
       "      <td>1.74</td>\n",
       "      <td>138.0</td>\n",
       "      <td>40.0</td>\n",
       "      <td>0.972222</td>\n",
       "    </tr>\n",
       "    <tr>\n",
       "      <th>86</th>\n",
       "      <td>Q7XL74.pdb_B</td>\n",
       "      <td>Q6YY34</td>\n",
       "      <td>0.88160</td>\n",
       "      <td>1.82</td>\n",
       "      <td>142.0</td>\n",
       "      <td>40.0</td>\n",
       "      <td>0.936709</td>\n",
       "    </tr>\n",
       "  </tbody>\n",
       "</table>\n",
       "</div>"
      ],
      "text/plain": [
       "         cluster      member  tmscore  rmsd  aligned_length  cluster_size  \\\n",
       "59  Q7XL74.pdb_B  A0A0N7KFK3  0.89660  1.49           141.0          40.0   \n",
       "61  Q7XL74.pdb_B  A0A0P0V0T5  0.89782  1.50           140.0          40.0   \n",
       "93  Q7XL74.pdb_B      Q84TS2  0.90749  1.52           140.0          40.0   \n",
       "62  Q7XL74.pdb_B  A0A0P0V126  0.90529  1.58           140.0          40.0   \n",
       "90  Q7XL74.pdb_B      Q7XJV3  0.90317  1.62           141.0          40.0   \n",
       "84  Q7XL74.pdb_B      Q6YY31  0.90490  1.62           141.0          40.0   \n",
       "63  Q7XL74.pdb_B  A0A0P0VKX7  0.87889  1.74           142.0          40.0   \n",
       "85  Q7XL74.pdb_B      Q6YY33  0.88542  1.74           142.0          40.0   \n",
       "70  Q7XL74.pdb_B      A2ZV04  0.89069  1.74           138.0          40.0   \n",
       "86  Q7XL74.pdb_B      Q6YY34  0.88160  1.82           142.0          40.0   \n",
       "\n",
       "    fraction_binder  \n",
       "59         0.935897  \n",
       "61         0.960000  \n",
       "93         0.972973  \n",
       "62         0.972973  \n",
       "90         0.948052  \n",
       "84         0.948052  \n",
       "63         0.936709  \n",
       "85         0.948718  \n",
       "70         0.972222  \n",
       "86         0.936709  "
      ]
     },
     "execution_count": 31,
     "metadata": {},
     "output_type": "execute_result"
    }
   ],
   "source": [
    "median_scores[median_scores.cluster==cluster].sort_values(by='rmsd').head(10)"
   ]
  },
  {
   "cell_type": "markdown",
   "metadata": {},
   "source": [
    "We can also select the IDs of the binder proteins in this cluster, and run them through a tool such as DAVID to perform enrichment analysis."
   ]
  },
  {
   "cell_type": "code",
   "execution_count": 32,
   "metadata": {},
   "outputs": [],
   "source": [
    "members = clusters[clusters.merged_rep==cluster].member"
   ]
  },
  {
   "cell_type": "code",
   "execution_count": 33,
   "metadata": {},
   "outputs": [
    {
     "name": "stdout",
     "output_type": "stream",
     "text": [
      "A0A0P0UZA6\n",
      "Q6EPT2\n",
      "Q8LN41\n",
      "Q6EPT4\n",
      "Q6I5G4\n",
      "Q7XL74\n",
      "Q84TB9\n",
      "Q2QSQ7\n",
      "A0A0P0WEB4\n",
      "Q0J314\n",
      "A2ZV04\n",
      "Q5JL91\n",
      "Q8S5W0\n",
      "Q8LNN6\n",
      "Q75J02\n",
      "Q6YY34\n",
      "B7E663\n",
      "Q7XJV3\n",
      "Q6YY33\n",
      "Q8LMS1\n",
      "A0A0P0XD00\n",
      "Q7G2B2\n",
      "A0A0N7KFK3\n",
      "A0A0P0V0T5\n",
      "A0A0P0VKX7\n",
      "A0A0P0XFR7\n",
      "A0A0P0Y5Q0\n",
      "A0A0P0WB87\n",
      "Q10KH9\n",
      "A0A0P0V126\n",
      "A3ADD6\n",
      "Q6YY31\n",
      "A3AYA2\n",
      "Q0JBG2\n",
      "Q0JCK8\n",
      "Q8S181\n",
      "A0A0P0VRA1\n",
      "Q7XJV0\n",
      "Q0IYI4\n",
      "Q84TS2\n"
     ]
    }
   ],
   "source": [
    "for m in members:\n",
    "    print(m)"
   ]
  },
  {
   "cell_type": "markdown",
   "metadata": {},
   "source": [
    "Looking at the `examples/AVRPia/AVRPia_vs_rice_clusters/merged_clusters/cluster_Q7XL74.pdb_B/session.pse` file in PyMol, we can visualize the cluster and produce a figure like this:"
   ]
  },
  {
   "cell_type": "markdown",
   "metadata": {},
   "source": [
    "<img src='./pictures/AVRPia_cluster.png' height='600px'>"
   ]
  },
  {
   "cell_type": "markdown",
   "metadata": {},
   "source": [
    "When aligning the HMA domains of the binder structures (grey), the binding of the AVR-Pia protein seems pretty consistent across most of the models in the cluster."
   ]
  },
  {
   "cell_type": "markdown",
   "metadata": {},
   "source": [
    "Tip: In PyMol, you can remove the residues with low pLDDT score to make the figure cleaner, with the command:\n",
    "    \n",
    "```\n",
    "select b < 50; remove sele\n",
    "```"
   ]
  }
 ],
 "metadata": {
  "kernelspec": {
   "display_name": "Python 3",
   "language": "python",
   "name": "python3"
  },
  "language_info": {
   "codemirror_mode": {
    "name": "ipython",
    "version": 3
   },
   "file_extension": ".py",
   "mimetype": "text/x-python",
   "name": "python",
   "nbconvert_exporter": "python",
   "pygments_lexer": "ipython3",
   "version": "3.10.13"
  }
 },
 "nbformat": 4,
 "nbformat_minor": 2
}
