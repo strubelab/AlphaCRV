{
 "cells": [
  {
   "cell_type": "markdown",
   "metadata": {},
   "source": [
    "# Clustering AVR-Pik\n",
    "---"
   ]
  },
  {
   "cell_type": "markdown",
   "metadata": {},
   "source": [
    "This notebook will guide you through the process of clustering 65 complexes of the AVR-Pik protein against a sample of rice proteins. All of the models are dimeric. The 65 models originate from a proteome-wide screen of AVR-Pik against the rice proteome (O. sativa subsp. japonica, 43,000+ initial models). To select this sample we first ran AlphaCRV on all the models, and the 65 structures are part of the best clusters that were identified. Running the pipeline on these models should be enough to reproduce the results."
   ]
  },
  {
   "cell_type": "markdown",
   "metadata": {},
   "source": [
    "# Prerequisites\n",
    "\n",
    "- Install AlphaCRV on a conda environment and activate it\n",
    "- Download the sequences, models and results for this example at [Zenodo](https://zenodo.org/records/10470744)"
   ]
  },
  {
   "cell_type": "markdown",
   "metadata": {},
   "source": [
    "# 1. Cluster the models with the `clustering` command"
   ]
  },
  {
   "cell_type": "markdown",
   "metadata": {},
   "source": [
    "Run the following command to cluster the models. Make sure to change the paths according to your system:\n",
    "\n",
    "```bash\n",
    "alphacrv-cluster \\\n",
    "  --bait ./examples/AVRPik/AVRPik.fasta \\\n",
    "  --binders ./examples/AVRPik/AVRPik_binders.fasta \\\n",
    "  --models_dir ./examples/AVRPik/AVRPik_vs_rice_models \\\n",
    "  --destination ./examples/AVRPik/AVRPik_vs_rice_clusters \\\n",
    "  --cpus 8\n",
    "```"
   ]
  },
  {
   "cell_type": "markdown",
   "metadata": {},
   "source": [
    "After collecting the quality scores from the models in `--models_dir`, it will count how many models are there with an ipTM scores higher than the threshold (0.75 by default). It will prompt you to confirm or to modify the threshold. After that, it will proceed with the clustering."
   ]
  },
  {
   "cell_type": "markdown",
   "metadata": {},
   "source": [
    "The full output is as follows:"
   ]
  },
  {
   "cell_type": "markdown",
   "metadata": {},
   "source": [
    "```\n",
    "(env) AlphaCRV$ alphacrv-cluster \\\n",
    "--bait ./examples/AVRPik/AVRPik.fasta \\\n",
    "--binders ./examples/AVRPik/AVRPik_binders.fasta \\\n",
    "--models_dir ./examples/AVRPik/AVRPik_vs_rice_models \\\n",
    "--destination ./examples/AVRPik/AVRPik_vs_rice_clusters \\\n",
    "--cpus 8\n",
    "INFO:root:Getting quality scores for models in examples/AVRPik/AVRPik_vs_rice_models...\n",
    "INFO:root:Found 65 model directories with quality scores.\n",
    "Will select 65 models with iptm >= 0.75. Press enter to continue, or enter a new threshold: \n",
    "INFO:root:Trimming binder molecules to keep only regions with an average PAE against the bait of up to 10.0...\n",
    "INFO:root:Processed 65 complexes.\n",
    "INFO:root:Writing trimmed sequences to fasta file.\n",
    "INFO:root:Running sequence clustering...\n",
    "INFO:root:Processing output...\n",
    "INFO:root:Running structural clustering...\n",
    "INFO:root:Processing output...\n",
    "INFO:root:Aligning all vs all members of each cluster...\n",
    "INFO:root:Aligning cluster 1 of 4...\n",
    "INFO:root:11 members.\n",
    "INFO:root:Aligning cluster 2 of 4...\n",
    "INFO:root:21 members.\n",
    "INFO:root:Aligning cluster 3 of 4...\n",
    "INFO:root:13 members.\n",
    "INFO:root:Aligning cluster 4 of 4...\n",
    "INFO:root:20 members.\n",
    "INFO:root:Calculating median alignment scores...\n",
    "INFO:root:Done!!\n",
    "```"
   ]
  },
  {
   "cell_type": "markdown",
   "metadata": {},
   "source": [
    "After this step you will have a directory with the following structure:"
   ]
  },
  {
   "cell_type": "markdown",
   "metadata": {},
   "source": [
    "```\n",
    "(env) AlphaCRV$ ll examples/AVRPik/AVRPik_vs_rice_clusters/\n",
    "total 24K\n",
    "-rw-r--r-- 1 example g-example 1.3K Jan  3 16:30 binders_regions.csv\n",
    "drwxr-xr-x 1 example g-example    0 Jan  3 16:31 merged_clusters/\n",
    "drwxr-xr-x 1 example g-example    0 Jan  3 16:30 pdbs_trimmed/\n",
    "drwxr-xr-x 1 example g-example    0 Jan  3 16:30 seqclusters/\n",
    "drwxr-xr-x 1 example g-example    0 Jan  3 16:30 strclusters/\n",
    "-rw-r--r-- 1 example g-example  19K Jan  3 16:30 trimmed_binders.fasta\n",
    "```"
   ]
  },
  {
   "cell_type": "markdown",
   "metadata": {},
   "source": [
    "Now let's look at some of the important files:"
   ]
  },
  {
   "cell_type": "code",
   "execution_count": 1,
   "metadata": {},
   "outputs": [],
   "source": [
    "from pathlib import Path\n",
    "import pandas as pd"
   ]
  },
  {
   "cell_type": "code",
   "execution_count": 2,
   "metadata": {},
   "outputs": [],
   "source": [
    "results_dir = Path('./AVRPik/AVRPik_vs_rice_clusters/')"
   ]
  },
  {
   "cell_type": "markdown",
   "metadata": {},
   "source": [
    "## See clusters"
   ]
  },
  {
   "cell_type": "markdown",
   "metadata": {},
   "source": [
    "The `merged_clusters.csv` file contains the list of models with their corresponding sequence, structure and merged clusters. It also has the quality scores provided by AlphaFold."
   ]
  },
  {
   "cell_type": "code",
   "execution_count": 3,
   "metadata": {},
   "outputs": [],
   "source": [
    "clusters = pd.read_csv(results_dir / 'merged_clusters/merged_clusters.csv')"
   ]
  },
  {
   "cell_type": "code",
   "execution_count": 4,
   "metadata": {},
   "outputs": [
    {
     "data": {
      "text/html": [
       "<div>\n",
       "<style scoped>\n",
       "    .dataframe tbody tr th:only-of-type {\n",
       "        vertical-align: middle;\n",
       "    }\n",
       "\n",
       "    .dataframe tbody tr th {\n",
       "        vertical-align: top;\n",
       "    }\n",
       "\n",
       "    .dataframe thead th {\n",
       "        text-align: right;\n",
       "    }\n",
       "</style>\n",
       "<table border=\"1\" class=\"dataframe\">\n",
       "  <thead>\n",
       "    <tr style=\"text-align: right;\">\n",
       "      <th></th>\n",
       "      <th>complex</th>\n",
       "      <th>str_rep</th>\n",
       "      <th>seq_rep</th>\n",
       "      <th>merged_rep</th>\n",
       "      <th>member</th>\n",
       "      <th>iptm</th>\n",
       "      <th>iptm+ptm</th>\n",
       "    </tr>\n",
       "  </thead>\n",
       "  <tbody>\n",
       "    <tr>\n",
       "      <th>0</th>\n",
       "      <td>6R8K-1_A0A0P0Y5A4-1</td>\n",
       "      <td>Q67VV7.pdb_B</td>\n",
       "      <td>Q6ZEZ7</td>\n",
       "      <td>Q0DEU2.pdb_B</td>\n",
       "      <td>A0A0P0Y5A4</td>\n",
       "      <td>0.954354</td>\n",
       "      <td>0.846711</td>\n",
       "    </tr>\n",
       "    <tr>\n",
       "      <th>1</th>\n",
       "      <td>6R8K-1_A0A0P0YB11-1</td>\n",
       "      <td>Q67VV7.pdb_B</td>\n",
       "      <td>Q6ZEZ7</td>\n",
       "      <td>Q0DEU2.pdb_B</td>\n",
       "      <td>A0A0P0YB11</td>\n",
       "      <td>0.916484</td>\n",
       "      <td>0.841312</td>\n",
       "    </tr>\n",
       "    <tr>\n",
       "      <th>2</th>\n",
       "      <td>6R8K-1_A0A0P0VEM6-1</td>\n",
       "      <td>Q67VV7.pdb_B</td>\n",
       "      <td>Q6ZEZ7</td>\n",
       "      <td>Q0DEU2.pdb_B</td>\n",
       "      <td>A0A0P0VEM6</td>\n",
       "      <td>0.900694</td>\n",
       "      <td>0.839205</td>\n",
       "    </tr>\n",
       "    <tr>\n",
       "      <th>3</th>\n",
       "      <td>6R8K-1_Q8L3T8-1</td>\n",
       "      <td>Q67VV7.pdb_B</td>\n",
       "      <td>Q6ZEZ7</td>\n",
       "      <td>Q0DEU2.pdb_B</td>\n",
       "      <td>Q8L3T8</td>\n",
       "      <td>0.888135</td>\n",
       "      <td>0.842678</td>\n",
       "    </tr>\n",
       "    <tr>\n",
       "      <th>4</th>\n",
       "      <td>6R8K-1_Q2RAL3-1</td>\n",
       "      <td>Q6K9R5.pdb_B</td>\n",
       "      <td>Q6ZBC3</td>\n",
       "      <td>Q6K9R5.pdb_B</td>\n",
       "      <td>Q2RAL3</td>\n",
       "      <td>0.862302</td>\n",
       "      <td>0.757913</td>\n",
       "    </tr>\n",
       "    <tr>\n",
       "      <th>...</th>\n",
       "      <td>...</td>\n",
       "      <td>...</td>\n",
       "      <td>...</td>\n",
       "      <td>...</td>\n",
       "      <td>...</td>\n",
       "      <td>...</td>\n",
       "      <td>...</td>\n",
       "    </tr>\n",
       "    <tr>\n",
       "      <th>60</th>\n",
       "      <td>6R8K-1_Q0DBF4-1</td>\n",
       "      <td>A3BDZ2.pdb_B</td>\n",
       "      <td>Q0DBF4</td>\n",
       "      <td>A3BDZ2.pdb_B</td>\n",
       "      <td>Q0DBF4</td>\n",
       "      <td>0.758313</td>\n",
       "      <td>0.778655</td>\n",
       "    </tr>\n",
       "    <tr>\n",
       "      <th>61</th>\n",
       "      <td>6R8K-1_A3ADD6-1</td>\n",
       "      <td>Q6K9R5.pdb_B</td>\n",
       "      <td>Q7G2B2</td>\n",
       "      <td>Q6K9R5.pdb_B</td>\n",
       "      <td>A3ADD6</td>\n",
       "      <td>0.756883</td>\n",
       "      <td>0.752243</td>\n",
       "    </tr>\n",
       "    <tr>\n",
       "      <th>62</th>\n",
       "      <td>6R8K-1_Q0JCK8-1</td>\n",
       "      <td>Q6K9R5.pdb_B</td>\n",
       "      <td>A0A0N7KFK3</td>\n",
       "      <td>Q6K9R5.pdb_B</td>\n",
       "      <td>Q0JCK8</td>\n",
       "      <td>0.756162</td>\n",
       "      <td>0.744660</td>\n",
       "    </tr>\n",
       "    <tr>\n",
       "      <th>63</th>\n",
       "      <td>6R8K-1_Q0JKW0-1</td>\n",
       "      <td>A0A0P0WKJ4.pdb_B</td>\n",
       "      <td>A0A0P0Y219</td>\n",
       "      <td>A0A0P0WKJ4.pdb_B</td>\n",
       "      <td>Q0JKW0</td>\n",
       "      <td>0.755506</td>\n",
       "      <td>0.758945</td>\n",
       "    </tr>\n",
       "    <tr>\n",
       "      <th>64</th>\n",
       "      <td>6R8K-1_A3BDZ2-1</td>\n",
       "      <td>A3BDZ2.pdb_B</td>\n",
       "      <td>A3BDZ2</td>\n",
       "      <td>A3BDZ2.pdb_B</td>\n",
       "      <td>A3BDZ2</td>\n",
       "      <td>0.753585</td>\n",
       "      <td>0.738408</td>\n",
       "    </tr>\n",
       "  </tbody>\n",
       "</table>\n",
       "<p>65 rows × 7 columns</p>\n",
       "</div>"
      ],
      "text/plain": [
       "                complex           str_rep     seq_rep        merged_rep  \\\n",
       "0   6R8K-1_A0A0P0Y5A4-1      Q67VV7.pdb_B      Q6ZEZ7      Q0DEU2.pdb_B   \n",
       "1   6R8K-1_A0A0P0YB11-1      Q67VV7.pdb_B      Q6ZEZ7      Q0DEU2.pdb_B   \n",
       "2   6R8K-1_A0A0P0VEM6-1      Q67VV7.pdb_B      Q6ZEZ7      Q0DEU2.pdb_B   \n",
       "3       6R8K-1_Q8L3T8-1      Q67VV7.pdb_B      Q6ZEZ7      Q0DEU2.pdb_B   \n",
       "4       6R8K-1_Q2RAL3-1      Q6K9R5.pdb_B      Q6ZBC3      Q6K9R5.pdb_B   \n",
       "..                  ...               ...         ...               ...   \n",
       "60      6R8K-1_Q0DBF4-1      A3BDZ2.pdb_B      Q0DBF4      A3BDZ2.pdb_B   \n",
       "61      6R8K-1_A3ADD6-1      Q6K9R5.pdb_B      Q7G2B2      Q6K9R5.pdb_B   \n",
       "62      6R8K-1_Q0JCK8-1      Q6K9R5.pdb_B  A0A0N7KFK3      Q6K9R5.pdb_B   \n",
       "63      6R8K-1_Q0JKW0-1  A0A0P0WKJ4.pdb_B  A0A0P0Y219  A0A0P0WKJ4.pdb_B   \n",
       "64      6R8K-1_A3BDZ2-1      A3BDZ2.pdb_B      A3BDZ2      A3BDZ2.pdb_B   \n",
       "\n",
       "        member      iptm  iptm+ptm  \n",
       "0   A0A0P0Y5A4  0.954354  0.846711  \n",
       "1   A0A0P0YB11  0.916484  0.841312  \n",
       "2   A0A0P0VEM6  0.900694  0.839205  \n",
       "3       Q8L3T8  0.888135  0.842678  \n",
       "4       Q2RAL3  0.862302  0.757913  \n",
       "..         ...       ...       ...  \n",
       "60      Q0DBF4  0.758313  0.778655  \n",
       "61      A3ADD6  0.756883  0.752243  \n",
       "62      Q0JCK8  0.756162  0.744660  \n",
       "63      Q0JKW0  0.755506  0.758945  \n",
       "64      A3BDZ2  0.753585  0.738408  \n",
       "\n",
       "[65 rows x 7 columns]"
      ]
     },
     "execution_count": 4,
     "metadata": {},
     "output_type": "execute_result"
    }
   ],
   "source": [
    "clusters"
   ]
  },
  {
   "cell_type": "markdown",
   "metadata": {},
   "source": [
    "The columns of the `clusters` DataFrame are:\n",
    "- `complex`: The name of the complex. This is the same name as the directory where the model is stored.\n",
    "- `str_rep`: Name of the structure cluster representative\n",
    "- `seq_rep`: Name of the sequence cluster representative\n",
    "- `merged_rep`: Name of the merged cluster representative (sequence + structure)\n",
    "- `member`: The ID of the binder protein\n",
    "- `iptm`: The ipTM score of the model\n",
    "- `iptm+ptm`: The ipTM+PTM score of the model (it is calculated by AlphaFold as 0.8*ipTM + 0.2*pTM)"
   ]
  },
  {
   "cell_type": "markdown",
   "metadata": {},
   "source": [
    "See the number of different merged clusters:"
   ]
  },
  {
   "cell_type": "code",
   "execution_count": 5,
   "metadata": {},
   "outputs": [
    {
     "data": {
      "text/plain": [
       "(4,)"
      ]
     },
     "execution_count": 5,
     "metadata": {},
     "output_type": "execute_result"
    }
   ],
   "source": [
    "clusters.merged_rep.unique().shape"
   ]
  },
  {
   "cell_type": "markdown",
   "metadata": {},
   "source": [
    "For this example, the models and sequences from the 65 binder proteins were summarized in 4 clusters. Much fewer structures to sort through!"
   ]
  },
  {
   "cell_type": "markdown",
   "metadata": {},
   "source": [
    "## See alignment scores"
   ]
  },
  {
   "cell_type": "markdown",
   "metadata": {},
   "source": [
    "Alignment scores are calcualted for each cluster by aligning all vs all members of the cluster."
   ]
  },
  {
   "cell_type": "code",
   "execution_count": 6,
   "metadata": {},
   "outputs": [],
   "source": [
    "alignment_scores = pd.read_csv(results_dir / 'merged_clusters/alignment_scores.csv')"
   ]
  },
  {
   "cell_type": "code",
   "execution_count": 7,
   "metadata": {},
   "outputs": [
    {
     "data": {
      "text/html": [
       "<div>\n",
       "<style scoped>\n",
       "    .dataframe tbody tr th:only-of-type {\n",
       "        vertical-align: middle;\n",
       "    }\n",
       "\n",
       "    .dataframe tbody tr th {\n",
       "        vertical-align: top;\n",
       "    }\n",
       "\n",
       "    .dataframe thead th {\n",
       "        text-align: right;\n",
       "    }\n",
       "</style>\n",
       "<table border=\"1\" class=\"dataframe\">\n",
       "  <thead>\n",
       "    <tr style=\"text-align: right;\">\n",
       "      <th></th>\n",
       "      <th>cluster</th>\n",
       "      <th>ref</th>\n",
       "      <th>member</th>\n",
       "      <th>tmscore_ref</th>\n",
       "      <th>tmscore_m</th>\n",
       "      <th>aligned_length</th>\n",
       "      <th>rmsd</th>\n",
       "    </tr>\n",
       "  </thead>\n",
       "  <tbody>\n",
       "    <tr>\n",
       "      <th>0</th>\n",
       "      <td>Q0DEU2.pdb_B</td>\n",
       "      <td>A0A0P0Y5A4</td>\n",
       "      <td>A0A0P0YB11</td>\n",
       "      <td>0.88555</td>\n",
       "      <td>0.97405</td>\n",
       "      <td>432</td>\n",
       "      <td>1.41</td>\n",
       "    </tr>\n",
       "    <tr>\n",
       "      <th>1</th>\n",
       "      <td>Q0DEU2.pdb_B</td>\n",
       "      <td>A0A0P0Y5A4</td>\n",
       "      <td>A0A0P0VEM6</td>\n",
       "      <td>0.86424</td>\n",
       "      <td>0.91255</td>\n",
       "      <td>440</td>\n",
       "      <td>3.06</td>\n",
       "    </tr>\n",
       "    <tr>\n",
       "      <th>2</th>\n",
       "      <td>Q0DEU2.pdb_B</td>\n",
       "      <td>A0A0P0Y5A4</td>\n",
       "      <td>Q8L3T8</td>\n",
       "      <td>0.85603</td>\n",
       "      <td>0.93629</td>\n",
       "      <td>430</td>\n",
       "      <td>2.58</td>\n",
       "    </tr>\n",
       "    <tr>\n",
       "      <th>3</th>\n",
       "      <td>Q0DEU2.pdb_B</td>\n",
       "      <td>A0A0P0Y5A4</td>\n",
       "      <td>B9EWP2</td>\n",
       "      <td>0.86538</td>\n",
       "      <td>0.95866</td>\n",
       "      <td>425</td>\n",
       "      <td>2.16</td>\n",
       "    </tr>\n",
       "    <tr>\n",
       "      <th>4</th>\n",
       "      <td>Q0DEU2.pdb_B</td>\n",
       "      <td>A0A0P0Y5A4</td>\n",
       "      <td>Q7XV05</td>\n",
       "      <td>0.37127</td>\n",
       "      <td>0.61033</td>\n",
       "      <td>271</td>\n",
       "      <td>13.11</td>\n",
       "    </tr>\n",
       "  </tbody>\n",
       "</table>\n",
       "</div>"
      ],
      "text/plain": [
       "        cluster         ref      member  tmscore_ref  tmscore_m  \\\n",
       "0  Q0DEU2.pdb_B  A0A0P0Y5A4  A0A0P0YB11      0.88555    0.97405   \n",
       "1  Q0DEU2.pdb_B  A0A0P0Y5A4  A0A0P0VEM6      0.86424    0.91255   \n",
       "2  Q0DEU2.pdb_B  A0A0P0Y5A4      Q8L3T8      0.85603    0.93629   \n",
       "3  Q0DEU2.pdb_B  A0A0P0Y5A4      B9EWP2      0.86538    0.95866   \n",
       "4  Q0DEU2.pdb_B  A0A0P0Y5A4      Q7XV05      0.37127    0.61033   \n",
       "\n",
       "   aligned_length   rmsd  \n",
       "0             432   1.41  \n",
       "1             440   3.06  \n",
       "2             430   2.58  \n",
       "3             425   2.16  \n",
       "4             271  13.11  "
      ]
     },
     "execution_count": 7,
     "metadata": {},
     "output_type": "execute_result"
    }
   ],
   "source": [
    "alignment_scores.head()"
   ]
  },
  {
   "cell_type": "markdown",
   "metadata": {},
   "source": [
    "The columns of the `alignment_scores` DataFrame are:\n",
    "- `cluster`: The name of the cluster\n",
    "- `ref`: Binder ID of the reference structure in the alignment\n",
    "- `member`: Binder ID of the second structure in the alignment\n",
    "- `tmscore_ref`: TM-score based on the reference structure\n",
    "- `tmscore_m`: TM-score based on the second structure\n",
    "- `aligned_length`: Length of the alignment\n",
    "- `rmsd`: RMSD of the alignment\n",
    "\n",
    "Based on these scores, the median scores are calculated for each cluster member to find the best representative of the cluster (the one with lowest RMSD score to the other members)."
   ]
  },
  {
   "cell_type": "markdown",
   "metadata": {},
   "source": [
    "## Read median scores and find top clusters"
   ]
  },
  {
   "cell_type": "markdown",
   "metadata": {},
   "source": [
    "Now we can rank the clusters based on the median alignment scores of the cluster representatives:"
   ]
  },
  {
   "cell_type": "code",
   "execution_count": 8,
   "metadata": {},
   "outputs": [],
   "source": [
    "median_scores = pd.read_csv(results_dir / 'merged_clusters/median_scores.csv')"
   ]
  },
  {
   "cell_type": "code",
   "execution_count": 9,
   "metadata": {},
   "outputs": [
    {
     "data": {
      "text/plain": [
       "(65, 7)"
      ]
     },
     "execution_count": 9,
     "metadata": {},
     "output_type": "execute_result"
    }
   ],
   "source": [
    "median_scores.shape"
   ]
  },
  {
   "cell_type": "markdown",
   "metadata": {},
   "source": [
    "The `median_scores` DataFrame contains the median alignment scores of each cluster member when aligned to all other members of the same cluster."
   ]
  },
  {
   "cell_type": "code",
   "execution_count": 10,
   "metadata": {},
   "outputs": [
    {
     "data": {
      "text/html": [
       "<div>\n",
       "<style scoped>\n",
       "    .dataframe tbody tr th:only-of-type {\n",
       "        vertical-align: middle;\n",
       "    }\n",
       "\n",
       "    .dataframe tbody tr th {\n",
       "        vertical-align: top;\n",
       "    }\n",
       "\n",
       "    .dataframe thead th {\n",
       "        text-align: right;\n",
       "    }\n",
       "</style>\n",
       "<table border=\"1\" class=\"dataframe\">\n",
       "  <thead>\n",
       "    <tr style=\"text-align: right;\">\n",
       "      <th></th>\n",
       "      <th>cluster</th>\n",
       "      <th>member</th>\n",
       "      <th>tmscore</th>\n",
       "      <th>rmsd</th>\n",
       "      <th>aligned_length</th>\n",
       "      <th>cluster_size</th>\n",
       "      <th>fraction_binder</th>\n",
       "    </tr>\n",
       "  </thead>\n",
       "  <tbody>\n",
       "    <tr>\n",
       "      <th>0</th>\n",
       "      <td>A0A0P0WKJ4.pdb_B</td>\n",
       "      <td>A0A0P0W913</td>\n",
       "      <td>0.43642</td>\n",
       "      <td>15.29</td>\n",
       "      <td>250.0</td>\n",
       "      <td>20.0</td>\n",
       "      <td>0.826316</td>\n",
       "    </tr>\n",
       "    <tr>\n",
       "      <th>1</th>\n",
       "      <td>A0A0P0WKJ4.pdb_B</td>\n",
       "      <td>A0A0P0WKJ4</td>\n",
       "      <td>0.31741</td>\n",
       "      <td>13.10</td>\n",
       "      <td>219.0</td>\n",
       "      <td>20.0</td>\n",
       "      <td>0.540773</td>\n",
       "    </tr>\n",
       "    <tr>\n",
       "      <th>2</th>\n",
       "      <td>A0A0P0WKJ4.pdb_B</td>\n",
       "      <td>A0A0P0WQF2</td>\n",
       "      <td>0.40264</td>\n",
       "      <td>12.55</td>\n",
       "      <td>226.0</td>\n",
       "      <td>20.0</td>\n",
       "      <td>0.760000</td>\n",
       "    </tr>\n",
       "    <tr>\n",
       "      <th>3</th>\n",
       "      <td>A0A0P0WKJ4.pdb_B</td>\n",
       "      <td>A0A0P0XBZ1</td>\n",
       "      <td>0.26659</td>\n",
       "      <td>17.31</td>\n",
       "      <td>266.0</td>\n",
       "      <td>20.0</td>\n",
       "      <td>0.444730</td>\n",
       "    </tr>\n",
       "    <tr>\n",
       "      <th>4</th>\n",
       "      <td>A0A0P0WKJ4.pdb_B</td>\n",
       "      <td>A0A0P0XUC4</td>\n",
       "      <td>0.31355</td>\n",
       "      <td>16.23</td>\n",
       "      <td>268.0</td>\n",
       "      <td>20.0</td>\n",
       "      <td>0.486111</td>\n",
       "    </tr>\n",
       "  </tbody>\n",
       "</table>\n",
       "</div>"
      ],
      "text/plain": [
       "            cluster      member  tmscore   rmsd  aligned_length  cluster_size  \\\n",
       "0  A0A0P0WKJ4.pdb_B  A0A0P0W913  0.43642  15.29           250.0          20.0   \n",
       "1  A0A0P0WKJ4.pdb_B  A0A0P0WKJ4  0.31741  13.10           219.0          20.0   \n",
       "2  A0A0P0WKJ4.pdb_B  A0A0P0WQF2  0.40264  12.55           226.0          20.0   \n",
       "3  A0A0P0WKJ4.pdb_B  A0A0P0XBZ1  0.26659  17.31           266.0          20.0   \n",
       "4  A0A0P0WKJ4.pdb_B  A0A0P0XUC4  0.31355  16.23           268.0          20.0   \n",
       "\n",
       "   fraction_binder  \n",
       "0         0.826316  \n",
       "1         0.540773  \n",
       "2         0.760000  \n",
       "3         0.444730  \n",
       "4         0.486111  "
      ]
     },
     "execution_count": 10,
     "metadata": {},
     "output_type": "execute_result"
    }
   ],
   "source": [
    "median_scores.head()"
   ]
  },
  {
   "cell_type": "markdown",
   "metadata": {},
   "source": [
    "The columns of the `median_scores` DataFrame are:\n",
    "- `cluster`: The name of the cluster\n",
    "- `member`: ID of the cluster member (binder molecule)\n",
    "- `tmscore`: Median TM-score of the complex against all other complexes in this cluster\n",
    "- `rmsd`: Median RMSD of the complex against all other complexes in this cluster\n",
    "- `aligned_length`: Median length of the alignment\n",
    "- `cluster_size`\n",
    "- `fraction_binder`: In average, how much of the binder molecule is included in the alignments of this complex against all other complexes (calculated as `(aligned_length - bait_length)/binder_length`). This is just meant to be an approximation of how complete the aligmnents are for this cluster member."
   ]
  },
  {
   "cell_type": "markdown",
   "metadata": {},
   "source": [
    "The next step is to select the cluster representatives. For this, we first need to filter out the cluster members with poor quality alignments, according to the following criteria:\n",
    "- Small size\n",
    "- Low median TM-score\n",
    "- High median RMSD\n",
    "- Low fraction of the binder aligned in the cluster representative"
   ]
  },
  {
   "cell_type": "code",
   "execution_count": 11,
   "metadata": {},
   "outputs": [],
   "source": [
    "# Select the clusters with the following criteria:\n",
    "select = ((median_scores.cluster_size >= 5) & \\\n",
    "            (median_scores.tmscore >= 0.2) & \\\n",
    "            (median_scores.fraction_binder >= 0.2) & \\\n",
    "            (median_scores.rmsd <= 15))\n",
    "median_scores_filtered = median_scores[select]"
   ]
  },
  {
   "cell_type": "code",
   "execution_count": 12,
   "metadata": {},
   "outputs": [
    {
     "data": {
      "text/plain": [
       "(51, 7)"
      ]
     },
     "execution_count": 12,
     "metadata": {},
     "output_type": "execute_result"
    }
   ],
   "source": [
    "median_scores_filtered.shape"
   ]
  },
  {
   "cell_type": "markdown",
   "metadata": {},
   "source": [
    "See how many clusters are left after filtering:"
   ]
  },
  {
   "cell_type": "code",
   "execution_count": 13,
   "metadata": {},
   "outputs": [
    {
     "data": {
      "text/plain": [
       "(4,)"
      ]
     },
     "execution_count": 13,
     "metadata": {},
     "output_type": "execute_result"
    }
   ],
   "source": [
    "median_scores_filtered.cluster.unique().shape"
   ]
  },
  {
   "cell_type": "markdown",
   "metadata": {},
   "source": [
    "Function to format tables:"
   ]
  },
  {
   "cell_type": "code",
   "execution_count": 14,
   "metadata": {},
   "outputs": [],
   "source": [
    "import seaborn as sns\n",
    "cm_r = sns.color_palette(\"mako_r\", as_cmap=True)\n",
    "cm = sns.color_palette(\"mako\", as_cmap=True)"
   ]
  },
  {
   "cell_type": "code",
   "execution_count": 15,
   "metadata": {},
   "outputs": [],
   "source": [
    "def make_pretty(styler):\n",
    "    styler.format(precision=2)\n",
    "    styler.background_gradient(axis=0, cmap=cm_r, subset=pd.IndexSlice[:,\"cluster_size\"],vmin=5,vmax=15)\n",
    "    styler.background_gradient(axis=0, cmap=cm_r, subset=pd.IndexSlice[:,\"tmscore\"],vmin=0.2,vmax=0.8)\n",
    "    styler.background_gradient(axis=0, cmap=cm, subset=pd.IndexSlice[:,\"rmsd\"],vmin=2,vmax=10)\n",
    "    styler.background_gradient(axis=0, cmap=cm_r, subset=pd.IndexSlice[:,\"fraction_binder\"],vmin=0.2,vmax=0.9)\n",
    "    return styler"
   ]
  },
  {
   "cell_type": "markdown",
   "metadata": {},
   "source": [
    "## RESULT 1: See clusters ranked by RMSD"
   ]
  },
  {
   "cell_type": "markdown",
   "metadata": {},
   "source": [
    "Finally, we can rank the clusters and see which ones have a good combination of low RMSD and large cluster size. These ones are the most likely to contain the true binder."
   ]
  },
  {
   "cell_type": "code",
   "execution_count": 16,
   "metadata": {},
   "outputs": [
    {
     "data": {
      "text/html": [
       "<style type=\"text/css\">\n",
       "#T_bc145_row0_col1, #T_bc145_row0_col4, #T_bc145_row1_col1, #T_bc145_row1_col4, #T_bc145_row2_col3, #T_bc145_row3_col3 {\n",
       "  background-color: #0b0405;\n",
       "  color: #f1f1f1;\n",
       "}\n",
       "#T_bc145_row0_col2 {\n",
       "  background-color: #11070c;\n",
       "  color: #f1f1f1;\n",
       "}\n",
       "#T_bc145_row0_col3 {\n",
       "  background-color: #395d9c;\n",
       "  color: #f1f1f1;\n",
       "}\n",
       "#T_bc145_row1_col2 {\n",
       "  background-color: #342548;\n",
       "  color: #f1f1f1;\n",
       "}\n",
       "#T_bc145_row1_col3 {\n",
       "  background-color: #382a54;\n",
       "  color: #f1f1f1;\n",
       "}\n",
       "#T_bc145_row2_col1 {\n",
       "  background-color: #68d1ad;\n",
       "  color: #000000;\n",
       "}\n",
       "#T_bc145_row2_col2 {\n",
       "  background-color: #3c5598;\n",
       "  color: #f1f1f1;\n",
       "}\n",
       "#T_bc145_row2_col4 {\n",
       "  background-color: #85d9b1;\n",
       "  color: #000000;\n",
       "}\n",
       "#T_bc145_row3_col1 {\n",
       "  background-color: #35a0ab;\n",
       "  color: #f1f1f1;\n",
       "}\n",
       "#T_bc145_row3_col2 {\n",
       "  background-color: #def5e5;\n",
       "  color: #000000;\n",
       "}\n",
       "#T_bc145_row3_col4 {\n",
       "  background-color: #1b0f1a;\n",
       "  color: #f1f1f1;\n",
       "}\n",
       "</style>\n",
       "<table id=\"T_bc145\">\n",
       "  <thead>\n",
       "    <tr>\n",
       "      <th class=\"blank level0\" >&nbsp;</th>\n",
       "      <th id=\"T_bc145_level0_col0\" class=\"col_heading level0 col0\" >cluster</th>\n",
       "      <th id=\"T_bc145_level0_col1\" class=\"col_heading level0 col1\" >tmscore</th>\n",
       "      <th id=\"T_bc145_level0_col2\" class=\"col_heading level0 col2\" >rmsd</th>\n",
       "      <th id=\"T_bc145_level0_col3\" class=\"col_heading level0 col3\" >cluster_size</th>\n",
       "      <th id=\"T_bc145_level0_col4\" class=\"col_heading level0 col4\" >fraction_binder</th>\n",
       "    </tr>\n",
       "  </thead>\n",
       "  <tbody>\n",
       "    <tr>\n",
       "      <th id=\"T_bc145_level0_row0\" class=\"row_heading level0 row0\" >41</th>\n",
       "      <td id=\"T_bc145_row0_col0\" class=\"data row0 col0\" >Q0DEU2.pdb_B</td>\n",
       "      <td id=\"T_bc145_row0_col1\" class=\"data row0 col1\" >0.94</td>\n",
       "      <td id=\"T_bc145_row0_col2\" class=\"data row0 col2\" >2.17</td>\n",
       "      <td id=\"T_bc145_row0_col3\" class=\"data row0 col3\" >11.00</td>\n",
       "      <td id=\"T_bc145_row0_col4\" class=\"data row0 col4\" >0.99</td>\n",
       "    </tr>\n",
       "    <tr>\n",
       "      <th id=\"T_bc145_level0_row1\" class=\"row_heading level0 row1\" >28</th>\n",
       "      <td id=\"T_bc145_row1_col0\" class=\"data row1 col0\" >A3BDZ2.pdb_B</td>\n",
       "      <td id=\"T_bc145_row1_col1\" class=\"data row1 col1\" >0.82</td>\n",
       "      <td id=\"T_bc145_row1_col2\" class=\"data row1 col2\" >3.38</td>\n",
       "      <td id=\"T_bc145_row1_col3\" class=\"data row1 col3\" >13.00</td>\n",
       "      <td id=\"T_bc145_row1_col4\" class=\"data row1 col4\" >0.94</td>\n",
       "    </tr>\n",
       "    <tr>\n",
       "      <th id=\"T_bc145_level0_row2\" class=\"row_heading level0 row2\" >54</th>\n",
       "      <td id=\"T_bc145_row2_col0\" class=\"data row2 col0\" >Q6K9R5.pdb_B</td>\n",
       "      <td id=\"T_bc145_row2_col1\" class=\"data row2 col1\" >0.31</td>\n",
       "      <td id=\"T_bc145_row2_col2\" class=\"data row2 col2\" >4.99</td>\n",
       "      <td id=\"T_bc145_row2_col3\" class=\"data row2 col3\" >21.00</td>\n",
       "      <td id=\"T_bc145_row2_col4\" class=\"data row2 col4\" >0.31</td>\n",
       "    </tr>\n",
       "    <tr>\n",
       "      <th id=\"T_bc145_level0_row3\" class=\"row_heading level0 row3\" >9</th>\n",
       "      <td id=\"T_bc145_row3_col0\" class=\"data row3 col0\" >A0A0P0WKJ4.pdb_B</td>\n",
       "      <td id=\"T_bc145_row3_col1\" class=\"data row3 col1\" >0.42</td>\n",
       "      <td id=\"T_bc145_row3_col2\" class=\"data row3 col2\" >10.93</td>\n",
       "      <td id=\"T_bc145_row3_col3\" class=\"data row3 col3\" >20.00</td>\n",
       "      <td id=\"T_bc145_row3_col4\" class=\"data row3 col4\" >0.86</td>\n",
       "    </tr>\n",
       "  </tbody>\n",
       "</table>\n"
      ],
      "text/plain": [
       "<pandas.io.formats.style.Styler at 0x14aed93c1300>"
      ]
     },
     "execution_count": 16,
     "metadata": {},
     "output_type": "execute_result"
    }
   ],
   "source": [
    "# Select the rows with the minimum RMSD for each cluster\n",
    "select = median_scores_filtered.groupby('cluster').rmsd.idxmin()\n",
    "columns = ['cluster', 'tmscore', 'rmsd', 'cluster_size', 'fraction_binder']\n",
    "median_scores_filtered.loc[select,columns].sort_values(by='rmsd').style.pipe(make_pretty)"
   ]
  },
  {
   "cell_type": "markdown",
   "metadata": {},
   "source": [
    "Here we can see that the cluster `Q0DEU2.pdb_B` has the lowest median RMSD and the highest median TM-score. However, it has a relatively small size with only 11 members."
   ]
  },
  {
   "cell_type": "markdown",
   "metadata": {},
   "source": [
    "## RESULT 2: See clusters ranked by size"
   ]
  },
  {
   "cell_type": "code",
   "execution_count": 17,
   "metadata": {},
   "outputs": [
    {
     "data": {
      "text/html": [
       "<style type=\"text/css\">\n",
       "#T_2eba2_row0_col1 {\n",
       "  background-color: #68d1ad;\n",
       "  color: #000000;\n",
       "}\n",
       "#T_2eba2_row0_col2 {\n",
       "  background-color: #3c5598;\n",
       "  color: #f1f1f1;\n",
       "}\n",
       "#T_2eba2_row0_col3, #T_2eba2_row1_col3, #T_2eba2_row2_col1, #T_2eba2_row2_col4, #T_2eba2_row3_col1, #T_2eba2_row3_col4 {\n",
       "  background-color: #0b0405;\n",
       "  color: #f1f1f1;\n",
       "}\n",
       "#T_2eba2_row0_col4 {\n",
       "  background-color: #85d9b1;\n",
       "  color: #000000;\n",
       "}\n",
       "#T_2eba2_row1_col1 {\n",
       "  background-color: #35a0ab;\n",
       "  color: #f1f1f1;\n",
       "}\n",
       "#T_2eba2_row1_col2 {\n",
       "  background-color: #def5e5;\n",
       "  color: #000000;\n",
       "}\n",
       "#T_2eba2_row1_col4 {\n",
       "  background-color: #1b0f1a;\n",
       "  color: #f1f1f1;\n",
       "}\n",
       "#T_2eba2_row2_col2 {\n",
       "  background-color: #342548;\n",
       "  color: #f1f1f1;\n",
       "}\n",
       "#T_2eba2_row2_col3 {\n",
       "  background-color: #382a54;\n",
       "  color: #f1f1f1;\n",
       "}\n",
       "#T_2eba2_row3_col2 {\n",
       "  background-color: #11070c;\n",
       "  color: #f1f1f1;\n",
       "}\n",
       "#T_2eba2_row3_col3 {\n",
       "  background-color: #395d9c;\n",
       "  color: #f1f1f1;\n",
       "}\n",
       "</style>\n",
       "<table id=\"T_2eba2\">\n",
       "  <thead>\n",
       "    <tr>\n",
       "      <th class=\"blank level0\" >&nbsp;</th>\n",
       "      <th id=\"T_2eba2_level0_col0\" class=\"col_heading level0 col0\" >cluster</th>\n",
       "      <th id=\"T_2eba2_level0_col1\" class=\"col_heading level0 col1\" >tmscore</th>\n",
       "      <th id=\"T_2eba2_level0_col2\" class=\"col_heading level0 col2\" >rmsd</th>\n",
       "      <th id=\"T_2eba2_level0_col3\" class=\"col_heading level0 col3\" >cluster_size</th>\n",
       "      <th id=\"T_2eba2_level0_col4\" class=\"col_heading level0 col4\" >fraction_binder</th>\n",
       "    </tr>\n",
       "  </thead>\n",
       "  <tbody>\n",
       "    <tr>\n",
       "      <th id=\"T_2eba2_level0_row0\" class=\"row_heading level0 row0\" >54</th>\n",
       "      <td id=\"T_2eba2_row0_col0\" class=\"data row0 col0\" >Q6K9R5.pdb_B</td>\n",
       "      <td id=\"T_2eba2_row0_col1\" class=\"data row0 col1\" >0.31</td>\n",
       "      <td id=\"T_2eba2_row0_col2\" class=\"data row0 col2\" >4.99</td>\n",
       "      <td id=\"T_2eba2_row0_col3\" class=\"data row0 col3\" >21.00</td>\n",
       "      <td id=\"T_2eba2_row0_col4\" class=\"data row0 col4\" >0.31</td>\n",
       "    </tr>\n",
       "    <tr>\n",
       "      <th id=\"T_2eba2_level0_row1\" class=\"row_heading level0 row1\" >9</th>\n",
       "      <td id=\"T_2eba2_row1_col0\" class=\"data row1 col0\" >A0A0P0WKJ4.pdb_B</td>\n",
       "      <td id=\"T_2eba2_row1_col1\" class=\"data row1 col1\" >0.42</td>\n",
       "      <td id=\"T_2eba2_row1_col2\" class=\"data row1 col2\" >10.93</td>\n",
       "      <td id=\"T_2eba2_row1_col3\" class=\"data row1 col3\" >20.00</td>\n",
       "      <td id=\"T_2eba2_row1_col4\" class=\"data row1 col4\" >0.86</td>\n",
       "    </tr>\n",
       "    <tr>\n",
       "      <th id=\"T_2eba2_level0_row2\" class=\"row_heading level0 row2\" >28</th>\n",
       "      <td id=\"T_2eba2_row2_col0\" class=\"data row2 col0\" >A3BDZ2.pdb_B</td>\n",
       "      <td id=\"T_2eba2_row2_col1\" class=\"data row2 col1\" >0.82</td>\n",
       "      <td id=\"T_2eba2_row2_col2\" class=\"data row2 col2\" >3.38</td>\n",
       "      <td id=\"T_2eba2_row2_col3\" class=\"data row2 col3\" >13.00</td>\n",
       "      <td id=\"T_2eba2_row2_col4\" class=\"data row2 col4\" >0.94</td>\n",
       "    </tr>\n",
       "    <tr>\n",
       "      <th id=\"T_2eba2_level0_row3\" class=\"row_heading level0 row3\" >41</th>\n",
       "      <td id=\"T_2eba2_row3_col0\" class=\"data row3 col0\" >Q0DEU2.pdb_B</td>\n",
       "      <td id=\"T_2eba2_row3_col1\" class=\"data row3 col1\" >0.94</td>\n",
       "      <td id=\"T_2eba2_row3_col2\" class=\"data row3 col2\" >2.17</td>\n",
       "      <td id=\"T_2eba2_row3_col3\" class=\"data row3 col3\" >11.00</td>\n",
       "      <td id=\"T_2eba2_row3_col4\" class=\"data row3 col4\" >0.99</td>\n",
       "    </tr>\n",
       "  </tbody>\n",
       "</table>\n"
      ],
      "text/plain": [
       "<pandas.io.formats.style.Styler at 0x14aed93c1390>"
      ]
     },
     "execution_count": 17,
     "metadata": {},
     "output_type": "execute_result"
    }
   ],
   "source": [
    "# Select the rows with the minimum RMSD for each cluster\n",
    "select = median_scores_filtered.groupby('cluster').rmsd.idxmin()\n",
    "columns = ['cluster', 'tmscore', 'rmsd', 'cluster_size', 'fraction_binder']\n",
    "median_scores_filtered.loc[select, columns].sort_values(by='cluster_size', ascending=False).style.pipe(make_pretty)"
   ]
  },
  {
   "cell_type": "markdown",
   "metadata": {},
   "source": [
    "Here we can see that the cluster `Q6K9R5.pdb_B` is the largest cluster with 21 members. It also has a low RMSD of 4.99, although the median TM-score is not the highest. This cluster, along with `A3BDZ2.pdb_B` and `A3BDZ2.pdb_B` would be good candidates for further analysis. Only three clusters with a total of 45 structures, from more than 43,000 starting models!"
   ]
  },
  {
   "cell_type": "markdown",
   "metadata": {},
   "source": [
    "For this example we know that in our list of candidate binders there are 6 homologues of the true binder protein. We can find out which clusters contain these homologues:"
   ]
  },
  {
   "cell_type": "code",
   "execution_count": 19,
   "metadata": {},
   "outputs": [],
   "source": [
    "homologues = ['Q7XJV3', 'Q6EPT2','A0A0N7KFK3', 'Q6YY31', 'Q6EPT4', 'Q0JCK8']"
   ]
  },
  {
   "cell_type": "code",
   "execution_count": 20,
   "metadata": {},
   "outputs": [
    {
     "data": {
      "text/html": [
       "<div>\n",
       "<style scoped>\n",
       "    .dataframe tbody tr th:only-of-type {\n",
       "        vertical-align: middle;\n",
       "    }\n",
       "\n",
       "    .dataframe tbody tr th {\n",
       "        vertical-align: top;\n",
       "    }\n",
       "\n",
       "    .dataframe thead th {\n",
       "        text-align: right;\n",
       "    }\n",
       "</style>\n",
       "<table border=\"1\" class=\"dataframe\">\n",
       "  <thead>\n",
       "    <tr style=\"text-align: right;\">\n",
       "      <th></th>\n",
       "      <th>complex</th>\n",
       "      <th>merged_rep</th>\n",
       "      <th>iptm</th>\n",
       "      <th>iptm+ptm</th>\n",
       "    </tr>\n",
       "  </thead>\n",
       "  <tbody>\n",
       "    <tr>\n",
       "      <th>14</th>\n",
       "      <td>6R8K-1_Q7XJV3-1</td>\n",
       "      <td>Q6K9R5.pdb_B</td>\n",
       "      <td>0.828985</td>\n",
       "      <td>0.807492</td>\n",
       "    </tr>\n",
       "    <tr>\n",
       "      <th>33</th>\n",
       "      <td>6R8K-1_Q6EPT2-1</td>\n",
       "      <td>Q6K9R5.pdb_B</td>\n",
       "      <td>0.806888</td>\n",
       "      <td>0.763640</td>\n",
       "    </tr>\n",
       "    <tr>\n",
       "      <th>36</th>\n",
       "      <td>6R8K-1_A0A0N7KFK3-1</td>\n",
       "      <td>Q6K9R5.pdb_B</td>\n",
       "      <td>0.800443</td>\n",
       "      <td>0.782608</td>\n",
       "    </tr>\n",
       "    <tr>\n",
       "      <th>45</th>\n",
       "      <td>6R8K-1_Q6YY31-1</td>\n",
       "      <td>Q6K9R5.pdb_B</td>\n",
       "      <td>0.784981</td>\n",
       "      <td>0.775073</td>\n",
       "    </tr>\n",
       "    <tr>\n",
       "      <th>56</th>\n",
       "      <td>6R8K-1_Q6EPT4-1</td>\n",
       "      <td>Q6K9R5.pdb_B</td>\n",
       "      <td>0.766761</td>\n",
       "      <td>0.710590</td>\n",
       "    </tr>\n",
       "    <tr>\n",
       "      <th>62</th>\n",
       "      <td>6R8K-1_Q0JCK8-1</td>\n",
       "      <td>Q6K9R5.pdb_B</td>\n",
       "      <td>0.756162</td>\n",
       "      <td>0.744660</td>\n",
       "    </tr>\n",
       "  </tbody>\n",
       "</table>\n",
       "</div>"
      ],
      "text/plain": [
       "                complex    merged_rep      iptm  iptm+ptm\n",
       "14      6R8K-1_Q7XJV3-1  Q6K9R5.pdb_B  0.828985  0.807492\n",
       "33      6R8K-1_Q6EPT2-1  Q6K9R5.pdb_B  0.806888  0.763640\n",
       "36  6R8K-1_A0A0N7KFK3-1  Q6K9R5.pdb_B  0.800443  0.782608\n",
       "45      6R8K-1_Q6YY31-1  Q6K9R5.pdb_B  0.784981  0.775073\n",
       "56      6R8K-1_Q6EPT4-1  Q6K9R5.pdb_B  0.766761  0.710590\n",
       "62      6R8K-1_Q0JCK8-1  Q6K9R5.pdb_B  0.756162  0.744660"
      ]
     },
     "execution_count": 20,
     "metadata": {},
     "output_type": "execute_result"
    }
   ],
   "source": [
    "clusters[clusters.member.isin(homologues)][['complex','merged_rep','iptm','iptm+ptm']]"
   ]
  },
  {
   "cell_type": "markdown",
   "metadata": {},
   "source": [
    "They are all in the largest cluster!"
   ]
  },
  {
   "cell_type": "markdown",
   "metadata": {},
   "source": [
    "# 2. Make pymol sessions for the top clusters with `make_pymol_sessions`"
   ]
  },
  {
   "cell_type": "markdown",
   "metadata": {},
   "source": [
    "Run the following command to select the top clusters that we saw above, make pymol sessions of the top clusters, and optionally do structural clustering on each cluster to find subclusters:\n",
    "\n",
    "```bash\n",
    "alphacrv-rank \\\n",
    "  --clusters_dir /path/to/destination/6R8K_clusters \\\n",
    "  --min_members 5 \\\n",
    "  --min_tmscore 0.2 \\\n",
    "  --max_rmsd 15 \\\n",
    "  --cluster_clusters\n",
    "```\n",
    "\n",
    "The program will show you the top clusters that will be used to make the pymol sessions. You can press `Enter` to continue, or exit the program with `Ctrl+C` to change the filtering parameters."
   ]
  },
  {
   "cell_type": "markdown",
   "metadata": {},
   "source": [
    "```\n",
    "(env) AlphaCRV$ alphacrv-rank \\\n",
    "--clusters_dir ./examples/AVRPik/AVRPik_vs_rice_clusters \\\n",
    "--min_members 5 \\\n",
    "--min_tmscore 0.2 \\\n",
    "--max_rmsd 15 \\\n",
    "--cluster_clusters\n",
    "INFO:root:Identified 4 top clusters.\n",
    "INFO:root:Top clusters:\n",
    "\n",
    "            cluster   tmscore    rmsd  cluster_size  fraction_binder\n",
    "0      Q6K9R5.pdb_B  0.313905   4.985          21.0         0.305328\n",
    "1  A0A0P0WKJ4.pdb_B  0.421400  10.930          20.0         0.856436\n",
    "2      A3BDZ2.pdb_B  0.824705   3.385          13.0         0.944444\n",
    "3      Q0DEU2.pdb_B  0.940945   2.165          11.0         0.987633\n",
    "\n",
    "Press Enter to continue, or Ctrl+C to exit and select different filtering parameters: \n",
    "INFO:root:Copying pdbs from the top clusters...\n",
    "INFO:root:Making Pymol sessions...\n",
    "PyMOL>select chain B AND model A0A0P0WKJ4_repB\n",
    " Selector: selection \"sele\" defined with 3937 atoms.\n",
    "PyMOL>bg white\n",
    "\n",
    "...\n",
    "PyMOL>select chain B AND model Q6K9R5_repB\n",
    " Selector: selection \"sele\" defined with 1397 atoms.\n",
    "PyMOL>bg white\n",
    "PyMOL>set ray_shadow, 0\n",
    " Setting: ray_shadow set to off.\n",
    "PyMOL>color grey80\n",
    " Executive: Colored 61825 atoms.\n",
    "PyMOL>select chain A\n",
    " Selector: selection \"sele\" defined with 31164 atoms.\n",
    "PyMOL>color slate, sele\n",
    " Executive: Colored 31164 atoms.\n",
    "PyMOL>delete all\n",
    "INFO:root:Clustering clusters...\n",
    "INFO:root:Clustering A0A0P0WKJ4.pdb_B\n",
    "INFO:root:Running structural clustering...\n",
    "INFO:root:Processing output...\n",
    "INFO:root:Clustering A3BDZ2.pdb_B\n",
    "INFO:root:Running structural clustering...\n",
    "INFO:root:Processing output...\n",
    "INFO:root:Clustering Q0DEU2.pdb_B\n",
    "INFO:root:Running structural clustering...\n",
    "INFO:root:Processing output...\n",
    "INFO:root:Clustering Q6K9R5.pdb_B\n",
    "INFO:root:Running structural clustering...\n",
    "INFO:root:Processing output...\n",
    "INFO:root:Done!!\n",
    "```"
   ]
  },
  {
   "cell_type": "markdown",
   "metadata": {},
   "source": [
    "This command should create the following files in the `--clusters_dir` / `merged_clusters` directory:\n",
    "\n",
    "- `clustered_clusters.csv`: Contains the subclusters for each of the top clusters.\n",
    "- `cluster_<cluster_ID>/`: Contains the PDBs of each cluster, and a PyMol session with the cluster members.\n",
    "- `cluster_<cluster_ID>_clusters/`: Contains the results of the `foldseek easy-cluster` run on the cluster members."
   ]
  },
  {
   "cell_type": "markdown",
   "metadata": {},
   "source": [
    "## Read clustered clusters"
   ]
  },
  {
   "cell_type": "markdown",
   "metadata": {},
   "source": [
    "The following DataFrame contains the subclusters for each of the top clusters:"
   ]
  },
  {
   "cell_type": "code",
   "execution_count": 21,
   "metadata": {},
   "outputs": [],
   "source": [
    "clustered_clusters = pd.read_csv(results_dir / 'merged_clusters/clustered_clusters.csv')"
   ]
  },
  {
   "cell_type": "code",
   "execution_count": 22,
   "metadata": {},
   "outputs": [
    {
     "data": {
      "text/html": [
       "<div>\n",
       "<style scoped>\n",
       "    .dataframe tbody tr th:only-of-type {\n",
       "        vertical-align: middle;\n",
       "    }\n",
       "\n",
       "    .dataframe tbody tr th {\n",
       "        vertical-align: top;\n",
       "    }\n",
       "\n",
       "    .dataframe thead th {\n",
       "        text-align: right;\n",
       "    }\n",
       "</style>\n",
       "<table border=\"1\" class=\"dataframe\">\n",
       "  <thead>\n",
       "    <tr style=\"text-align: right;\">\n",
       "      <th></th>\n",
       "      <th>subcluster_rep</th>\n",
       "      <th>member</th>\n",
       "      <th>cluster</th>\n",
       "    </tr>\n",
       "  </thead>\n",
       "  <tbody>\n",
       "    <tr>\n",
       "      <th>0</th>\n",
       "      <td>A0A0P0W913.pdb_B</td>\n",
       "      <td>A0A0P0W913</td>\n",
       "      <td>A0A0P0WKJ4.pdb_B</td>\n",
       "    </tr>\n",
       "    <tr>\n",
       "      <th>1</th>\n",
       "      <td>A0A0P0W913.pdb_B</td>\n",
       "      <td>A0A0P0WQF2</td>\n",
       "      <td>A0A0P0WKJ4.pdb_B</td>\n",
       "    </tr>\n",
       "    <tr>\n",
       "      <th>2</th>\n",
       "      <td>A0A0P0WKJ4.pdb_B</td>\n",
       "      <td>A0A0P0WKJ4</td>\n",
       "      <td>A0A0P0WKJ4.pdb_B</td>\n",
       "    </tr>\n",
       "    <tr>\n",
       "      <th>3</th>\n",
       "      <td>A0A0P0WKJ4.pdb_B</td>\n",
       "      <td>Q0JKW0</td>\n",
       "      <td>A0A0P0WKJ4.pdb_B</td>\n",
       "    </tr>\n",
       "    <tr>\n",
       "      <th>4</th>\n",
       "      <td>A0A0P0XBZ1.pdb_B</td>\n",
       "      <td>A0A0P0XBZ1</td>\n",
       "      <td>A0A0P0WKJ4.pdb_B</td>\n",
       "    </tr>\n",
       "  </tbody>\n",
       "</table>\n",
       "</div>"
      ],
      "text/plain": [
       "     subcluster_rep      member           cluster\n",
       "0  A0A0P0W913.pdb_B  A0A0P0W913  A0A0P0WKJ4.pdb_B\n",
       "1  A0A0P0W913.pdb_B  A0A0P0WQF2  A0A0P0WKJ4.pdb_B\n",
       "2  A0A0P0WKJ4.pdb_B  A0A0P0WKJ4  A0A0P0WKJ4.pdb_B\n",
       "3  A0A0P0WKJ4.pdb_B      Q0JKW0  A0A0P0WKJ4.pdb_B\n",
       "4  A0A0P0XBZ1.pdb_B  A0A0P0XBZ1  A0A0P0WKJ4.pdb_B"
      ]
     },
     "execution_count": 22,
     "metadata": {},
     "output_type": "execute_result"
    }
   ],
   "source": [
    "clustered_clusters.head()"
   ]
  },
  {
   "cell_type": "markdown",
   "metadata": {},
   "source": [
    "Now we can look at the most interesting clusters and their subclusters in more detail:"
   ]
  },
  {
   "cell_type": "markdown",
   "metadata": {},
   "source": [
    "## RESULT 1: Cluster Q6K9R5.pdb_B (contains true binder homologs, top cluster by size)"
   ]
  },
  {
   "cell_type": "code",
   "execution_count": 23,
   "metadata": {},
   "outputs": [],
   "source": [
    "cluster = 'Q6K9R5.pdb_B'"
   ]
  },
  {
   "cell_type": "markdown",
   "metadata": {},
   "source": [
    "See subclusters:"
   ]
  },
  {
   "cell_type": "code",
   "execution_count": 24,
   "metadata": {},
   "outputs": [
    {
     "data": {
      "text/html": [
       "<div>\n",
       "<style scoped>\n",
       "    .dataframe tbody tr th:only-of-type {\n",
       "        vertical-align: middle;\n",
       "    }\n",
       "\n",
       "    .dataframe tbody tr th {\n",
       "        vertical-align: top;\n",
       "    }\n",
       "\n",
       "    .dataframe thead th {\n",
       "        text-align: right;\n",
       "    }\n",
       "</style>\n",
       "<table border=\"1\" class=\"dataframe\">\n",
       "  <thead>\n",
       "    <tr style=\"text-align: right;\">\n",
       "      <th></th>\n",
       "      <th>subcluster_rep</th>\n",
       "      <th>member</th>\n",
       "      <th>cluster</th>\n",
       "    </tr>\n",
       "  </thead>\n",
       "  <tbody>\n",
       "    <tr>\n",
       "      <th>44</th>\n",
       "      <td>Q6K9R5.pdb_B</td>\n",
       "      <td>Q6K9R5</td>\n",
       "      <td>Q6K9R5.pdb_B</td>\n",
       "    </tr>\n",
       "    <tr>\n",
       "      <th>45</th>\n",
       "      <td>Q6K9R5.pdb_B</td>\n",
       "      <td>A0A0N7KFK3</td>\n",
       "      <td>Q6K9R5.pdb_B</td>\n",
       "    </tr>\n",
       "    <tr>\n",
       "      <th>46</th>\n",
       "      <td>Q6K9R5.pdb_B</td>\n",
       "      <td>B7E663</td>\n",
       "      <td>Q6K9R5.pdb_B</td>\n",
       "    </tr>\n",
       "    <tr>\n",
       "      <th>47</th>\n",
       "      <td>Q6K9R5.pdb_B</td>\n",
       "      <td>Q6EPT2</td>\n",
       "      <td>Q6K9R5.pdb_B</td>\n",
       "    </tr>\n",
       "    <tr>\n",
       "      <th>48</th>\n",
       "      <td>Q6K9R5.pdb_B</td>\n",
       "      <td>Q7XJV3</td>\n",
       "      <td>Q6K9R5.pdb_B</td>\n",
       "    </tr>\n",
       "    <tr>\n",
       "      <th>49</th>\n",
       "      <td>Q6K9R5.pdb_B</td>\n",
       "      <td>Q6YY31</td>\n",
       "      <td>Q6K9R5.pdb_B</td>\n",
       "    </tr>\n",
       "    <tr>\n",
       "      <th>50</th>\n",
       "      <td>Q6K9R5.pdb_B</td>\n",
       "      <td>Q7G2B2</td>\n",
       "      <td>Q6K9R5.pdb_B</td>\n",
       "    </tr>\n",
       "    <tr>\n",
       "      <th>51</th>\n",
       "      <td>Q6K9R5.pdb_B</td>\n",
       "      <td>A3ADD6</td>\n",
       "      <td>Q6K9R5.pdb_B</td>\n",
       "    </tr>\n",
       "    <tr>\n",
       "      <th>52</th>\n",
       "      <td>Q6K9R5.pdb_B</td>\n",
       "      <td>Q94CS5</td>\n",
       "      <td>Q6K9R5.pdb_B</td>\n",
       "    </tr>\n",
       "    <tr>\n",
       "      <th>53</th>\n",
       "      <td>Q6K9R5.pdb_B</td>\n",
       "      <td>Q0JCK8</td>\n",
       "      <td>Q6K9R5.pdb_B</td>\n",
       "    </tr>\n",
       "    <tr>\n",
       "      <th>54</th>\n",
       "      <td>Q6K9R5.pdb_B</td>\n",
       "      <td>Q6ZBC3</td>\n",
       "      <td>Q6K9R5.pdb_B</td>\n",
       "    </tr>\n",
       "    <tr>\n",
       "      <th>55</th>\n",
       "      <td>Q6K9R5.pdb_B</td>\n",
       "      <td>Q2RAL3</td>\n",
       "      <td>Q6K9R5.pdb_B</td>\n",
       "    </tr>\n",
       "    <tr>\n",
       "      <th>56</th>\n",
       "      <td>Q6K9R5.pdb_B</td>\n",
       "      <td>Q5JL91</td>\n",
       "      <td>Q6K9R5.pdb_B</td>\n",
       "    </tr>\n",
       "    <tr>\n",
       "      <th>57</th>\n",
       "      <td>Q6K9R5.pdb_B</td>\n",
       "      <td>Q84TB9</td>\n",
       "      <td>Q6K9R5.pdb_B</td>\n",
       "    </tr>\n",
       "    <tr>\n",
       "      <th>58</th>\n",
       "      <td>Q6K9R5.pdb_B</td>\n",
       "      <td>A0A0P0XYR1</td>\n",
       "      <td>Q6K9R5.pdb_B</td>\n",
       "    </tr>\n",
       "    <tr>\n",
       "      <th>59</th>\n",
       "      <td>Q6K9R5.pdb_B</td>\n",
       "      <td>Q10N90</td>\n",
       "      <td>Q6K9R5.pdb_B</td>\n",
       "    </tr>\n",
       "    <tr>\n",
       "      <th>60</th>\n",
       "      <td>Q6K9R5.pdb_B</td>\n",
       "      <td>Q2QZ01</td>\n",
       "      <td>Q6K9R5.pdb_B</td>\n",
       "    </tr>\n",
       "    <tr>\n",
       "      <th>61</th>\n",
       "      <td>Q6K9R5.pdb_B</td>\n",
       "      <td>Q7EY69</td>\n",
       "      <td>Q6K9R5.pdb_B</td>\n",
       "    </tr>\n",
       "    <tr>\n",
       "      <th>62</th>\n",
       "      <td>Q6K9R5.pdb_B</td>\n",
       "      <td>Q6EPT4</td>\n",
       "      <td>Q6K9R5.pdb_B</td>\n",
       "    </tr>\n",
       "    <tr>\n",
       "      <th>63</th>\n",
       "      <td>Q6K9R5.pdb_B</td>\n",
       "      <td>Q8L4I2</td>\n",
       "      <td>Q6K9R5.pdb_B</td>\n",
       "    </tr>\n",
       "    <tr>\n",
       "      <th>64</th>\n",
       "      <td>Q6K9R5.pdb_B</td>\n",
       "      <td>Q8LJL3</td>\n",
       "      <td>Q6K9R5.pdb_B</td>\n",
       "    </tr>\n",
       "  </tbody>\n",
       "</table>\n",
       "</div>"
      ],
      "text/plain": [
       "   subcluster_rep      member       cluster\n",
       "44   Q6K9R5.pdb_B      Q6K9R5  Q6K9R5.pdb_B\n",
       "45   Q6K9R5.pdb_B  A0A0N7KFK3  Q6K9R5.pdb_B\n",
       "46   Q6K9R5.pdb_B      B7E663  Q6K9R5.pdb_B\n",
       "47   Q6K9R5.pdb_B      Q6EPT2  Q6K9R5.pdb_B\n",
       "48   Q6K9R5.pdb_B      Q7XJV3  Q6K9R5.pdb_B\n",
       "49   Q6K9R5.pdb_B      Q6YY31  Q6K9R5.pdb_B\n",
       "50   Q6K9R5.pdb_B      Q7G2B2  Q6K9R5.pdb_B\n",
       "51   Q6K9R5.pdb_B      A3ADD6  Q6K9R5.pdb_B\n",
       "52   Q6K9R5.pdb_B      Q94CS5  Q6K9R5.pdb_B\n",
       "53   Q6K9R5.pdb_B      Q0JCK8  Q6K9R5.pdb_B\n",
       "54   Q6K9R5.pdb_B      Q6ZBC3  Q6K9R5.pdb_B\n",
       "55   Q6K9R5.pdb_B      Q2RAL3  Q6K9R5.pdb_B\n",
       "56   Q6K9R5.pdb_B      Q5JL91  Q6K9R5.pdb_B\n",
       "57   Q6K9R5.pdb_B      Q84TB9  Q6K9R5.pdb_B\n",
       "58   Q6K9R5.pdb_B  A0A0P0XYR1  Q6K9R5.pdb_B\n",
       "59   Q6K9R5.pdb_B      Q10N90  Q6K9R5.pdb_B\n",
       "60   Q6K9R5.pdb_B      Q2QZ01  Q6K9R5.pdb_B\n",
       "61   Q6K9R5.pdb_B      Q7EY69  Q6K9R5.pdb_B\n",
       "62   Q6K9R5.pdb_B      Q6EPT4  Q6K9R5.pdb_B\n",
       "63   Q6K9R5.pdb_B      Q8L4I2  Q6K9R5.pdb_B\n",
       "64   Q6K9R5.pdb_B      Q8LJL3  Q6K9R5.pdb_B"
      ]
     },
     "execution_count": 24,
     "metadata": {},
     "output_type": "execute_result"
    }
   ],
   "source": [
    "clustered_clusters[clustered_clusters.cluster==cluster]"
   ]
  },
  {
   "cell_type": "markdown",
   "metadata": {},
   "source": [
    "Only one subcluster (`subcluster_rep` column)."
   ]
  },
  {
   "cell_type": "markdown",
   "metadata": {},
   "source": [
    "We can see in the `median_scores` DataFrame the model that has the best alignments to all other structures (best representative of the cluster)."
   ]
  },
  {
   "cell_type": "code",
   "execution_count": 25,
   "metadata": {},
   "outputs": [
    {
     "data": {
      "text/html": [
       "<div>\n",
       "<style scoped>\n",
       "    .dataframe tbody tr th:only-of-type {\n",
       "        vertical-align: middle;\n",
       "    }\n",
       "\n",
       "    .dataframe tbody tr th {\n",
       "        vertical-align: top;\n",
       "    }\n",
       "\n",
       "    .dataframe thead th {\n",
       "        text-align: right;\n",
       "    }\n",
       "</style>\n",
       "<table border=\"1\" class=\"dataframe\">\n",
       "  <thead>\n",
       "    <tr style=\"text-align: right;\">\n",
       "      <th></th>\n",
       "      <th>cluster</th>\n",
       "      <th>member</th>\n",
       "      <th>tmscore</th>\n",
       "      <th>rmsd</th>\n",
       "      <th>aligned_length</th>\n",
       "      <th>cluster_size</th>\n",
       "      <th>fraction_binder</th>\n",
       "    </tr>\n",
       "  </thead>\n",
       "  <tbody>\n",
       "    <tr>\n",
       "      <th>54</th>\n",
       "      <td>Q6K9R5.pdb_B</td>\n",
       "      <td>Q6EPT4</td>\n",
       "      <td>0.313905</td>\n",
       "      <td>4.985</td>\n",
       "      <td>167.5</td>\n",
       "      <td>21.0</td>\n",
       "      <td>0.305328</td>\n",
       "    </tr>\n",
       "    <tr>\n",
       "      <th>51</th>\n",
       "      <td>Q6K9R5.pdb_B</td>\n",
       "      <td>Q2RAL3</td>\n",
       "      <td>0.772890</td>\n",
       "      <td>5.370</td>\n",
       "      <td>163.0</td>\n",
       "      <td>21.0</td>\n",
       "      <td>0.972222</td>\n",
       "    </tr>\n",
       "    <tr>\n",
       "      <th>57</th>\n",
       "      <td>Q6K9R5.pdb_B</td>\n",
       "      <td>Q6ZBC3</td>\n",
       "      <td>0.591925</td>\n",
       "      <td>5.620</td>\n",
       "      <td>161.0</td>\n",
       "      <td>21.0</td>\n",
       "      <td>0.931507</td>\n",
       "    </tr>\n",
       "    <tr>\n",
       "      <th>61</th>\n",
       "      <td>Q6K9R5.pdb_B</td>\n",
       "      <td>Q84TB9</td>\n",
       "      <td>0.608545</td>\n",
       "      <td>6.680</td>\n",
       "      <td>162.0</td>\n",
       "      <td>21.0</td>\n",
       "      <td>0.971831</td>\n",
       "    </tr>\n",
       "    <tr>\n",
       "      <th>45</th>\n",
       "      <td>Q6K9R5.pdb_B</td>\n",
       "      <td>A0A0P0XYR1</td>\n",
       "      <td>0.548765</td>\n",
       "      <td>7.355</td>\n",
       "      <td>142.0</td>\n",
       "      <td>21.0</td>\n",
       "      <td>0.590361</td>\n",
       "    </tr>\n",
       "    <tr>\n",
       "      <th>50</th>\n",
       "      <td>Q6K9R5.pdb_B</td>\n",
       "      <td>Q2QZ01</td>\n",
       "      <td>0.545625</td>\n",
       "      <td>7.420</td>\n",
       "      <td>142.0</td>\n",
       "      <td>21.0</td>\n",
       "      <td>0.590361</td>\n",
       "    </tr>\n",
       "    <tr>\n",
       "      <th>53</th>\n",
       "      <td>Q6K9R5.pdb_B</td>\n",
       "      <td>Q6EPT2</td>\n",
       "      <td>0.575325</td>\n",
       "      <td>7.915</td>\n",
       "      <td>167.0</td>\n",
       "      <td>21.0</td>\n",
       "      <td>0.891566</td>\n",
       "    </tr>\n",
       "    <tr>\n",
       "      <th>58</th>\n",
       "      <td>Q6K9R5.pdb_B</td>\n",
       "      <td>Q7EY69</td>\n",
       "      <td>0.544055</td>\n",
       "      <td>8.060</td>\n",
       "      <td>132.0</td>\n",
       "      <td>21.0</td>\n",
       "      <td>0.469880</td>\n",
       "    </tr>\n",
       "    <tr>\n",
       "      <th>49</th>\n",
       "      <td>Q6K9R5.pdb_B</td>\n",
       "      <td>Q10N90</td>\n",
       "      <td>0.553010</td>\n",
       "      <td>8.125</td>\n",
       "      <td>139.0</td>\n",
       "      <td>21.0</td>\n",
       "      <td>0.554217</td>\n",
       "    </tr>\n",
       "    <tr>\n",
       "      <th>64</th>\n",
       "      <td>Q6K9R5.pdb_B</td>\n",
       "      <td>Q94CS5</td>\n",
       "      <td>0.604640</td>\n",
       "      <td>8.180</td>\n",
       "      <td>163.0</td>\n",
       "      <td>21.0</td>\n",
       "      <td>0.972222</td>\n",
       "    </tr>\n",
       "  </tbody>\n",
       "</table>\n",
       "</div>"
      ],
      "text/plain": [
       "         cluster      member   tmscore   rmsd  aligned_length  cluster_size  \\\n",
       "54  Q6K9R5.pdb_B      Q6EPT4  0.313905  4.985           167.5          21.0   \n",
       "51  Q6K9R5.pdb_B      Q2RAL3  0.772890  5.370           163.0          21.0   \n",
       "57  Q6K9R5.pdb_B      Q6ZBC3  0.591925  5.620           161.0          21.0   \n",
       "61  Q6K9R5.pdb_B      Q84TB9  0.608545  6.680           162.0          21.0   \n",
       "45  Q6K9R5.pdb_B  A0A0P0XYR1  0.548765  7.355           142.0          21.0   \n",
       "50  Q6K9R5.pdb_B      Q2QZ01  0.545625  7.420           142.0          21.0   \n",
       "53  Q6K9R5.pdb_B      Q6EPT2  0.575325  7.915           167.0          21.0   \n",
       "58  Q6K9R5.pdb_B      Q7EY69  0.544055  8.060           132.0          21.0   \n",
       "49  Q6K9R5.pdb_B      Q10N90  0.553010  8.125           139.0          21.0   \n",
       "64  Q6K9R5.pdb_B      Q94CS5  0.604640  8.180           163.0          21.0   \n",
       "\n",
       "    fraction_binder  \n",
       "54         0.305328  \n",
       "51         0.972222  \n",
       "57         0.931507  \n",
       "61         0.971831  \n",
       "45         0.590361  \n",
       "50         0.590361  \n",
       "53         0.891566  \n",
       "58         0.469880  \n",
       "49         0.554217  \n",
       "64         0.972222  "
      ]
     },
     "execution_count": 25,
     "metadata": {},
     "output_type": "execute_result"
    }
   ],
   "source": [
    "median_scores[median_scores.cluster==cluster].sort_values(by='rmsd').head(10)"
   ]
  },
  {
   "cell_type": "markdown",
   "metadata": {},
   "source": [
    "We can also select the IDs of the binder proteins in this cluster, and run them through a tool such as DAVID to perform enrichment analysis."
   ]
  },
  {
   "cell_type": "code",
   "execution_count": 26,
   "metadata": {},
   "outputs": [],
   "source": [
    "members = clusters[clusters.merged_rep==cluster].member"
   ]
  },
  {
   "cell_type": "code",
   "execution_count": 27,
   "metadata": {},
   "outputs": [
    {
     "name": "stdout",
     "output_type": "stream",
     "text": [
      "Q2RAL3\n",
      "B7E663\n",
      "Q7XJV3\n",
      "Q94CS5\n",
      "Q6ZBC3\n",
      "Q8LJL3\n",
      "Q10N90\n",
      "Q8L4I2\n",
      "Q5JL91\n",
      "Q7EY69\n",
      "Q6EPT2\n",
      "A0A0N7KFK3\n",
      "Q84TB9\n",
      "A0A0P0XYR1\n",
      "Q2QZ01\n",
      "Q6YY31\n",
      "Q7G2B2\n",
      "Q6EPT4\n",
      "Q6K9R5\n",
      "A3ADD6\n",
      "Q0JCK8\n"
     ]
    }
   ],
   "source": [
    "for m in members:\n",
    "    print(m)"
   ]
  },
  {
   "cell_type": "markdown",
   "metadata": {},
   "source": [
    "Looking at the `examples/AVRPik/AVRPik_vs_rice_clusters/merged_clusters/cluster_Q6K9R5.pdb_B/session.pse` file in PyMol, we can visualize the cluster and produce a figure like this:"
   ]
  },
  {
   "cell_type": "markdown",
   "metadata": {},
   "source": [
    "<img src='./pictures/AVRPik_cluster.png' height='600px'>"
   ]
  },
  {
   "cell_type": "markdown",
   "metadata": {},
   "source": [
    "When aligning the HMA domains of the binder structures (grey), the different locations of the AVR-Pik protein raise the posibility of a more flexible binding across the entire surface of the HMA domain's beta strand."
   ]
  },
  {
   "cell_type": "markdown",
   "metadata": {},
   "source": [
    "Tip: In PyMol, you can remove the residues with low pLDDT score to make the figure cleaner, with the command:\n",
    "    \n",
    "```\n",
    "select b < 50; remove sele\n",
    "```"
   ]
  }
 ],
 "metadata": {
  "kernelspec": {
   "display_name": "Python 3",
   "language": "python",
   "name": "python3"
  },
  "language_info": {
   "codemirror_mode": {
    "name": "ipython",
    "version": 3
   },
   "file_extension": ".py",
   "mimetype": "text/x-python",
   "name": "python",
   "nbconvert_exporter": "python",
   "pygments_lexer": "ipython3",
   "version": "3.10.13"
  }
 },
 "nbformat": 4,
 "nbformat_minor": 2
}
