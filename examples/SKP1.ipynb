{
 "cells": [
  {
   "cell_type": "markdown",
   "metadata": {},
   "source": [
    "# Clustering SKP1\n",
    "---"
   ]
  },
  {
   "cell_type": "markdown",
   "metadata": {},
   "source": [
    "This notebook will guide you through the process of clustering 712 complexes of the SKP1 protein against a sample of rice proteins. All of the models are dimeric. The 712 models originate from a proteome-wide screen of SKP1 against the rice proteome (O. sativa subsp. japonica, 43,000+ initial models). To select this sample we first ran AlphaCRV on all the models, and the 712 structures are part of some of the best clusters that were identified. These are many more than the other examples because the largest cluster in this case has around 700 structures, which might be due to the higher number of homologues of SKP1 compared to the two AVR proteins in the other examples. Running the pipeline on these models should be enough to reproduce the results and give you an idea of the workflow."
   ]
  },
  {
   "cell_type": "markdown",
   "metadata": {},
   "source": [
    "# Prerequisites\n",
    "\n",
    "- Install AlphaCRV on a conda environment and activate it\n",
    "- Download the models and sequences for this example from [Zenodo](https://zenodo.org/record/5525340/files/alphafold-multimer.tar.gz?download=1)"
   ]
  },
  {
   "cell_type": "markdown",
   "metadata": {},
   "source": [
    "# 1. Cluster the models with the `clustering` command"
   ]
  },
  {
   "cell_type": "markdown",
   "metadata": {},
   "source": [
    "Run the following command to cluster the models. Make sure to change the paths according to your system:\n",
    "\n",
    "```bash\n",
    "alphacrv-cluster \\\n",
    "  --bait ./examples/SKP1/SKP1.fasta \\\n",
    "  --binders ./examples/SKP1/SKP1_binders.fasta \\\n",
    "  --models_dir ./examples/SKP1/SKP1_vs_rice_models \\\n",
    "  --destination ./examples/SKP1/SKP1_vs_rice_clusters \\\n",
    "  --cpus 8\n",
    "```"
   ]
  },
  {
   "cell_type": "markdown",
   "metadata": {},
   "source": [
    "After collecting the quality scores from the models in `--models_dir`, it will count how many models are there with an ipTM score higher than the threshold (0.75 by default). It will prompt you to confirm or to modify the threshold. After that, it will proceed with the clustering."
   ]
  },
  {
   "cell_type": "markdown",
   "metadata": {},
   "source": [
    "This run will take considerably longer than the two other examples, because of the large size of the first cluster. The full output is as follows:"
   ]
  },
  {
   "cell_type": "raw",
   "metadata": {},
   "source": [
    "AlphaCRV$ alphacrv-cluster \\\n",
    "--bait ./examples/SKP1/SKP1.fasta \\\n",
    "--binders ./examples/SKP1/SKP1_binders.fasta \\\n",
    "--models_dir ./examples/SKP1/SKP1_vs_rice_models \\\n",
    "--destination ./examples/SKP1/SKP1_vs_rice_clusters \\\n",
    "--cpus 8\n",
    "INFO:root:Getting quality scores for models in examples/SKP1/SKP1_vs_rice_models...\n",
    "INFO:root:Found 712 model directories with quality scores.\n",
    "Will select 712 models with iptm >= 0.75. Press enter to continue, or enter a new threshold: \n",
    "INFO:root:Trimming binder molecules to keep only regions with an average PAE against the bait of up to 10.0...\n",
    "INFO:root:Processed 712 complexes.\n",
    "INFO:root:Writing trimmed sequences to fasta file.\n",
    "INFO:root:Running sequence clustering...\n",
    "INFO:root:Processing output...\n",
    "INFO:root:Running structural clustering...\n",
    "INFO:root:Processing output...\n",
    "INFO:root:NOT ALL REPRESENTATIVES COME FROM CHAIN B\n",
    "INFO:root:Aligning all vs all members of each cluster...\n",
    "INFO:root:Aligning cluster 1 of 4...\n",
    "INFO:root:695 members.\n",
    "INFO:root:Aligning cluster 2 of 4...\n",
    "INFO:root:6 members.\n",
    "INFO:root:Aligning cluster 3 of 4...\n",
    "INFO:root:2 members.\n",
    "INFO:root:Aligning cluster 4 of 4...\n",
    "INFO:root:9 members.\n",
    "INFO:root:Calculating median alignment scores...\n",
    "INFO:root:Done!!"
   ]
  },
  {
   "cell_type": "markdown",
   "metadata": {},
   "source": [
    "After this step you will have a directory with the following structure:"
   ]
  },
  {
   "cell_type": "raw",
   "metadata": {},
   "source": [
    "(env) AlphaCRV$ ll examples/SKP1/SKP1_vs_rice_clusters/\n",
    "total 248K\n",
    "-rw-r--r-- 1 example g-example  15K Jan  4 13:39 binders_regions.csv\n",
    "drwxr-xr-x 1 example g-example    0 Jan  4 15:18 merged_clusters/\n",
    "drwxr-xr-x 1 example g-example    0 Jan  4 13:39 pdbs_trimmed/\n",
    "drwxr-xr-x 1 example g-example    0 Jan  4 13:39 seqclusters/\n",
    "drwxr-xr-x 1 example g-example    0 Jan  4 13:39 strclusters/\n",
    "-rw-r--r-- 1 example g-example 230K Jan  4 13:39 trimmed_binders.fasta"
   ]
  },
  {
   "cell_type": "markdown",
   "metadata": {},
   "source": [
    "Now let's look at some of the important files:"
   ]
  },
  {
   "cell_type": "code",
   "execution_count": 1,
   "metadata": {},
   "outputs": [],
   "source": [
    "from pathlib import Path\n",
    "import pandas as pd"
   ]
  },
  {
   "cell_type": "code",
   "execution_count": 2,
   "metadata": {},
   "outputs": [],
   "source": [
    "results_dir = Path('./SKP1/SKP1_vs_rice_clusters/')"
   ]
  },
  {
   "cell_type": "markdown",
   "metadata": {},
   "source": [
    "## See clusters"
   ]
  },
  {
   "cell_type": "markdown",
   "metadata": {},
   "source": [
    "The `merged_clusters.csv` file contains the list of models with their corresponding sequence, structure and merged clusters. It also has the quality scores provided by AlphaFold."
   ]
  },
  {
   "cell_type": "code",
   "execution_count": 3,
   "metadata": {},
   "outputs": [],
   "source": [
    "clusters = pd.read_csv(results_dir / 'merged_clusters/merged_clusters.csv')"
   ]
  },
  {
   "cell_type": "code",
   "execution_count": 4,
   "metadata": {},
   "outputs": [
    {
     "data": {
      "text/html": [
       "<div>\n",
       "<style scoped>\n",
       "    .dataframe tbody tr th:only-of-type {\n",
       "        vertical-align: middle;\n",
       "    }\n",
       "\n",
       "    .dataframe tbody tr th {\n",
       "        vertical-align: top;\n",
       "    }\n",
       "\n",
       "    .dataframe thead th {\n",
       "        text-align: right;\n",
       "    }\n",
       "</style>\n",
       "<table border=\"1\" class=\"dataframe\">\n",
       "  <thead>\n",
       "    <tr style=\"text-align: right;\">\n",
       "      <th></th>\n",
       "      <th>complex</th>\n",
       "      <th>str_rep</th>\n",
       "      <th>seq_rep</th>\n",
       "      <th>merged_rep</th>\n",
       "      <th>member</th>\n",
       "      <th>iptm</th>\n",
       "      <th>iptm+ptm</th>\n",
       "    </tr>\n",
       "  </thead>\n",
       "  <tbody>\n",
       "    <tr>\n",
       "      <th>0</th>\n",
       "      <td>8IF6-1_Q6Z1A9-1</td>\n",
       "      <td>A0A0P0Y2U6.pdb_B</td>\n",
       "      <td>A0A0N7KPE6</td>\n",
       "      <td>A0A0P0XHF4.pdb_B</td>\n",
       "      <td>Q6Z1A9</td>\n",
       "      <td>0.903477</td>\n",
       "      <td>0.868600</td>\n",
       "    </tr>\n",
       "    <tr>\n",
       "      <th>1</th>\n",
       "      <td>8IF6-1_Q7XSL8-1</td>\n",
       "      <td>A0A0P0WQD9.pdb_B</td>\n",
       "      <td>A0A0P0VJA5</td>\n",
       "      <td>A0A0P0XHF4.pdb_B</td>\n",
       "      <td>Q7XSL8</td>\n",
       "      <td>0.903106</td>\n",
       "      <td>0.899270</td>\n",
       "    </tr>\n",
       "    <tr>\n",
       "      <th>2</th>\n",
       "      <td>8IF6-1_Q5Z8K3-1</td>\n",
       "      <td>Q6ZDH1.pdb_B</td>\n",
       "      <td>Q5Z8K3</td>\n",
       "      <td>A0A0P0XHF4.pdb_B</td>\n",
       "      <td>Q5Z8K3</td>\n",
       "      <td>0.899284</td>\n",
       "      <td>0.857990</td>\n",
       "    </tr>\n",
       "    <tr>\n",
       "      <th>3</th>\n",
       "      <td>8IF6-1_Q5VMP0-1</td>\n",
       "      <td>A0A0P0WQD9.pdb_B</td>\n",
       "      <td>Q5VMP0</td>\n",
       "      <td>A0A0P0XHF4.pdb_B</td>\n",
       "      <td>Q5VMP0</td>\n",
       "      <td>0.899220</td>\n",
       "      <td>0.894956</td>\n",
       "    </tr>\n",
       "    <tr>\n",
       "      <th>4</th>\n",
       "      <td>8IF6-1_A0A0P0WG98-1</td>\n",
       "      <td>Q5Z7U2.pdb_B</td>\n",
       "      <td>C7J8M0</td>\n",
       "      <td>A0A0P0XHF4.pdb_B</td>\n",
       "      <td>A0A0P0WG98</td>\n",
       "      <td>0.899086</td>\n",
       "      <td>0.817529</td>\n",
       "    </tr>\n",
       "    <tr>\n",
       "      <th>...</th>\n",
       "      <td>...</td>\n",
       "      <td>...</td>\n",
       "      <td>...</td>\n",
       "      <td>...</td>\n",
       "      <td>...</td>\n",
       "      <td>...</td>\n",
       "      <td>...</td>\n",
       "    </tr>\n",
       "    <tr>\n",
       "      <th>707</th>\n",
       "      <td>8IF6-1_Q0JK63-1</td>\n",
       "      <td>Q0JK63.pdb_B</td>\n",
       "      <td>Q0JK63</td>\n",
       "      <td>A0A0P0XHF4.pdb_B</td>\n",
       "      <td>Q0JK63</td>\n",
       "      <td>0.755674</td>\n",
       "      <td>0.761966</td>\n",
       "    </tr>\n",
       "    <tr>\n",
       "      <th>708</th>\n",
       "      <td>8IF6-1_Q53WL8-1</td>\n",
       "      <td>Q6ZDH1.pdb_B</td>\n",
       "      <td>A0A0P0WPS2</td>\n",
       "      <td>A0A0P0XHF4.pdb_B</td>\n",
       "      <td>Q53WL8</td>\n",
       "      <td>0.755021</td>\n",
       "      <td>0.761609</td>\n",
       "    </tr>\n",
       "    <tr>\n",
       "      <th>709</th>\n",
       "      <td>8IF6-1_A3AQW3-1</td>\n",
       "      <td>A0A0N7KT42.pdb_B</td>\n",
       "      <td>A3AQW3</td>\n",
       "      <td>A0A0P0XHF4.pdb_B</td>\n",
       "      <td>A3AQW3</td>\n",
       "      <td>0.753747</td>\n",
       "      <td>0.705141</td>\n",
       "    </tr>\n",
       "    <tr>\n",
       "      <th>710</th>\n",
       "      <td>8IF6-1_Q6ZKB8-1</td>\n",
       "      <td>Q0DQG8.pdb_B</td>\n",
       "      <td>Q6ZKB8</td>\n",
       "      <td>A0A0P0XHF4.pdb_B</td>\n",
       "      <td>Q6ZKB8</td>\n",
       "      <td>0.753729</td>\n",
       "      <td>0.744348</td>\n",
       "    </tr>\n",
       "    <tr>\n",
       "      <th>711</th>\n",
       "      <td>8IF6-1_Q0DEJ9-1</td>\n",
       "      <td>A0A0P0XE77.pdb_B</td>\n",
       "      <td>A0A0P0WSK5</td>\n",
       "      <td>A0A0P0XHF4.pdb_B</td>\n",
       "      <td>Q0DEJ9</td>\n",
       "      <td>0.752301</td>\n",
       "      <td>0.752490</td>\n",
       "    </tr>\n",
       "  </tbody>\n",
       "</table>\n",
       "<p>712 rows × 7 columns</p>\n",
       "</div>"
      ],
      "text/plain": [
       "                 complex           str_rep     seq_rep        merged_rep  \\\n",
       "0        8IF6-1_Q6Z1A9-1  A0A0P0Y2U6.pdb_B  A0A0N7KPE6  A0A0P0XHF4.pdb_B   \n",
       "1        8IF6-1_Q7XSL8-1  A0A0P0WQD9.pdb_B  A0A0P0VJA5  A0A0P0XHF4.pdb_B   \n",
       "2        8IF6-1_Q5Z8K3-1      Q6ZDH1.pdb_B      Q5Z8K3  A0A0P0XHF4.pdb_B   \n",
       "3        8IF6-1_Q5VMP0-1  A0A0P0WQD9.pdb_B      Q5VMP0  A0A0P0XHF4.pdb_B   \n",
       "4    8IF6-1_A0A0P0WG98-1      Q5Z7U2.pdb_B      C7J8M0  A0A0P0XHF4.pdb_B   \n",
       "..                   ...               ...         ...               ...   \n",
       "707      8IF6-1_Q0JK63-1      Q0JK63.pdb_B      Q0JK63  A0A0P0XHF4.pdb_B   \n",
       "708      8IF6-1_Q53WL8-1      Q6ZDH1.pdb_B  A0A0P0WPS2  A0A0P0XHF4.pdb_B   \n",
       "709      8IF6-1_A3AQW3-1  A0A0N7KT42.pdb_B      A3AQW3  A0A0P0XHF4.pdb_B   \n",
       "710      8IF6-1_Q6ZKB8-1      Q0DQG8.pdb_B      Q6ZKB8  A0A0P0XHF4.pdb_B   \n",
       "711      8IF6-1_Q0DEJ9-1  A0A0P0XE77.pdb_B  A0A0P0WSK5  A0A0P0XHF4.pdb_B   \n",
       "\n",
       "         member      iptm  iptm+ptm  \n",
       "0        Q6Z1A9  0.903477  0.868600  \n",
       "1        Q7XSL8  0.903106  0.899270  \n",
       "2        Q5Z8K3  0.899284  0.857990  \n",
       "3        Q5VMP0  0.899220  0.894956  \n",
       "4    A0A0P0WG98  0.899086  0.817529  \n",
       "..          ...       ...       ...  \n",
       "707      Q0JK63  0.755674  0.761966  \n",
       "708      Q53WL8  0.755021  0.761609  \n",
       "709      A3AQW3  0.753747  0.705141  \n",
       "710      Q6ZKB8  0.753729  0.744348  \n",
       "711      Q0DEJ9  0.752301  0.752490  \n",
       "\n",
       "[712 rows x 7 columns]"
      ]
     },
     "execution_count": 4,
     "metadata": {},
     "output_type": "execute_result"
    }
   ],
   "source": [
    "clusters"
   ]
  },
  {
   "cell_type": "markdown",
   "metadata": {},
   "source": [
    "The columns of the `clusters` DataFrame are:\n",
    "- `complex`: The name of the complex. This is the same name as the directory where the model is stored.\n",
    "- `str_rep`: Name of the structure cluster representative\n",
    "- `seq_rep`: Name of the sequence cluster representative\n",
    "- `merged_rep`: Name of the merged cluster representative (sequence + structure)\n",
    "- `member`: The ID of the binder protein\n",
    "- `iptm`: The ipTM score of the model\n",
    "- `iptm+ptm`: The ipTM+PTM score of the model (it is calculated by AlphaFold as 0.8*ipTM + 0.2*pTM)"
   ]
  },
  {
   "cell_type": "markdown",
   "metadata": {},
   "source": [
    "See the number of different merged clusters:"
   ]
  },
  {
   "cell_type": "code",
   "execution_count": 5,
   "metadata": {},
   "outputs": [
    {
     "data": {
      "text/plain": [
       "(4,)"
      ]
     },
     "execution_count": 5,
     "metadata": {},
     "output_type": "execute_result"
    }
   ],
   "source": [
    "clusters.merged_rep.unique().shape"
   ]
  },
  {
   "cell_type": "markdown",
   "metadata": {},
   "source": [
    "For this example, the models and sequences from the 712 binder proteins were summarized in 4 clusters. Much fewer structures to sort through!"
   ]
  },
  {
   "cell_type": "markdown",
   "metadata": {},
   "source": [
    "## See alignment scores"
   ]
  },
  {
   "cell_type": "markdown",
   "metadata": {},
   "source": [
    "Alignment scores are calcualted for each cluster by aligning all vs all members of the cluster."
   ]
  },
  {
   "cell_type": "code",
   "execution_count": 6,
   "metadata": {},
   "outputs": [],
   "source": [
    "alignment_scores = pd.read_csv(results_dir / 'merged_clusters/alignment_scores.csv')"
   ]
  },
  {
   "cell_type": "code",
   "execution_count": 7,
   "metadata": {},
   "outputs": [
    {
     "data": {
      "text/html": [
       "<div>\n",
       "<style scoped>\n",
       "    .dataframe tbody tr th:only-of-type {\n",
       "        vertical-align: middle;\n",
       "    }\n",
       "\n",
       "    .dataframe tbody tr th {\n",
       "        vertical-align: top;\n",
       "    }\n",
       "\n",
       "    .dataframe thead th {\n",
       "        text-align: right;\n",
       "    }\n",
       "</style>\n",
       "<table border=\"1\" class=\"dataframe\">\n",
       "  <thead>\n",
       "    <tr style=\"text-align: right;\">\n",
       "      <th></th>\n",
       "      <th>cluster</th>\n",
       "      <th>ref</th>\n",
       "      <th>member</th>\n",
       "      <th>tmscore_ref</th>\n",
       "      <th>tmscore_m</th>\n",
       "      <th>aligned_length</th>\n",
       "      <th>rmsd</th>\n",
       "    </tr>\n",
       "  </thead>\n",
       "  <tbody>\n",
       "    <tr>\n",
       "      <th>0</th>\n",
       "      <td>A0A0P0XHF4.pdb_B</td>\n",
       "      <td>Q6Z1A9</td>\n",
       "      <td>Q7XSL8</td>\n",
       "      <td>0.40236</td>\n",
       "      <td>0.25976</td>\n",
       "      <td>215</td>\n",
       "      <td>8.43</td>\n",
       "    </tr>\n",
       "    <tr>\n",
       "      <th>1</th>\n",
       "      <td>A0A0P0XHF4.pdb_B</td>\n",
       "      <td>Q6Z1A9</td>\n",
       "      <td>Q5Z8K3</td>\n",
       "      <td>0.38146</td>\n",
       "      <td>0.28447</td>\n",
       "      <td>185</td>\n",
       "      <td>10.48</td>\n",
       "    </tr>\n",
       "    <tr>\n",
       "      <th>2</th>\n",
       "      <td>A0A0P0XHF4.pdb_B</td>\n",
       "      <td>Q6Z1A9</td>\n",
       "      <td>Q5VMP0</td>\n",
       "      <td>0.42881</td>\n",
       "      <td>0.23565</td>\n",
       "      <td>419</td>\n",
       "      <td>16.00</td>\n",
       "    </tr>\n",
       "    <tr>\n",
       "      <th>3</th>\n",
       "      <td>A0A0P0XHF4.pdb_B</td>\n",
       "      <td>Q6Z1A9</td>\n",
       "      <td>A0A0P0WG98</td>\n",
       "      <td>0.38724</td>\n",
       "      <td>0.35182</td>\n",
       "      <td>235</td>\n",
       "      <td>16.33</td>\n",
       "    </tr>\n",
       "    <tr>\n",
       "      <th>4</th>\n",
       "      <td>A0A0P0XHF4.pdb_B</td>\n",
       "      <td>Q6Z1A9</td>\n",
       "      <td>Q67UX0</td>\n",
       "      <td>0.40441</td>\n",
       "      <td>0.30453</td>\n",
       "      <td>263</td>\n",
       "      <td>15.26</td>\n",
       "    </tr>\n",
       "  </tbody>\n",
       "</table>\n",
       "</div>"
      ],
      "text/plain": [
       "            cluster     ref      member  tmscore_ref  tmscore_m  \\\n",
       "0  A0A0P0XHF4.pdb_B  Q6Z1A9      Q7XSL8      0.40236    0.25976   \n",
       "1  A0A0P0XHF4.pdb_B  Q6Z1A9      Q5Z8K3      0.38146    0.28447   \n",
       "2  A0A0P0XHF4.pdb_B  Q6Z1A9      Q5VMP0      0.42881    0.23565   \n",
       "3  A0A0P0XHF4.pdb_B  Q6Z1A9  A0A0P0WG98      0.38724    0.35182   \n",
       "4  A0A0P0XHF4.pdb_B  Q6Z1A9      Q67UX0      0.40441    0.30453   \n",
       "\n",
       "   aligned_length   rmsd  \n",
       "0             215   8.43  \n",
       "1             185  10.48  \n",
       "2             419  16.00  \n",
       "3             235  16.33  \n",
       "4             263  15.26  "
      ]
     },
     "execution_count": 7,
     "metadata": {},
     "output_type": "execute_result"
    }
   ],
   "source": [
    "alignment_scores.head()"
   ]
  },
  {
   "cell_type": "markdown",
   "metadata": {},
   "source": [
    "The columns of the `alignment_scores` DataFrame are:\n",
    "- `cluster`: The name of the cluster\n",
    "- `ref`: Binder ID of the reference structure in the alignment\n",
    "- `member`: Binder ID of the second structure in the alignment\n",
    "- `tmscore_ref`: TM-score based on the reference structure\n",
    "- `tmscore_m`: TM-score based on the second structure\n",
    "- `aligned_length`: Length of the alignment\n",
    "- `rmsd`: RMSD of the alignment\n",
    "\n",
    "Based on these scores, the median scores are calculated for each cluster member to find the best representative of the cluster (the one with lowest RMSD score to the other members)."
   ]
  },
  {
   "cell_type": "markdown",
   "metadata": {},
   "source": [
    "## Read median scores and find top clusters"
   ]
  },
  {
   "cell_type": "markdown",
   "metadata": {},
   "source": [
    "Now we can rank the clusters based on the median alignment scores of the cluster representatives:"
   ]
  },
  {
   "cell_type": "code",
   "execution_count": 8,
   "metadata": {},
   "outputs": [],
   "source": [
    "median_scores = pd.read_csv(results_dir / 'merged_clusters/median_scores.csv')"
   ]
  },
  {
   "cell_type": "code",
   "execution_count": 9,
   "metadata": {},
   "outputs": [
    {
     "data": {
      "text/plain": [
       "(712, 7)"
      ]
     },
     "execution_count": 9,
     "metadata": {},
     "output_type": "execute_result"
    }
   ],
   "source": [
    "median_scores.shape"
   ]
  },
  {
   "cell_type": "markdown",
   "metadata": {},
   "source": [
    "The `median_scores` DataFrame contains the median alignment scores of each cluster member when aligned to all other members of the same cluster."
   ]
  },
  {
   "cell_type": "code",
   "execution_count": 10,
   "metadata": {},
   "outputs": [
    {
     "data": {
      "text/html": [
       "<div>\n",
       "<style scoped>\n",
       "    .dataframe tbody tr th:only-of-type {\n",
       "        vertical-align: middle;\n",
       "    }\n",
       "\n",
       "    .dataframe tbody tr th {\n",
       "        vertical-align: top;\n",
       "    }\n",
       "\n",
       "    .dataframe thead th {\n",
       "        text-align: right;\n",
       "    }\n",
       "</style>\n",
       "<table border=\"1\" class=\"dataframe\">\n",
       "  <thead>\n",
       "    <tr style=\"text-align: right;\">\n",
       "      <th></th>\n",
       "      <th>cluster</th>\n",
       "      <th>member</th>\n",
       "      <th>tmscore</th>\n",
       "      <th>rmsd</th>\n",
       "      <th>aligned_length</th>\n",
       "      <th>cluster_size</th>\n",
       "      <th>fraction_binder</th>\n",
       "    </tr>\n",
       "  </thead>\n",
       "  <tbody>\n",
       "    <tr>\n",
       "      <th>0</th>\n",
       "      <td>A0A0P0VR14.pdb_B</td>\n",
       "      <td>A0A0P0VR14</td>\n",
       "      <td>0.32871</td>\n",
       "      <td>18.64</td>\n",
       "      <td>208.0</td>\n",
       "      <td>6.0</td>\n",
       "      <td>0.111864</td>\n",
       "    </tr>\n",
       "    <tr>\n",
       "      <th>1</th>\n",
       "      <td>A0A0P0VR14.pdb_B</td>\n",
       "      <td>Q2R448</td>\n",
       "      <td>0.85991</td>\n",
       "      <td>6.04</td>\n",
       "      <td>445.0</td>\n",
       "      <td>6.0</td>\n",
       "      <td>0.934256</td>\n",
       "    </tr>\n",
       "    <tr>\n",
       "      <th>2</th>\n",
       "      <td>A0A0P0VR14.pdb_B</td>\n",
       "      <td>Q6K6K8</td>\n",
       "      <td>0.85162</td>\n",
       "      <td>4.42</td>\n",
       "      <td>445.0</td>\n",
       "      <td>6.0</td>\n",
       "      <td>0.903010</td>\n",
       "    </tr>\n",
       "    <tr>\n",
       "      <th>3</th>\n",
       "      <td>A0A0P0VR14.pdb_B</td>\n",
       "      <td>Q7XKU0</td>\n",
       "      <td>0.49110</td>\n",
       "      <td>17.19</td>\n",
       "      <td>405.0</td>\n",
       "      <td>6.0</td>\n",
       "      <td>0.795848</td>\n",
       "    </tr>\n",
       "    <tr>\n",
       "      <th>4</th>\n",
       "      <td>A0A0P0VR14.pdb_B</td>\n",
       "      <td>Q7XL60</td>\n",
       "      <td>0.82004</td>\n",
       "      <td>4.95</td>\n",
       "      <td>455.0</td>\n",
       "      <td>6.0</td>\n",
       "      <td>0.894569</td>\n",
       "    </tr>\n",
       "  </tbody>\n",
       "</table>\n",
       "</div>"
      ],
      "text/plain": [
       "            cluster      member  tmscore   rmsd  aligned_length  cluster_size  \\\n",
       "0  A0A0P0VR14.pdb_B  A0A0P0VR14  0.32871  18.64           208.0           6.0   \n",
       "1  A0A0P0VR14.pdb_B      Q2R448  0.85991   6.04           445.0           6.0   \n",
       "2  A0A0P0VR14.pdb_B      Q6K6K8  0.85162   4.42           445.0           6.0   \n",
       "3  A0A0P0VR14.pdb_B      Q7XKU0  0.49110  17.19           405.0           6.0   \n",
       "4  A0A0P0VR14.pdb_B      Q7XL60  0.82004   4.95           455.0           6.0   \n",
       "\n",
       "   fraction_binder  \n",
       "0         0.111864  \n",
       "1         0.934256  \n",
       "2         0.903010  \n",
       "3         0.795848  \n",
       "4         0.894569  "
      ]
     },
     "execution_count": 10,
     "metadata": {},
     "output_type": "execute_result"
    }
   ],
   "source": [
    "median_scores.head()"
   ]
  },
  {
   "cell_type": "markdown",
   "metadata": {},
   "source": [
    "The columns of the `median_scores` DataFrame are:\n",
    "- `cluster`: The name of the cluster\n",
    "- `member`: ID of the cluster member (binder molecule)\n",
    "- `tmscore`: Median TM-score of the complex against all other complexes in this cluster\n",
    "- `rmsd`: Median RMSD of the complex against all other complexes in this cluster\n",
    "- `aligned_length`: Median length of the alignment\n",
    "- `cluster_size`\n",
    "- `fraction_binder`: In average, how much of the binder molecule is included in the alignments of this complex against all other complexes (calculated as `(aligned_length - bait_length)/binder_length`). This is just meant to be an approximation of how complete the aligmnents are for this cluster member."
   ]
  },
  {
   "cell_type": "markdown",
   "metadata": {},
   "source": [
    "The next step is to select the cluster representatives. For this, we first need to filter out the cluster members with poor quality alignments, according to the following criteria:\n",
    "- Small size\n",
    "- Low median TM-score\n",
    "- High median RMSD\n",
    "- Low fraction of the binder aligned in the cluster representative"
   ]
  },
  {
   "cell_type": "code",
   "execution_count": 11,
   "metadata": {},
   "outputs": [],
   "source": [
    "# Select the clusters with the following criteria:\n",
    "select = ((median_scores.cluster_size >= 5) & \\\n",
    "            (median_scores.tmscore >= 0.2) & \\\n",
    "            (median_scores.fraction_binder >= 0.2) & \\\n",
    "            (median_scores.rmsd <= 15))\n",
    "median_scores_filtered = median_scores[select]"
   ]
  },
  {
   "cell_type": "code",
   "execution_count": 12,
   "metadata": {},
   "outputs": [
    {
     "data": {
      "text/plain": [
       "(169, 7)"
      ]
     },
     "execution_count": 12,
     "metadata": {},
     "output_type": "execute_result"
    }
   ],
   "source": [
    "median_scores_filtered.shape"
   ]
  },
  {
   "cell_type": "markdown",
   "metadata": {},
   "source": [
    "See how many clusters are left after filtering:"
   ]
  },
  {
   "cell_type": "code",
   "execution_count": 13,
   "metadata": {},
   "outputs": [
    {
     "data": {
      "text/plain": [
       "(3,)"
      ]
     },
     "execution_count": 13,
     "metadata": {},
     "output_type": "execute_result"
    }
   ],
   "source": [
    "median_scores_filtered.cluster.unique().shape"
   ]
  },
  {
   "cell_type": "markdown",
   "metadata": {},
   "source": [
    "Function to format tables:"
   ]
  },
  {
   "cell_type": "code",
   "execution_count": 14,
   "metadata": {},
   "outputs": [],
   "source": [
    "import seaborn as sns\n",
    "cm_r = sns.color_palette(\"mako_r\", as_cmap=True)\n",
    "cm = sns.color_palette(\"mako\", as_cmap=True)"
   ]
  },
  {
   "cell_type": "code",
   "execution_count": 15,
   "metadata": {},
   "outputs": [],
   "source": [
    "def make_pretty(styler):\n",
    "    styler.format(precision=2)\n",
    "    styler.background_gradient(axis=0, cmap=cm_r, subset=pd.IndexSlice[:,\"cluster_size\"],vmin=5,vmax=15)\n",
    "    styler.background_gradient(axis=0, cmap=cm_r, subset=pd.IndexSlice[:,\"tmscore\"],vmin=0.2,vmax=0.8)\n",
    "    styler.background_gradient(axis=0, cmap=cm, subset=pd.IndexSlice[:,\"rmsd\"],vmin=2,vmax=10)\n",
    "    styler.background_gradient(axis=0, cmap=cm_r, subset=pd.IndexSlice[:,\"fraction_binder\"],vmin=0.2,vmax=0.9)\n",
    "    return styler"
   ]
  },
  {
   "cell_type": "markdown",
   "metadata": {},
   "source": [
    "## RESULT 1: See clusters ranked by RMSD"
   ]
  },
  {
   "cell_type": "markdown",
   "metadata": {},
   "source": [
    "Finally, we can rank the clusters and see which ones have a good combination of low RMSD and large cluster size. These ones are the most likely to contain the true binder."
   ]
  },
  {
   "cell_type": "code",
   "execution_count": 16,
   "metadata": {},
   "outputs": [
    {
     "data": {
      "text/html": [
       "<style type=\"text/css\">\n",
       "#T_ca618_row0_col1, #T_ca618_row0_col2, #T_ca618_row0_col3, #T_ca618_row0_col4, #T_ca618_row1_col1, #T_ca618_row1_col4, #T_ca618_row2_col4 {\n",
       "  background-color: #0b0405;\n",
       "  color: #f1f1f1;\n",
       "}\n",
       "#T_ca618_row1_col2 {\n",
       "  background-color: #414082;\n",
       "  color: #f1f1f1;\n",
       "}\n",
       "#T_ca618_row1_col3 {\n",
       "  background-color: #a9e1bd;\n",
       "  color: #000000;\n",
       "}\n",
       "#T_ca618_row2_col1 {\n",
       "  background-color: #312142;\n",
       "  color: #f1f1f1;\n",
       "}\n",
       "#T_ca618_row2_col2 {\n",
       "  background-color: #def5e5;\n",
       "  color: #000000;\n",
       "}\n",
       "#T_ca618_row2_col3 {\n",
       "  background-color: #3497a9;\n",
       "  color: #f1f1f1;\n",
       "}\n",
       "</style>\n",
       "<table id=\"T_ca618\">\n",
       "  <thead>\n",
       "    <tr>\n",
       "      <th class=\"blank level0\" >&nbsp;</th>\n",
       "      <th id=\"T_ca618_level0_col0\" class=\"col_heading level0 col0\" >cluster</th>\n",
       "      <th id=\"T_ca618_level0_col1\" class=\"col_heading level0 col1\" >tmscore</th>\n",
       "      <th id=\"T_ca618_level0_col2\" class=\"col_heading level0 col2\" >rmsd</th>\n",
       "      <th id=\"T_ca618_level0_col3\" class=\"col_heading level0 col3\" >cluster_size</th>\n",
       "      <th id=\"T_ca618_level0_col4\" class=\"col_heading level0 col4\" >fraction_binder</th>\n",
       "    </tr>\n",
       "  </thead>\n",
       "  <tbody>\n",
       "    <tr>\n",
       "      <th id=\"T_ca618_level0_row0\" class=\"row_heading level0 row0\" >19</th>\n",
       "      <td id=\"T_ca618_row0_col0\" class=\"data row0 col0\" >A0A0P0XHF4.pdb_B</td>\n",
       "      <td id=\"T_ca618_row0_col1\" class=\"data row0 col1\" >0.94</td>\n",
       "      <td id=\"T_ca618_row0_col2\" class=\"data row0 col2\" >1.53</td>\n",
       "      <td id=\"T_ca618_row0_col3\" class=\"data row0 col3\" >695.00</td>\n",
       "      <td id=\"T_ca618_row0_col4\" class=\"data row0 col4\" >1.00</td>\n",
       "    </tr>\n",
       "    <tr>\n",
       "      <th id=\"T_ca618_level0_row1\" class=\"row_heading level0 row1\" >2</th>\n",
       "      <td id=\"T_ca618_row1_col0\" class=\"data row1 col0\" >A0A0P0VR14.pdb_B</td>\n",
       "      <td id=\"T_ca618_row1_col1\" class=\"data row1 col1\" >0.85</td>\n",
       "      <td id=\"T_ca618_row1_col2\" class=\"data row1 col2\" >4.42</td>\n",
       "      <td id=\"T_ca618_row1_col3\" class=\"data row1 col3\" >6.00</td>\n",
       "      <td id=\"T_ca618_row1_col4\" class=\"data row1 col4\" >0.90</td>\n",
       "    </tr>\n",
       "    <tr>\n",
       "      <th id=\"T_ca618_level0_row2\" class=\"row_heading level0 row2\" >704</th>\n",
       "      <td id=\"T_ca618_row2_col0\" class=\"data row2 col0\" >Q65XD1.pdb_B</td>\n",
       "      <td id=\"T_ca618_row2_col1\" class=\"data row2 col1\" >0.70</td>\n",
       "      <td id=\"T_ca618_row2_col2\" class=\"data row2 col2\" >13.05</td>\n",
       "      <td id=\"T_ca618_row2_col3\" class=\"data row2 col3\" >9.00</td>\n",
       "      <td id=\"T_ca618_row2_col4\" class=\"data row2 col4\" >0.93</td>\n",
       "    </tr>\n",
       "  </tbody>\n",
       "</table>\n"
      ],
      "text/plain": [
       "<pandas.io.formats.style.Styler at 0x147a2d262ec0>"
      ]
     },
     "execution_count": 16,
     "metadata": {},
     "output_type": "execute_result"
    }
   ],
   "source": [
    "# Select the rows with the minimum RMSD for each cluster\n",
    "select = median_scores_filtered.groupby('cluster').rmsd.idxmin()\n",
    "columns = ['cluster', 'tmscore', 'rmsd', 'cluster_size', 'fraction_binder']\n",
    "median_scores_filtered.loc[select,columns].sort_values(by='rmsd').style.pipe(make_pretty)"
   ]
  },
  {
   "cell_type": "markdown",
   "metadata": {},
   "source": [
    "Here we can see that the cluster `B7ESQ3.pdb_B` has the lowest median RMSD and the highest median TM-score. It also has a very large size with 695 members!"
   ]
  },
  {
   "cell_type": "markdown",
   "metadata": {},
   "source": [
    "## RESULT 2: See clusters ranked by size"
   ]
  },
  {
   "cell_type": "code",
   "execution_count": 17,
   "metadata": {},
   "outputs": [
    {
     "data": {
      "text/html": [
       "<style type=\"text/css\">\n",
       "#T_dd1d4_row0_col1, #T_dd1d4_row0_col2, #T_dd1d4_row0_col3, #T_dd1d4_row0_col4, #T_dd1d4_row1_col4, #T_dd1d4_row2_col1, #T_dd1d4_row2_col4 {\n",
       "  background-color: #0b0405;\n",
       "  color: #f1f1f1;\n",
       "}\n",
       "#T_dd1d4_row1_col1 {\n",
       "  background-color: #312142;\n",
       "  color: #f1f1f1;\n",
       "}\n",
       "#T_dd1d4_row1_col2 {\n",
       "  background-color: #def5e5;\n",
       "  color: #000000;\n",
       "}\n",
       "#T_dd1d4_row1_col3 {\n",
       "  background-color: #3497a9;\n",
       "  color: #f1f1f1;\n",
       "}\n",
       "#T_dd1d4_row2_col2 {\n",
       "  background-color: #414082;\n",
       "  color: #f1f1f1;\n",
       "}\n",
       "#T_dd1d4_row2_col3 {\n",
       "  background-color: #a9e1bd;\n",
       "  color: #000000;\n",
       "}\n",
       "</style>\n",
       "<table id=\"T_dd1d4\">\n",
       "  <thead>\n",
       "    <tr>\n",
       "      <th class=\"blank level0\" >&nbsp;</th>\n",
       "      <th id=\"T_dd1d4_level0_col0\" class=\"col_heading level0 col0\" >cluster</th>\n",
       "      <th id=\"T_dd1d4_level0_col1\" class=\"col_heading level0 col1\" >tmscore</th>\n",
       "      <th id=\"T_dd1d4_level0_col2\" class=\"col_heading level0 col2\" >rmsd</th>\n",
       "      <th id=\"T_dd1d4_level0_col3\" class=\"col_heading level0 col3\" >cluster_size</th>\n",
       "      <th id=\"T_dd1d4_level0_col4\" class=\"col_heading level0 col4\" >fraction_binder</th>\n",
       "    </tr>\n",
       "  </thead>\n",
       "  <tbody>\n",
       "    <tr>\n",
       "      <th id=\"T_dd1d4_level0_row0\" class=\"row_heading level0 row0\" >19</th>\n",
       "      <td id=\"T_dd1d4_row0_col0\" class=\"data row0 col0\" >A0A0P0XHF4.pdb_B</td>\n",
       "      <td id=\"T_dd1d4_row0_col1\" class=\"data row0 col1\" >0.94</td>\n",
       "      <td id=\"T_dd1d4_row0_col2\" class=\"data row0 col2\" >1.53</td>\n",
       "      <td id=\"T_dd1d4_row0_col3\" class=\"data row0 col3\" >695.00</td>\n",
       "      <td id=\"T_dd1d4_row0_col4\" class=\"data row0 col4\" >1.00</td>\n",
       "    </tr>\n",
       "    <tr>\n",
       "      <th id=\"T_dd1d4_level0_row1\" class=\"row_heading level0 row1\" >704</th>\n",
       "      <td id=\"T_dd1d4_row1_col0\" class=\"data row1 col0\" >Q65XD1.pdb_B</td>\n",
       "      <td id=\"T_dd1d4_row1_col1\" class=\"data row1 col1\" >0.70</td>\n",
       "      <td id=\"T_dd1d4_row1_col2\" class=\"data row1 col2\" >13.05</td>\n",
       "      <td id=\"T_dd1d4_row1_col3\" class=\"data row1 col3\" >9.00</td>\n",
       "      <td id=\"T_dd1d4_row1_col4\" class=\"data row1 col4\" >0.93</td>\n",
       "    </tr>\n",
       "    <tr>\n",
       "      <th id=\"T_dd1d4_level0_row2\" class=\"row_heading level0 row2\" >2</th>\n",
       "      <td id=\"T_dd1d4_row2_col0\" class=\"data row2 col0\" >A0A0P0VR14.pdb_B</td>\n",
       "      <td id=\"T_dd1d4_row2_col1\" class=\"data row2 col1\" >0.85</td>\n",
       "      <td id=\"T_dd1d4_row2_col2\" class=\"data row2 col2\" >4.42</td>\n",
       "      <td id=\"T_dd1d4_row2_col3\" class=\"data row2 col3\" >6.00</td>\n",
       "      <td id=\"T_dd1d4_row2_col4\" class=\"data row2 col4\" >0.90</td>\n",
       "    </tr>\n",
       "  </tbody>\n",
       "</table>\n"
      ],
      "text/plain": [
       "<pandas.io.formats.style.Styler at 0x147a2d263670>"
      ]
     },
     "execution_count": 17,
     "metadata": {},
     "output_type": "execute_result"
    }
   ],
   "source": [
    "# Select the rows with the minimum RMSD for each cluster\n",
    "select = median_scores_filtered.groupby('cluster').rmsd.idxmin()\n",
    "columns = ['cluster', 'tmscore', 'rmsd', 'cluster_size', 'fraction_binder']\n",
    "median_scores_filtered.loc[select, columns].sort_values(by='cluster_size', ascending=False).style.pipe(make_pretty)"
   ]
  },
  {
   "cell_type": "markdown",
   "metadata": {},
   "source": [
    "`B7ESQ3.pdb_B` is also the largest cluster. So we managed to reduce more than 43,000 starting models to only one excellent cluster!"
   ]
  },
  {
   "cell_type": "markdown",
   "metadata": {},
   "source": [
    "For this example we know that in our list of candidate binders there are 5 homologues of the true binder protein. We can find out which clusters contain these homologues:"
   ]
  },
  {
   "cell_type": "code",
   "execution_count": 18,
   "metadata": {},
   "outputs": [],
   "source": [
    "homologues = ['Q5VMP0', 'A0A0N7KEW0', 'Q8RZQ3', 'Q69X07', 'A0A0P0Y6A8']"
   ]
  },
  {
   "cell_type": "code",
   "execution_count": 19,
   "metadata": {},
   "outputs": [
    {
     "data": {
      "text/html": [
       "<div>\n",
       "<style scoped>\n",
       "    .dataframe tbody tr th:only-of-type {\n",
       "        vertical-align: middle;\n",
       "    }\n",
       "\n",
       "    .dataframe tbody tr th {\n",
       "        vertical-align: top;\n",
       "    }\n",
       "\n",
       "    .dataframe thead th {\n",
       "        text-align: right;\n",
       "    }\n",
       "</style>\n",
       "<table border=\"1\" class=\"dataframe\">\n",
       "  <thead>\n",
       "    <tr style=\"text-align: right;\">\n",
       "      <th></th>\n",
       "      <th>complex</th>\n",
       "      <th>merged_rep</th>\n",
       "      <th>iptm</th>\n",
       "      <th>iptm+ptm</th>\n",
       "    </tr>\n",
       "  </thead>\n",
       "  <tbody>\n",
       "    <tr>\n",
       "      <th>3</th>\n",
       "      <td>8IF6-1_Q5VMP0-1</td>\n",
       "      <td>A0A0P0XHF4.pdb_B</td>\n",
       "      <td>0.899220</td>\n",
       "      <td>0.894956</td>\n",
       "    </tr>\n",
       "    <tr>\n",
       "      <th>28</th>\n",
       "      <td>8IF6-1_A0A0P0Y6A8-1</td>\n",
       "      <td>A0A0P0XHF4.pdb_B</td>\n",
       "      <td>0.893004</td>\n",
       "      <td>0.886242</td>\n",
       "    </tr>\n",
       "    <tr>\n",
       "      <th>321</th>\n",
       "      <td>8IF6-1_Q8RZQ3-1</td>\n",
       "      <td>A0A0P0XHF4.pdb_B</td>\n",
       "      <td>0.867056</td>\n",
       "      <td>0.855604</td>\n",
       "    </tr>\n",
       "    <tr>\n",
       "      <th>372</th>\n",
       "      <td>8IF6-1_A0A0N7KEW0-1</td>\n",
       "      <td>A0A0P0XHF4.pdb_B</td>\n",
       "      <td>0.862492</td>\n",
       "      <td>0.844927</td>\n",
       "    </tr>\n",
       "    <tr>\n",
       "      <th>516</th>\n",
       "      <td>8IF6-1_Q69X07-1</td>\n",
       "      <td>A0A0P0XHF4.pdb_B</td>\n",
       "      <td>0.847566</td>\n",
       "      <td>0.808583</td>\n",
       "    </tr>\n",
       "  </tbody>\n",
       "</table>\n",
       "</div>"
      ],
      "text/plain": [
       "                 complex        merged_rep      iptm  iptm+ptm\n",
       "3        8IF6-1_Q5VMP0-1  A0A0P0XHF4.pdb_B  0.899220  0.894956\n",
       "28   8IF6-1_A0A0P0Y6A8-1  A0A0P0XHF4.pdb_B  0.893004  0.886242\n",
       "321      8IF6-1_Q8RZQ3-1  A0A0P0XHF4.pdb_B  0.867056  0.855604\n",
       "372  8IF6-1_A0A0N7KEW0-1  A0A0P0XHF4.pdb_B  0.862492  0.844927\n",
       "516      8IF6-1_Q69X07-1  A0A0P0XHF4.pdb_B  0.847566  0.808583"
      ]
     },
     "execution_count": 19,
     "metadata": {},
     "output_type": "execute_result"
    }
   ],
   "source": [
    "clusters[clusters.member.isin(homologues)][['complex','merged_rep','iptm','iptm+ptm']]"
   ]
  },
  {
   "cell_type": "markdown",
   "metadata": {},
   "source": [
    "They are all in the top cluster!"
   ]
  },
  {
   "cell_type": "markdown",
   "metadata": {},
   "source": [
    "# 2. Make pymol sessions for the top clusters with `make_pymol_sessions`"
   ]
  },
  {
   "cell_type": "markdown",
   "metadata": {},
   "source": [
    "Run the following command to select the top clusters that we saw above, make pymol sessions of the top clusters, and optionally do structural clustering on each cluster to find subclusters:\n",
    "\n",
    "```bash\n",
    "alphacrv-rank \\\n",
    "  --clusters_dir ./examples/AVRPia/AVRPia_vs_rice_clusters \\\n",
    "  --min_members 5 \\\n",
    "  --min_tmscore 0.2 \\\n",
    "  --max_rmsd 15 \\\n",
    "  --cluster_clusters\n",
    "```\n",
    "\n",
    "The program will show you the top clusters that will be used to make the pymol sessions. You can press `Enter` to continue, or exit the program with `Ctrl+C` to change the filtering parameters."
   ]
  },
  {
   "cell_type": "raw",
   "metadata": {},
   "source": [
    "(env) AlphaCRV$ alphacrv-rank \\\n",
    "--clusters_dir ./examples/SKP1/SKP1_vs_rice_clusters \\\n",
    "--min_members 5 \\\n",
    "--min_tmscore 0.2 \\\n",
    "--max_rmsd 15 \\\n",
    "--cluster_clusters\n",
    "INFO:root:Identified 3 top clusters.\n",
    "INFO:root:Top clusters:\n",
    "\n",
    "            cluster   tmscore    rmsd  cluster_size  fraction_binder\n",
    "0  A0A0P0XHF4.pdb_B  0.941210   1.530         695.0          1.00000\n",
    "1      Q65XD1.pdb_B  0.704515  13.055           9.0          0.93000\n",
    "2  A0A0P0VR14.pdb_B  0.851620   4.420           6.0          0.90301\n",
    "\n",
    "Press Enter to continue, or Ctrl+C to exit and select different filtering parameters: \n",
    "INFO:root:Copying pdbs from the top clusters...\n",
    "INFO:root:Making Pymol sessions...\n",
    "PyMOL>select chain B AND model A0A0P0VR14_repB\n",
    " Selector: selection \"sele\" defined with 4621 atoms.\n",
    "PyMOL>bg white\n",
    "PyMOL>set ray_shadow, 0\n",
    " Setting: ray_shadow set to off.\n",
    "PyMOL>color grey80\n",
    " Executive: Colored 42707 atoms.\n",
    "PyMOL>select chain A\n",
    " Selector: selection \"sele\" defined with 16020 atoms.\n",
    "PyMOL>color slate, sele\n",
    " Executive: Colored 16020 atoms.\n",
    "PyMOL>delete all\n",
    "PyMOL>select chain B AND model A0A0P0XHF4_repB\n",
    " Selector: selection \"sele\" defined with 646 atoms.\n",
    "PyMOL>bg white\n",
    "PyMOL>set ray_shadow, 0\n",
    " Setting: ray_shadow set to off.\n",
    "PyMOL>color grey80\n",
    " Executive: Colored 5270014 atoms.\n",
    "PyMOL>select chain A\n",
    " Selector: selection \"sele\" defined with 1844949 atoms.\n",
    "PyMOL>color slate, sele\n",
    " Executive: Colored 1844949 atoms.\n",
    "PyMOL>delete all\n",
    "PyMOL>select chain B AND model Q65XD1_repB\n",
    " Selector: selection \"sele\" defined with 3154 atoms.\n",
    "PyMOL>bg white\n",
    "PyMOL>set ray_shadow, 0\n",
    " Setting: ray_shadow set to off.\n",
    "PyMOL>color grey80\n",
    " Executive: Colored 76932 atoms.\n",
    "PyMOL>select chain A\n",
    " Selector: selection \"sele\" defined with 24030 atoms.\n",
    "PyMOL>color slate, sele\n",
    " Executive: Colored 24030 atoms.\n",
    "PyMOL>delete all\n",
    "INFO:root:Clustering clusters...\n",
    "INFO:root:Clustering A0A0P0VR14.pdb_B\n",
    "INFO:root:Running structural clustering...\n",
    "INFO:root:Processing output...\n",
    "INFO:root:Clustering A0A0P0XHF4.pdb_B\n",
    "INFO:root:Running structural clustering...\n",
    "INFO:root:Processing output...\n",
    "INFO:root:Clustering Q65XD1.pdb_B\n",
    "INFO:root:Running structural clustering...\n",
    "INFO:root:Processing output...\n",
    "INFO:root:Done!!"
   ]
  },
  {
   "cell_type": "markdown",
   "metadata": {},
   "source": [
    "This command should create the following files in the `./examples/SKP1/SKP1_vs_rice_clusters/merged_clusters/` / `merged_clusters` directory:\n",
    "\n",
    "- `clustered_clusters.csv`: Contains the subclusters for each of the top clusters.\n",
    "- `cluster_<cluster_ID>/`: Contains the PDBs of each cluster, and a PyMol session with the cluster members.\n",
    "- `cluster_<cluster_ID>_clusters/`: Contains the results of the `foldseek easy-cluster` run on the cluster members."
   ]
  },
  {
   "cell_type": "markdown",
   "metadata": {},
   "source": [
    "## Read clustered clusters"
   ]
  },
  {
   "cell_type": "markdown",
   "metadata": {},
   "source": [
    "The following DataFrame contains the subclusters for each of the top clusters:"
   ]
  },
  {
   "cell_type": "code",
   "execution_count": 20,
   "metadata": {},
   "outputs": [],
   "source": [
    "clustered_clusters = pd.read_csv(results_dir / 'merged_clusters/clustered_clusters.csv')"
   ]
  },
  {
   "cell_type": "code",
   "execution_count": 21,
   "metadata": {},
   "outputs": [
    {
     "data": {
      "text/html": [
       "<div>\n",
       "<style scoped>\n",
       "    .dataframe tbody tr th:only-of-type {\n",
       "        vertical-align: middle;\n",
       "    }\n",
       "\n",
       "    .dataframe tbody tr th {\n",
       "        vertical-align: top;\n",
       "    }\n",
       "\n",
       "    .dataframe thead th {\n",
       "        text-align: right;\n",
       "    }\n",
       "</style>\n",
       "<table border=\"1\" class=\"dataframe\">\n",
       "  <thead>\n",
       "    <tr style=\"text-align: right;\">\n",
       "      <th></th>\n",
       "      <th>subcluster_rep</th>\n",
       "      <th>member</th>\n",
       "      <th>cluster</th>\n",
       "    </tr>\n",
       "  </thead>\n",
       "  <tbody>\n",
       "    <tr>\n",
       "      <th>0</th>\n",
       "      <td>A0A0P0VR14.pdb_B</td>\n",
       "      <td>A0A0P0VR14</td>\n",
       "      <td>A0A0P0VR14.pdb_B</td>\n",
       "    </tr>\n",
       "    <tr>\n",
       "      <th>1</th>\n",
       "      <td>A0A0P0VR14.pdb_B</td>\n",
       "      <td>Q7XKU0</td>\n",
       "      <td>A0A0P0VR14.pdb_B</td>\n",
       "    </tr>\n",
       "    <tr>\n",
       "      <th>2</th>\n",
       "      <td>A0A0P0VR14.pdb_B</td>\n",
       "      <td>Q7XL60</td>\n",
       "      <td>A0A0P0VR14.pdb_B</td>\n",
       "    </tr>\n",
       "    <tr>\n",
       "      <th>3</th>\n",
       "      <td>A0A0P0VR14.pdb_B</td>\n",
       "      <td>Q6K6K8</td>\n",
       "      <td>A0A0P0VR14.pdb_B</td>\n",
       "    </tr>\n",
       "    <tr>\n",
       "      <th>4</th>\n",
       "      <td>A0A0P0VR14.pdb_B</td>\n",
       "      <td>Q2R448</td>\n",
       "      <td>A0A0P0VR14.pdb_B</td>\n",
       "    </tr>\n",
       "  </tbody>\n",
       "</table>\n",
       "</div>"
      ],
      "text/plain": [
       "     subcluster_rep      member           cluster\n",
       "0  A0A0P0VR14.pdb_B  A0A0P0VR14  A0A0P0VR14.pdb_B\n",
       "1  A0A0P0VR14.pdb_B      Q7XKU0  A0A0P0VR14.pdb_B\n",
       "2  A0A0P0VR14.pdb_B      Q7XL60  A0A0P0VR14.pdb_B\n",
       "3  A0A0P0VR14.pdb_B      Q6K6K8  A0A0P0VR14.pdb_B\n",
       "4  A0A0P0VR14.pdb_B      Q2R448  A0A0P0VR14.pdb_B"
      ]
     },
     "execution_count": 21,
     "metadata": {},
     "output_type": "execute_result"
    }
   ],
   "source": [
    "clustered_clusters.head()"
   ]
  },
  {
   "cell_type": "markdown",
   "metadata": {},
   "source": [
    "Now we can look at the most interesting clusters and their subclusters in more detail:"
   ]
  },
  {
   "cell_type": "markdown",
   "metadata": {},
   "source": [
    "## RESULT 1: Cluster B7ESQ3.pdb_B (contains true binder homologs, top cluster by size)"
   ]
  },
  {
   "cell_type": "code",
   "execution_count": 22,
   "metadata": {},
   "outputs": [],
   "source": [
    "cluster = 'A0A0P0XHF4.pdb_B'"
   ]
  },
  {
   "cell_type": "markdown",
   "metadata": {},
   "source": [
    "See subclusters:"
   ]
  },
  {
   "cell_type": "code",
   "execution_count": 23,
   "metadata": {},
   "outputs": [
    {
     "data": {
      "text/html": [
       "<div>\n",
       "<style scoped>\n",
       "    .dataframe tbody tr th:only-of-type {\n",
       "        vertical-align: middle;\n",
       "    }\n",
       "\n",
       "    .dataframe tbody tr th {\n",
       "        vertical-align: top;\n",
       "    }\n",
       "\n",
       "    .dataframe thead th {\n",
       "        text-align: right;\n",
       "    }\n",
       "</style>\n",
       "<table border=\"1\" class=\"dataframe\">\n",
       "  <thead>\n",
       "    <tr style=\"text-align: right;\">\n",
       "      <th></th>\n",
       "      <th>subcluster_rep</th>\n",
       "      <th>member</th>\n",
       "      <th>cluster</th>\n",
       "    </tr>\n",
       "  </thead>\n",
       "  <tbody>\n",
       "    <tr>\n",
       "      <th>6</th>\n",
       "      <td>A0A0P0VGE5.pdb_B</td>\n",
       "      <td>A0A0P0VGE5</td>\n",
       "      <td>A0A0P0XHF4.pdb_B</td>\n",
       "    </tr>\n",
       "    <tr>\n",
       "      <th>7</th>\n",
       "      <td>A0A0P0VGE5.pdb_B</td>\n",
       "      <td>Q67W96</td>\n",
       "      <td>A0A0P0XHF4.pdb_B</td>\n",
       "    </tr>\n",
       "    <tr>\n",
       "      <th>8</th>\n",
       "      <td>A0A0P0VHD9.pdb_B</td>\n",
       "      <td>A0A0P0VHD9</td>\n",
       "      <td>A0A0P0XHF4.pdb_B</td>\n",
       "    </tr>\n",
       "    <tr>\n",
       "      <th>9</th>\n",
       "      <td>A0A0P0VHP5.pdb_B</td>\n",
       "      <td>A0A0P0VHP5</td>\n",
       "      <td>A0A0P0XHF4.pdb_B</td>\n",
       "    </tr>\n",
       "    <tr>\n",
       "      <th>10</th>\n",
       "      <td>A0A0P0VHP5.pdb_B</td>\n",
       "      <td>A0A0P0UZC1</td>\n",
       "      <td>A0A0P0XHF4.pdb_B</td>\n",
       "    </tr>\n",
       "  </tbody>\n",
       "</table>\n",
       "</div>"
      ],
      "text/plain": [
       "      subcluster_rep      member           cluster\n",
       "6   A0A0P0VGE5.pdb_B  A0A0P0VGE5  A0A0P0XHF4.pdb_B\n",
       "7   A0A0P0VGE5.pdb_B      Q67W96  A0A0P0XHF4.pdb_B\n",
       "8   A0A0P0VHD9.pdb_B  A0A0P0VHD9  A0A0P0XHF4.pdb_B\n",
       "9   A0A0P0VHP5.pdb_B  A0A0P0VHP5  A0A0P0XHF4.pdb_B\n",
       "10  A0A0P0VHP5.pdb_B  A0A0P0UZC1  A0A0P0XHF4.pdb_B"
      ]
     },
     "execution_count": 23,
     "metadata": {},
     "output_type": "execute_result"
    }
   ],
   "source": [
    "clustered_clusters[clustered_clusters.cluster==cluster].head()"
   ]
  },
  {
   "cell_type": "markdown",
   "metadata": {},
   "source": [
    "Count how many subclusters:"
   ]
  },
  {
   "cell_type": "code",
   "execution_count": 24,
   "metadata": {},
   "outputs": [
    {
     "data": {
      "text/plain": [
       "(53,)"
      ]
     },
     "execution_count": 24,
     "metadata": {},
     "output_type": "execute_result"
    }
   ],
   "source": [
    "clustered_clusters[clustered_clusters.cluster==cluster].subcluster_rep.unique().shape"
   ]
  },
  {
   "cell_type": "markdown",
   "metadata": {},
   "source": [
    "See the amount of strucures in each subcluster:"
   ]
  },
  {
   "cell_type": "code",
   "execution_count": 25,
   "metadata": {},
   "outputs": [
    {
     "data": {
      "text/plain": [
       "subcluster_rep\n",
       "Q6ZDH1.pdb_B        223\n",
       "A0A0P0WQD9.pdb_B    116\n",
       "A0A0P0Y2U6.pdb_B     51\n",
       "Q5Z7U2.pdb_B         35\n",
       "Q0DQG8.pdb_B         34\n",
       "Q75J50.pdb_B         27\n",
       "Q0JPJ6.pdb_B         19\n",
       "A0A0P0XHI5.pdb_B     14\n",
       "A0A0P0X3V6.pdb_B     14\n",
       "A0A0P0VHP5.pdb_B     12\n",
       "Q7XAK4.pdb_B          9\n",
       "Q7EY32.pdb_B          9\n",
       "A0A0P0V3R7.pdb_B      9\n",
       "Q8LJA9.pdb_B          8\n",
       "A0A0P0X458.pdb_B      7\n",
       "dtype: int64"
      ]
     },
     "execution_count": 25,
     "metadata": {},
     "output_type": "execute_result"
    }
   ],
   "source": [
    "(clustered_clusters[clustered_clusters.cluster==cluster].groupby('subcluster_rep')\n",
    " .size().sort_values(ascending=False).head(15))"
   ]
  },
  {
   "cell_type": "markdown",
   "metadata": {},
   "source": [
    "Here we have 53 subclusters!! This cluster has in total 695 strucures, which is a bit too much to load into PyMOL at once. We have to change our strategy. One way to decide if the subclusters are similar or different to each other would be to only look at the subcluster representatives and classify them according to their topology. We will try now three different approaches to visualize this cluster:"
   ]
  },
  {
   "cell_type": "markdown",
   "metadata": {},
   "source": [
    "## Take all members of this cluster together"
   ]
  },
  {
   "cell_type": "markdown",
   "metadata": {},
   "source": [
    "We can just look at the structures with lowest median RMSD to have an idea of how this cluster looks:"
   ]
  },
  {
   "cell_type": "code",
   "execution_count": 26,
   "metadata": {},
   "outputs": [
    {
     "data": {
      "text/html": [
       "<div>\n",
       "<style scoped>\n",
       "    .dataframe tbody tr th:only-of-type {\n",
       "        vertical-align: middle;\n",
       "    }\n",
       "\n",
       "    .dataframe tbody tr th {\n",
       "        vertical-align: top;\n",
       "    }\n",
       "\n",
       "    .dataframe thead th {\n",
       "        text-align: right;\n",
       "    }\n",
       "</style>\n",
       "<table border=\"1\" class=\"dataframe\">\n",
       "  <thead>\n",
       "    <tr style=\"text-align: right;\">\n",
       "      <th></th>\n",
       "      <th>cluster</th>\n",
       "      <th>member</th>\n",
       "      <th>tmscore</th>\n",
       "      <th>rmsd</th>\n",
       "      <th>aligned_length</th>\n",
       "      <th>cluster_size</th>\n",
       "      <th>fraction_binder</th>\n",
       "    </tr>\n",
       "  </thead>\n",
       "  <tbody>\n",
       "    <tr>\n",
       "      <th>19</th>\n",
       "      <td>A0A0P0XHF4.pdb_B</td>\n",
       "      <td>A0A0N7KK85</td>\n",
       "      <td>0.941210</td>\n",
       "      <td>1.530</td>\n",
       "      <td>210.0</td>\n",
       "      <td>695.0</td>\n",
       "      <td>1.000000</td>\n",
       "    </tr>\n",
       "    <tr>\n",
       "      <th>520</th>\n",
       "      <td>A0A0P0XHF4.pdb_B</td>\n",
       "      <td>Q6ASY4</td>\n",
       "      <td>0.938210</td>\n",
       "      <td>1.560</td>\n",
       "      <td>213.0</td>\n",
       "      <td>695.0</td>\n",
       "      <td>0.974359</td>\n",
       "    </tr>\n",
       "    <tr>\n",
       "      <th>401</th>\n",
       "      <td>A0A0P0XHF4.pdb_B</td>\n",
       "      <td>Q2QQH8</td>\n",
       "      <td>0.938700</td>\n",
       "      <td>1.600</td>\n",
       "      <td>215.0</td>\n",
       "      <td>695.0</td>\n",
       "      <td>0.975610</td>\n",
       "    </tr>\n",
       "    <tr>\n",
       "      <th>37</th>\n",
       "      <td>A0A0P0XHF4.pdb_B</td>\n",
       "      <td>A0A0N7KT42</td>\n",
       "      <td>0.935435</td>\n",
       "      <td>1.630</td>\n",
       "      <td>208.0</td>\n",
       "      <td>695.0</td>\n",
       "      <td>0.970588</td>\n",
       "    </tr>\n",
       "    <tr>\n",
       "      <th>256</th>\n",
       "      <td>A0A0P0XHF4.pdb_B</td>\n",
       "      <td>A0A0P0YAQ4</td>\n",
       "      <td>0.935185</td>\n",
       "      <td>1.645</td>\n",
       "      <td>217.0</td>\n",
       "      <td>695.0</td>\n",
       "      <td>0.976744</td>\n",
       "    </tr>\n",
       "  </tbody>\n",
       "</table>\n",
       "</div>"
      ],
      "text/plain": [
       "              cluster      member   tmscore   rmsd  aligned_length  \\\n",
       "19   A0A0P0XHF4.pdb_B  A0A0N7KK85  0.941210  1.530           210.0   \n",
       "520  A0A0P0XHF4.pdb_B      Q6ASY4  0.938210  1.560           213.0   \n",
       "401  A0A0P0XHF4.pdb_B      Q2QQH8  0.938700  1.600           215.0   \n",
       "37   A0A0P0XHF4.pdb_B  A0A0N7KT42  0.935435  1.630           208.0   \n",
       "256  A0A0P0XHF4.pdb_B  A0A0P0YAQ4  0.935185  1.645           217.0   \n",
       "\n",
       "     cluster_size  fraction_binder  \n",
       "19          695.0         1.000000  \n",
       "520         695.0         0.974359  \n",
       "401         695.0         0.975610  \n",
       "37          695.0         0.970588  \n",
       "256         695.0         0.976744  "
      ]
     },
     "execution_count": 26,
     "metadata": {},
     "output_type": "execute_result"
    }
   ],
   "source": [
    "median_scores[median_scores.cluster==cluster].sort_values(by='rmsd').head()"
   ]
  },
  {
   "cell_type": "markdown",
   "metadata": {},
   "source": [
    "We can print out the names of the top 20 models to open them in PyMOL (through the terminal or a command inside of PyMOL)"
   ]
  },
  {
   "cell_type": "code",
   "execution_count": 27,
   "metadata": {},
   "outputs": [],
   "source": [
    "path_cluster = Path.cwd().resolve()"
   ]
  },
  {
   "cell_type": "code",
   "execution_count": 27,
   "metadata": {},
   "outputs": [],
   "source": [
    "path_cluster = '/Volumes/weka_user/guzmanfj/py/AlphaCRV/examples/'"
   ]
  },
  {
   "cell_type": "code",
   "execution_count": null,
   "metadata": {},
   "outputs": [],
   "source": [
    "# Print paths to open models in pymol\n",
    "membs = median_scores[median_scores.cluster==cluster].sort_values(by='rmsd').head(20).member\n",
    "' '.join([(path_cluster + str(results_dir) + f'/merged_clusters/cluster_{cluster}/{m}.pdb') for m in membs])"
   ]
  },
  {
   "cell_type": "markdown",
   "metadata": {},
   "source": [
    "<img src='./pictures/SKP1_cluster.png' height='600px'>"
   ]
  },
  {
   "cell_type": "markdown",
   "metadata": {},
   "source": [
    "## Look at all the subcluster representatives in PyMOL and group them by topology."
   ]
  },
  {
   "cell_type": "code",
   "execution_count": 28,
   "metadata": {},
   "outputs": [],
   "source": [
    "subclusters = (clustered_clusters[clustered_clusters.cluster==cluster])\n",
    "subclusters_ids = subclusters['subcluster_rep'].str.split('.pdb').str[0]"
   ]
  },
  {
   "cell_type": "markdown",
   "metadata": {},
   "source": [
    "See the names of the subclusters:"
   ]
  },
  {
   "cell_type": "code",
   "execution_count": 29,
   "metadata": {},
   "outputs": [
    {
     "data": {
      "text/plain": [
       "array(['A0A0P0VGE5.pdb_B', 'A0A0P0VHD9.pdb_B', 'A0A0P0VHP5.pdb_B',\n",
       "       'A0A0P0VNF2.pdb_B', 'A0A0P0VNI4.pdb_B', 'A0A0P0VRN2.pdb_B',\n",
       "       'A0A0P0VZH9.pdb_B', 'A0A0P0W419.pdb_B', 'A0A0P0X4D4.pdb_B',\n",
       "       'A0A0P0XCY3.pdb_B', 'A0A0P0XE00.pdb_B', 'A0A0P0XE77.pdb_B',\n",
       "       'A0A0P0XEW7.pdb_B', 'A0A0P0XFT5.pdb_B', 'A0A0P0XHF4.pdb_B',\n",
       "       'A0A0P0XHI5.pdb_B', 'A0A0P0XNQ3.pdb_B', 'A0A0P0XSL8.pdb_B',\n",
       "       'A0A0P0Y2U6.pdb_B', 'A0A0P0Y5S9.pdb_B', 'A0A0P0YA59.pdb_B',\n",
       "       'A0A0P0YAA2.pdb_B', 'A0A0P0YC15.pdb_B', 'A2ZPC4.pdb_B',\n",
       "       'B7ESQ3.pdb_B', 'B9G6M6.pdb_B', 'Q0DQG8.pdb_B', 'Q0JB10.pdb_B',\n",
       "       'Q0JK63.pdb_B', 'Q0JPJ6.pdb_B', 'Q109D8.pdb_B', 'Q2QQH8.pdb_B',\n",
       "       'Q6ZDH1.pdb_B', 'A0A0N7KD81.pdb_A', 'A0A0N7KK85.pdb_B',\n",
       "       'A0A0N7KN01.pdb_B', 'A0A0N7KT42.pdb_B', 'A0A0P0V091.pdb_B',\n",
       "       'A0A0P0V3R7.pdb_B', 'A0A0P0WDY8.pdb_B', 'A0A0P0WQD9.pdb_B',\n",
       "       'A0A0P0X3V6.pdb_B', 'A0A0P0X458.pdb_B', 'Q5N762.pdb_B',\n",
       "       'Q5Z7U2.pdb_B', 'Q69J07.pdb_B', 'Q69X07.pdb_B', 'Q75IQ5.pdb_B',\n",
       "       'Q75J50.pdb_B', 'Q7EY32.pdb_B', 'Q7FAH1.pdb_B', 'Q7XAK4.pdb_B',\n",
       "       'Q8LJA9.pdb_B'], dtype=object)"
      ]
     },
     "execution_count": 29,
     "metadata": {},
     "output_type": "execute_result"
    }
   ],
   "source": [
    "subclusters.subcluster_rep.unique()"
   ]
  },
  {
   "cell_type": "markdown",
   "metadata": {},
   "source": [
    "Print the PATHs of the subcluster representatives to open them in PyMOL:"
   ]
  },
  {
   "cell_type": "code",
   "execution_count": null,
   "metadata": {},
   "outputs": [],
   "source": [
    "' '.join([path_cluster + str(results_dir) + f'/merged_clusters/cluster_{cluster}/{p}.pdb' for p in subclusters_ids.unique()])"
   ]
  },
  {
   "cell_type": "markdown",
   "metadata": {},
   "source": [
    "Write down the subclusters in different categories:"
   ]
  },
  {
   "cell_type": "raw",
   "metadata": {},
   "source": [
    "Binding motif\n",
    "---\n",
    "A0A0P0VGE5\n",
    "A0A0P0VHD9\n",
    "A0A0P0VHP5\n",
    "A0A0P0VNF2\n",
    "A0A0P0VNI4\n",
    "A0A0P0X4D4\n",
    "A0A0P0XCY3\n",
    "A0A0P0XE00\n",
    "A0A0P0XE77\n",
    "A0A0P0XEW7\n",
    "A0A0P0XHF4\n",
    "A0A0P0XHI5\n",
    "A0A0P0XNQ3\n",
    "A0A0P0XSL8\n",
    "A0A0P0YA59\n",
    "A0A0P0YAA2\n",
    "B7ESQ3\n",
    "B9G6M6\n",
    "Q109D8\n",
    "Q2QQH8\n",
    "A0A0N7KK85\n",
    "A0A0N7KT42\n",
    "A0A0P0X458\n",
    "Q5N762\n",
    "Q69J07\n",
    "Q69X07\n",
    "Q75IQ5\n",
    "Q7EY32\n",
    "Q7XAK4\n",
    "\n",
    "Horseshoe\n",
    "---\n",
    "A0A0P0VRN2\n",
    "A0A0P0XFT5\n",
    "A0A0P0Y2U6\n",
    "A0A0P0Y5S9\n",
    "A0A0P0YC15\n",
    "A0A0N7KD81\n",
    "A0A0P0V091\n",
    "A0A0P0WQD9\n",
    "A0A0P0X3V6\n",
    "Q5Z7U2\n",
    "Q75J50\n",
    "Q7FAH1\n",
    "\n",
    "Beta propeller\n",
    "---\n",
    "A0A0P0W419\n",
    "Q0DQG8\n",
    "Q0JK63\n",
    "Q6ZDH1\n",
    "A0A0P0V3R7\n",
    "\n",
    "Beta other\n",
    "---\n",
    "A0A0P0VZH9\n",
    "A2ZPC4\n",
    "Q0JB10\n",
    "Q0JPJ6\n",
    "A0A0N7KN01\n",
    "A0A0P0WDY8\n",
    "Q8LJA9"
   ]
  },
  {
   "cell_type": "markdown",
   "metadata": {},
   "source": [
    "## Subclusters for only the binding motif"
   ]
  },
  {
   "cell_type": "code",
   "execution_count": 30,
   "metadata": {},
   "outputs": [],
   "source": [
    "subcluster_names = [\n",
    "'A0A0P0VGE5.pdb_B',\n",
    "'A0A0P0VHD9.pdb_B',\n",
    "'A0A0P0VHP5.pdb_B',\n",
    "'A0A0P0VNF2.pdb_B',\n",
    "'A0A0P0VNI4.pdb_B',\n",
    "'A0A0P0X4D4.pdb_B',\n",
    "'A0A0P0XCY3.pdb_B',\n",
    "'A0A0P0XE00.pdb_B',\n",
    "'A0A0P0XE77.pdb_B',\n",
    "'A0A0P0XEW7.pdb_B',\n",
    "'A0A0P0XHF4.pdb_B',\n",
    "'A0A0P0XHI5.pdb_B',\n",
    "'A0A0P0XNQ3.pdb_B',\n",
    "'A0A0P0XSL8.pdb_B',\n",
    "'A0A0P0YA59.pdb_B',\n",
    "'A0A0P0YAA2.pdb_B',\n",
    "'B7ESQ3.pdb_B',\n",
    "'B9G6M6.pdb_B',\n",
    "'Q109D8.pdb_B',\n",
    "'Q2QQH8.pdb_B',\n",
    "'A0A0N7KK85.pdb_B',\n",
    "'A0A0N7KT42.pdb_B',\n",
    "'A0A0P0X458.pdb_B',\n",
    "'Q5N762.pdb_B',\n",
    "'Q69J07.pdb_B',\n",
    "'Q69X07.pdb_B',\n",
    "'Q75IQ5.pdb_B',\n",
    "'Q7EY32.pdb_B',\n",
    "'Q7XAK4.pdb_B'\n",
    "]"
   ]
  },
  {
   "cell_type": "markdown",
   "metadata": {},
   "source": [
    "See how many proteins are in these subclusters:"
   ]
  },
  {
   "cell_type": "code",
   "execution_count": 31,
   "metadata": {},
   "outputs": [
    {
     "data": {
      "text/plain": [
       "113"
      ]
     },
     "execution_count": 31,
     "metadata": {},
     "output_type": "execute_result"
    }
   ],
   "source": [
    "(clustered_clusters[clustered_clusters.subcluster_rep.isin(subcluster_names)]\n",
    " .subcluster_rep.value_counts().sum())"
   ]
  },
  {
   "cell_type": "markdown",
   "metadata": {},
   "source": [
    "See the alignment scores of the top members in these subclusters:"
   ]
  },
  {
   "cell_type": "code",
   "execution_count": 32,
   "metadata": {},
   "outputs": [
    {
     "data": {
      "text/html": [
       "<div>\n",
       "<style scoped>\n",
       "    .dataframe tbody tr th:only-of-type {\n",
       "        vertical-align: middle;\n",
       "    }\n",
       "\n",
       "    .dataframe tbody tr th {\n",
       "        vertical-align: top;\n",
       "    }\n",
       "\n",
       "    .dataframe thead th {\n",
       "        text-align: right;\n",
       "    }\n",
       "</style>\n",
       "<table border=\"1\" class=\"dataframe\">\n",
       "  <thead>\n",
       "    <tr style=\"text-align: right;\">\n",
       "      <th></th>\n",
       "      <th>cluster</th>\n",
       "      <th>member</th>\n",
       "      <th>tmscore</th>\n",
       "      <th>rmsd</th>\n",
       "      <th>aligned_length</th>\n",
       "      <th>cluster_size</th>\n",
       "      <th>fraction_binder</th>\n",
       "    </tr>\n",
       "  </thead>\n",
       "  <tbody>\n",
       "    <tr>\n",
       "      <th>19</th>\n",
       "      <td>A0A0P0XHF4.pdb_B</td>\n",
       "      <td>A0A0N7KK85</td>\n",
       "      <td>0.941210</td>\n",
       "      <td>1.530</td>\n",
       "      <td>210.0</td>\n",
       "      <td>695.0</td>\n",
       "      <td>1.000000</td>\n",
       "    </tr>\n",
       "    <tr>\n",
       "      <th>520</th>\n",
       "      <td>A0A0P0XHF4.pdb_B</td>\n",
       "      <td>Q6ASY4</td>\n",
       "      <td>0.938210</td>\n",
       "      <td>1.560</td>\n",
       "      <td>213.0</td>\n",
       "      <td>695.0</td>\n",
       "      <td>0.974359</td>\n",
       "    </tr>\n",
       "    <tr>\n",
       "      <th>401</th>\n",
       "      <td>A0A0P0XHF4.pdb_B</td>\n",
       "      <td>Q2QQH8</td>\n",
       "      <td>0.938700</td>\n",
       "      <td>1.600</td>\n",
       "      <td>215.0</td>\n",
       "      <td>695.0</td>\n",
       "      <td>0.975610</td>\n",
       "    </tr>\n",
       "    <tr>\n",
       "      <th>37</th>\n",
       "      <td>A0A0P0XHF4.pdb_B</td>\n",
       "      <td>A0A0N7KT42</td>\n",
       "      <td>0.935435</td>\n",
       "      <td>1.630</td>\n",
       "      <td>208.0</td>\n",
       "      <td>695.0</td>\n",
       "      <td>0.970588</td>\n",
       "    </tr>\n",
       "    <tr>\n",
       "      <th>256</th>\n",
       "      <td>A0A0P0XHF4.pdb_B</td>\n",
       "      <td>A0A0P0YAQ4</td>\n",
       "      <td>0.935185</td>\n",
       "      <td>1.645</td>\n",
       "      <td>217.0</td>\n",
       "      <td>695.0</td>\n",
       "      <td>0.976744</td>\n",
       "    </tr>\n",
       "    <tr>\n",
       "      <th>700</th>\n",
       "      <td>A0A0P0XHF4.pdb_B</td>\n",
       "      <td>Q9FWD4</td>\n",
       "      <td>0.923980</td>\n",
       "      <td>1.740</td>\n",
       "      <td>216.0</td>\n",
       "      <td>695.0</td>\n",
       "      <td>0.976190</td>\n",
       "    </tr>\n",
       "    <tr>\n",
       "      <th>418</th>\n",
       "      <td>A0A0P0XHF4.pdb_B</td>\n",
       "      <td>Q2R0S7</td>\n",
       "      <td>0.934600</td>\n",
       "      <td>1.760</td>\n",
       "      <td>217.0</td>\n",
       "      <td>695.0</td>\n",
       "      <td>0.976744</td>\n",
       "    </tr>\n",
       "    <tr>\n",
       "      <th>145</th>\n",
       "      <td>A0A0P0XHF4.pdb_B</td>\n",
       "      <td>A0A0P0X0M4</td>\n",
       "      <td>0.921310</td>\n",
       "      <td>1.780</td>\n",
       "      <td>215.0</td>\n",
       "      <td>695.0</td>\n",
       "      <td>0.930233</td>\n",
       "    </tr>\n",
       "    <tr>\n",
       "      <th>290</th>\n",
       "      <td>A0A0P0XHF4.pdb_B</td>\n",
       "      <td>B9FCI9</td>\n",
       "      <td>0.919485</td>\n",
       "      <td>1.830</td>\n",
       "      <td>219.0</td>\n",
       "      <td>695.0</td>\n",
       "      <td>0.936170</td>\n",
       "    </tr>\n",
       "    <tr>\n",
       "      <th>394</th>\n",
       "      <td>A0A0P0XHF4.pdb_B</td>\n",
       "      <td>Q2QMT0</td>\n",
       "      <td>0.918475</td>\n",
       "      <td>1.830</td>\n",
       "      <td>216.0</td>\n",
       "      <td>695.0</td>\n",
       "      <td>0.976190</td>\n",
       "    </tr>\n",
       "    <tr>\n",
       "      <th>88</th>\n",
       "      <td>A0A0P0XHF4.pdb_B</td>\n",
       "      <td>A0A0P0W0W5</td>\n",
       "      <td>0.933120</td>\n",
       "      <td>1.840</td>\n",
       "      <td>218.0</td>\n",
       "      <td>695.0</td>\n",
       "      <td>0.977273</td>\n",
       "    </tr>\n",
       "    <tr>\n",
       "      <th>14</th>\n",
       "      <td>A0A0P0XHF4.pdb_B</td>\n",
       "      <td>A0A0N7KHR2</td>\n",
       "      <td>0.932530</td>\n",
       "      <td>1.850</td>\n",
       "      <td>218.0</td>\n",
       "      <td>695.0</td>\n",
       "      <td>0.977273</td>\n",
       "    </tr>\n",
       "    <tr>\n",
       "      <th>480</th>\n",
       "      <td>A0A0P0XHF4.pdb_B</td>\n",
       "      <td>Q5VNR1</td>\n",
       "      <td>0.922670</td>\n",
       "      <td>1.850</td>\n",
       "      <td>216.0</td>\n",
       "      <td>695.0</td>\n",
       "      <td>0.953488</td>\n",
       "    </tr>\n",
       "    <tr>\n",
       "      <th>333</th>\n",
       "      <td>A0A0P0XHF4.pdb_B</td>\n",
       "      <td>Q0ITY1</td>\n",
       "      <td>0.917245</td>\n",
       "      <td>1.855</td>\n",
       "      <td>206.0</td>\n",
       "      <td>695.0</td>\n",
       "      <td>0.939394</td>\n",
       "    </tr>\n",
       "    <tr>\n",
       "      <th>693</th>\n",
       "      <td>A0A0P0XHF4.pdb_B</td>\n",
       "      <td>Q943F5</td>\n",
       "      <td>0.924290</td>\n",
       "      <td>1.860</td>\n",
       "      <td>213.0</td>\n",
       "      <td>695.0</td>\n",
       "      <td>0.974359</td>\n",
       "    </tr>\n",
       "    <tr>\n",
       "      <th>361</th>\n",
       "      <td>A0A0P0XHF4.pdb_B</td>\n",
       "      <td>Q0JI48</td>\n",
       "      <td>0.924270</td>\n",
       "      <td>1.870</td>\n",
       "      <td>218.0</td>\n",
       "      <td>695.0</td>\n",
       "      <td>0.955556</td>\n",
       "    </tr>\n",
       "    <tr>\n",
       "      <th>71</th>\n",
       "      <td>A0A0P0XHF4.pdb_B</td>\n",
       "      <td>A0A0P0VLY9</td>\n",
       "      <td>0.923905</td>\n",
       "      <td>1.880</td>\n",
       "      <td>217.0</td>\n",
       "      <td>695.0</td>\n",
       "      <td>0.954545</td>\n",
       "    </tr>\n",
       "    <tr>\n",
       "      <th>232</th>\n",
       "      <td>A0A0P0XHF4.pdb_B</td>\n",
       "      <td>A0A0P0XZS4</td>\n",
       "      <td>0.921440</td>\n",
       "      <td>1.910</td>\n",
       "      <td>218.0</td>\n",
       "      <td>695.0</td>\n",
       "      <td>0.955556</td>\n",
       "    </tr>\n",
       "    <tr>\n",
       "      <th>157</th>\n",
       "      <td>A0A0P0XHF4.pdb_B</td>\n",
       "      <td>A0A0P0X4D4</td>\n",
       "      <td>0.915655</td>\n",
       "      <td>1.915</td>\n",
       "      <td>212.0</td>\n",
       "      <td>695.0</td>\n",
       "      <td>0.948718</td>\n",
       "    </tr>\n",
       "    <tr>\n",
       "      <th>254</th>\n",
       "      <td>A0A0P0XHF4.pdb_B</td>\n",
       "      <td>A0A0P0YAA2</td>\n",
       "      <td>0.914570</td>\n",
       "      <td>1.940</td>\n",
       "      <td>211.0</td>\n",
       "      <td>695.0</td>\n",
       "      <td>0.947368</td>\n",
       "    </tr>\n",
       "  </tbody>\n",
       "</table>\n",
       "</div>"
      ],
      "text/plain": [
       "              cluster      member   tmscore   rmsd  aligned_length  \\\n",
       "19   A0A0P0XHF4.pdb_B  A0A0N7KK85  0.941210  1.530           210.0   \n",
       "520  A0A0P0XHF4.pdb_B      Q6ASY4  0.938210  1.560           213.0   \n",
       "401  A0A0P0XHF4.pdb_B      Q2QQH8  0.938700  1.600           215.0   \n",
       "37   A0A0P0XHF4.pdb_B  A0A0N7KT42  0.935435  1.630           208.0   \n",
       "256  A0A0P0XHF4.pdb_B  A0A0P0YAQ4  0.935185  1.645           217.0   \n",
       "700  A0A0P0XHF4.pdb_B      Q9FWD4  0.923980  1.740           216.0   \n",
       "418  A0A0P0XHF4.pdb_B      Q2R0S7  0.934600  1.760           217.0   \n",
       "145  A0A0P0XHF4.pdb_B  A0A0P0X0M4  0.921310  1.780           215.0   \n",
       "290  A0A0P0XHF4.pdb_B      B9FCI9  0.919485  1.830           219.0   \n",
       "394  A0A0P0XHF4.pdb_B      Q2QMT0  0.918475  1.830           216.0   \n",
       "88   A0A0P0XHF4.pdb_B  A0A0P0W0W5  0.933120  1.840           218.0   \n",
       "14   A0A0P0XHF4.pdb_B  A0A0N7KHR2  0.932530  1.850           218.0   \n",
       "480  A0A0P0XHF4.pdb_B      Q5VNR1  0.922670  1.850           216.0   \n",
       "333  A0A0P0XHF4.pdb_B      Q0ITY1  0.917245  1.855           206.0   \n",
       "693  A0A0P0XHF4.pdb_B      Q943F5  0.924290  1.860           213.0   \n",
       "361  A0A0P0XHF4.pdb_B      Q0JI48  0.924270  1.870           218.0   \n",
       "71   A0A0P0XHF4.pdb_B  A0A0P0VLY9  0.923905  1.880           217.0   \n",
       "232  A0A0P0XHF4.pdb_B  A0A0P0XZS4  0.921440  1.910           218.0   \n",
       "157  A0A0P0XHF4.pdb_B  A0A0P0X4D4  0.915655  1.915           212.0   \n",
       "254  A0A0P0XHF4.pdb_B  A0A0P0YAA2  0.914570  1.940           211.0   \n",
       "\n",
       "     cluster_size  fraction_binder  \n",
       "19          695.0         1.000000  \n",
       "520         695.0         0.974359  \n",
       "401         695.0         0.975610  \n",
       "37          695.0         0.970588  \n",
       "256         695.0         0.976744  \n",
       "700         695.0         0.976190  \n",
       "418         695.0         0.976744  \n",
       "145         695.0         0.930233  \n",
       "290         695.0         0.936170  \n",
       "394         695.0         0.976190  \n",
       "88          695.0         0.977273  \n",
       "14          695.0         0.977273  \n",
       "480         695.0         0.953488  \n",
       "333         695.0         0.939394  \n",
       "693         695.0         0.974359  \n",
       "361         695.0         0.955556  \n",
       "71          695.0         0.954545  \n",
       "232         695.0         0.955556  \n",
       "157         695.0         0.948718  \n",
       "254         695.0         0.947368  "
      ]
     },
     "execution_count": 32,
     "metadata": {},
     "output_type": "execute_result"
    }
   ],
   "source": [
    "# Get list of members for subcluster\n",
    "members_sc = list(clustered_clusters[clustered_clusters.subcluster_rep.isin(subcluster_names)]\n",
    "                  .member)\n",
    "\n",
    "median_scores[median_scores.member.isin(members_sc)].sort_values(by='rmsd').head(20)"
   ]
  },
  {
   "cell_type": "markdown",
   "metadata": {},
   "source": [
    "See if any of the homologous proteins are in here:"
   ]
  },
  {
   "cell_type": "code",
   "execution_count": 33,
   "metadata": {},
   "outputs": [
    {
     "data": {
      "text/plain": [
       "[False, False, False, True, False]"
      ]
     },
     "execution_count": 33,
     "metadata": {},
     "output_type": "execute_result"
    }
   ],
   "source": [
    "[h in members_sc for h in homologues]"
   ]
  },
  {
   "cell_type": "code",
   "execution_count": 34,
   "metadata": {},
   "outputs": [
    {
     "data": {
      "text/plain": [
       "['Q5VMP0', 'A0A0N7KEW0', 'Q8RZQ3', 'Q69X07', 'A0A0P0Y6A8']"
      ]
     },
     "execution_count": 34,
     "metadata": {},
     "output_type": "execute_result"
    }
   ],
   "source": [
    "homologues"
   ]
  },
  {
   "cell_type": "markdown",
   "metadata": {},
   "source": [
    "`Q69X07` is in this subcluster."
   ]
  },
  {
   "cell_type": "markdown",
   "metadata": {},
   "source": [
    "Print the paths of the top 20 PDB files to open them in PyMOL:"
   ]
  },
  {
   "cell_type": "code",
   "execution_count": null,
   "metadata": {},
   "outputs": [],
   "source": [
    "# Print paths to open models in pymol\n",
    "membs = median_scores[median_scores.member.isin(members_sc)].sort_values(by='rmsd').head(20).member\n",
    "' '.join([(path_cluster + str(results_dir) + f'/merged_clusters/cluster_{cluster}/{m}.pdb') for m in membs])"
   ]
  },
  {
   "cell_type": "markdown",
   "metadata": {},
   "source": [
    "<img src='./pictures/SKP1_cluster_binding_motif.png' height='600px'>"
   ]
  },
  {
   "cell_type": "markdown",
   "metadata": {},
   "source": [
    "This is very similar to the previous figure with all the subclusters together. The models with the lowest RMSD overall are those who only contain the minimal bindign motif of the binder protein, since they have fewer residues to align."
   ]
  },
  {
   "cell_type": "markdown",
   "metadata": {},
   "source": [
    "## Subclusters for the binding motif + Leucine-rich region (horseshoe)"
   ]
  },
  {
   "cell_type": "code",
   "execution_count": 35,
   "metadata": {},
   "outputs": [],
   "source": [
    "subcluster_names = [\n",
    "'A0A0P0VRN2.pdb_B',\n",
    "'A0A0P0XFT5.pdb_B',\n",
    "'A0A0P0Y2U6.pdb_B',\n",
    "'A0A0P0Y5S9.pdb_B',\n",
    "'A0A0P0YC15.pdb_B',\n",
    "'A0A0N7KD81.pdb_B',\n",
    "'A0A0P0V091.pdb_B',\n",
    "'A0A0P0WQD9.pdb_B',\n",
    "'A0A0P0X3V6.pdb_B',\n",
    "'Q5Z7U2.pdb_B',\n",
    "'Q75J50.pdb_B',\n",
    "'Q7FAH1.pdb_B'\n",
    "]"
   ]
  },
  {
   "cell_type": "markdown",
   "metadata": {},
   "source": [
    "See how many proteins are in these subclusters:"
   ]
  },
  {
   "cell_type": "code",
   "execution_count": 36,
   "metadata": {},
   "outputs": [
    {
     "data": {
      "text/plain": [
       "262"
      ]
     },
     "execution_count": 36,
     "metadata": {},
     "output_type": "execute_result"
    }
   ],
   "source": [
    "(clustered_clusters[clustered_clusters.subcluster_rep.isin(subcluster_names)]\n",
    " .subcluster_rep.value_counts().sum())"
   ]
  },
  {
   "cell_type": "markdown",
   "metadata": {},
   "source": [
    "See the alignment scores of the top members in these subclusters:"
   ]
  },
  {
   "cell_type": "code",
   "execution_count": 37,
   "metadata": {},
   "outputs": [
    {
     "data": {
      "text/html": [
       "<div>\n",
       "<style scoped>\n",
       "    .dataframe tbody tr th:only-of-type {\n",
       "        vertical-align: middle;\n",
       "    }\n",
       "\n",
       "    .dataframe tbody tr th {\n",
       "        vertical-align: top;\n",
       "    }\n",
       "\n",
       "    .dataframe thead th {\n",
       "        text-align: right;\n",
       "    }\n",
       "</style>\n",
       "<table border=\"1\" class=\"dataframe\">\n",
       "  <thead>\n",
       "    <tr style=\"text-align: right;\">\n",
       "      <th></th>\n",
       "      <th>cluster</th>\n",
       "      <th>member</th>\n",
       "      <th>tmscore</th>\n",
       "      <th>rmsd</th>\n",
       "      <th>aligned_length</th>\n",
       "      <th>cluster_size</th>\n",
       "      <th>fraction_binder</th>\n",
       "    </tr>\n",
       "  </thead>\n",
       "  <tbody>\n",
       "    <tr>\n",
       "      <th>171</th>\n",
       "      <td>A0A0P0XHF4.pdb_B</td>\n",
       "      <td>A0A0P0XBZ2</td>\n",
       "      <td>0.687465</td>\n",
       "      <td>7.325</td>\n",
       "      <td>230.5</td>\n",
       "      <td>695.0</td>\n",
       "      <td>0.533654</td>\n",
       "    </tr>\n",
       "    <tr>\n",
       "      <th>149</th>\n",
       "      <td>A0A0P0XHF4.pdb_B</td>\n",
       "      <td>A0A0P0X2K4</td>\n",
       "      <td>0.415300</td>\n",
       "      <td>7.340</td>\n",
       "      <td>216.0</td>\n",
       "      <td>695.0</td>\n",
       "      <td>0.164659</td>\n",
       "    </tr>\n",
       "    <tr>\n",
       "      <th>82</th>\n",
       "      <td>A0A0P0XHF4.pdb_B</td>\n",
       "      <td>A0A0P0VUW0</td>\n",
       "      <td>0.711865</td>\n",
       "      <td>7.670</td>\n",
       "      <td>270.0</td>\n",
       "      <td>695.0</td>\n",
       "      <td>0.826087</td>\n",
       "    </tr>\n",
       "    <tr>\n",
       "      <th>413</th>\n",
       "      <td>A0A0P0XHF4.pdb_B</td>\n",
       "      <td>Q2QY97</td>\n",
       "      <td>0.432800</td>\n",
       "      <td>7.685</td>\n",
       "      <td>221.0</td>\n",
       "      <td>695.0</td>\n",
       "      <td>0.188525</td>\n",
       "    </tr>\n",
       "    <tr>\n",
       "      <th>81</th>\n",
       "      <td>A0A0P0XHF4.pdb_B</td>\n",
       "      <td>A0A0P0VRP6</td>\n",
       "      <td>0.596455</td>\n",
       "      <td>7.750</td>\n",
       "      <td>221.5</td>\n",
       "      <td>695.0</td>\n",
       "      <td>0.360465</td>\n",
       "    </tr>\n",
       "    <tr>\n",
       "      <th>310</th>\n",
       "      <td>A0A0P0XHF4.pdb_B</td>\n",
       "      <td>C7J8M0</td>\n",
       "      <td>0.600700</td>\n",
       "      <td>7.785</td>\n",
       "      <td>219.0</td>\n",
       "      <td>695.0</td>\n",
       "      <td>0.276730</td>\n",
       "    </tr>\n",
       "    <tr>\n",
       "      <th>118</th>\n",
       "      <td>A0A0P0XHF4.pdb_B</td>\n",
       "      <td>A0A0P0WF72</td>\n",
       "      <td>0.641515</td>\n",
       "      <td>7.825</td>\n",
       "      <td>238.0</td>\n",
       "      <td>695.0</td>\n",
       "      <td>0.516393</td>\n",
       "    </tr>\n",
       "    <tr>\n",
       "      <th>282</th>\n",
       "      <td>A0A0P0XHF4.pdb_B</td>\n",
       "      <td>B7EXZ6</td>\n",
       "      <td>0.514025</td>\n",
       "      <td>8.010</td>\n",
       "      <td>214.0</td>\n",
       "      <td>695.0</td>\n",
       "      <td>0.236364</td>\n",
       "    </tr>\n",
       "    <tr>\n",
       "      <th>249</th>\n",
       "      <td>A0A0P0XHF4.pdb_B</td>\n",
       "      <td>A0A0P0Y5S9</td>\n",
       "      <td>0.551080</td>\n",
       "      <td>8.015</td>\n",
       "      <td>209.0</td>\n",
       "      <td>695.0</td>\n",
       "      <td>0.244604</td>\n",
       "    </tr>\n",
       "    <tr>\n",
       "      <th>244</th>\n",
       "      <td>A0A0P0XHF4.pdb_B</td>\n",
       "      <td>A0A0P0Y2Y9</td>\n",
       "      <td>0.417340</td>\n",
       "      <td>8.035</td>\n",
       "      <td>218.5</td>\n",
       "      <td>695.0</td>\n",
       "      <td>0.173307</td>\n",
       "    </tr>\n",
       "    <tr>\n",
       "      <th>367</th>\n",
       "      <td>A0A0P0XHF4.pdb_B</td>\n",
       "      <td>Q0JLI9</td>\n",
       "      <td>0.285820</td>\n",
       "      <td>8.055</td>\n",
       "      <td>223.0</td>\n",
       "      <td>695.0</td>\n",
       "      <td>0.097166</td>\n",
       "    </tr>\n",
       "    <tr>\n",
       "      <th>359</th>\n",
       "      <td>A0A0P0XHF4.pdb_B</td>\n",
       "      <td>Q0JES5</td>\n",
       "      <td>0.269000</td>\n",
       "      <td>8.165</td>\n",
       "      <td>217.5</td>\n",
       "      <td>695.0</td>\n",
       "      <td>0.086735</td>\n",
       "    </tr>\n",
       "    <tr>\n",
       "      <th>366</th>\n",
       "      <td>A0A0P0XHF4.pdb_B</td>\n",
       "      <td>Q0JLI0</td>\n",
       "      <td>0.276000</td>\n",
       "      <td>8.175</td>\n",
       "      <td>220.0</td>\n",
       "      <td>695.0</td>\n",
       "      <td>0.093555</td>\n",
       "    </tr>\n",
       "    <tr>\n",
       "      <th>69</th>\n",
       "      <td>A0A0P0XHF4.pdb_B</td>\n",
       "      <td>A0A0P0VJA5</td>\n",
       "      <td>0.375275</td>\n",
       "      <td>8.200</td>\n",
       "      <td>230.0</td>\n",
       "      <td>695.0</td>\n",
       "      <td>0.156695</td>\n",
       "    </tr>\n",
       "    <tr>\n",
       "      <th>248</th>\n",
       "      <td>A0A0P0XHF4.pdb_B</td>\n",
       "      <td>A0A0P0Y4Y4</td>\n",
       "      <td>0.704520</td>\n",
       "      <td>8.275</td>\n",
       "      <td>242.5</td>\n",
       "      <td>695.0</td>\n",
       "      <td>0.655340</td>\n",
       "    </tr>\n",
       "    <tr>\n",
       "      <th>647</th>\n",
       "      <td>A0A0P0XHF4.pdb_B</td>\n",
       "      <td>Q7XSL8</td>\n",
       "      <td>0.264890</td>\n",
       "      <td>8.320</td>\n",
       "      <td>222.0</td>\n",
       "      <td>695.0</td>\n",
       "      <td>0.091262</td>\n",
       "    </tr>\n",
       "    <tr>\n",
       "      <th>34</th>\n",
       "      <td>A0A0P0XHF4.pdb_B</td>\n",
       "      <td>A0A0N7KR34</td>\n",
       "      <td>0.508930</td>\n",
       "      <td>8.380</td>\n",
       "      <td>215.0</td>\n",
       "      <td>695.0</td>\n",
       "      <td>0.242424</td>\n",
       "    </tr>\n",
       "    <tr>\n",
       "      <th>358</th>\n",
       "      <td>A0A0P0XHF4.pdb_B</td>\n",
       "      <td>Q0JES4</td>\n",
       "      <td>0.275240</td>\n",
       "      <td>8.555</td>\n",
       "      <td>218.5</td>\n",
       "      <td>695.0</td>\n",
       "      <td>0.091004</td>\n",
       "    </tr>\n",
       "    <tr>\n",
       "      <th>533</th>\n",
       "      <td>A0A0P0XHF4.pdb_B</td>\n",
       "      <td>Q6ETW1</td>\n",
       "      <td>0.453605</td>\n",
       "      <td>8.555</td>\n",
       "      <td>222.5</td>\n",
       "      <td>695.0</td>\n",
       "      <td>0.213964</td>\n",
       "    </tr>\n",
       "    <tr>\n",
       "      <th>667</th>\n",
       "      <td>A0A0P0XHF4.pdb_B</td>\n",
       "      <td>Q8GVM0</td>\n",
       "      <td>0.290510</td>\n",
       "      <td>8.570</td>\n",
       "      <td>220.5</td>\n",
       "      <td>695.0</td>\n",
       "      <td>0.105814</td>\n",
       "    </tr>\n",
       "  </tbody>\n",
       "</table>\n",
       "</div>"
      ],
      "text/plain": [
       "              cluster      member   tmscore   rmsd  aligned_length  \\\n",
       "171  A0A0P0XHF4.pdb_B  A0A0P0XBZ2  0.687465  7.325           230.5   \n",
       "149  A0A0P0XHF4.pdb_B  A0A0P0X2K4  0.415300  7.340           216.0   \n",
       "82   A0A0P0XHF4.pdb_B  A0A0P0VUW0  0.711865  7.670           270.0   \n",
       "413  A0A0P0XHF4.pdb_B      Q2QY97  0.432800  7.685           221.0   \n",
       "81   A0A0P0XHF4.pdb_B  A0A0P0VRP6  0.596455  7.750           221.5   \n",
       "310  A0A0P0XHF4.pdb_B      C7J8M0  0.600700  7.785           219.0   \n",
       "118  A0A0P0XHF4.pdb_B  A0A0P0WF72  0.641515  7.825           238.0   \n",
       "282  A0A0P0XHF4.pdb_B      B7EXZ6  0.514025  8.010           214.0   \n",
       "249  A0A0P0XHF4.pdb_B  A0A0P0Y5S9  0.551080  8.015           209.0   \n",
       "244  A0A0P0XHF4.pdb_B  A0A0P0Y2Y9  0.417340  8.035           218.5   \n",
       "367  A0A0P0XHF4.pdb_B      Q0JLI9  0.285820  8.055           223.0   \n",
       "359  A0A0P0XHF4.pdb_B      Q0JES5  0.269000  8.165           217.5   \n",
       "366  A0A0P0XHF4.pdb_B      Q0JLI0  0.276000  8.175           220.0   \n",
       "69   A0A0P0XHF4.pdb_B  A0A0P0VJA5  0.375275  8.200           230.0   \n",
       "248  A0A0P0XHF4.pdb_B  A0A0P0Y4Y4  0.704520  8.275           242.5   \n",
       "647  A0A0P0XHF4.pdb_B      Q7XSL8  0.264890  8.320           222.0   \n",
       "34   A0A0P0XHF4.pdb_B  A0A0N7KR34  0.508930  8.380           215.0   \n",
       "358  A0A0P0XHF4.pdb_B      Q0JES4  0.275240  8.555           218.5   \n",
       "533  A0A0P0XHF4.pdb_B      Q6ETW1  0.453605  8.555           222.5   \n",
       "667  A0A0P0XHF4.pdb_B      Q8GVM0  0.290510  8.570           220.5   \n",
       "\n",
       "     cluster_size  fraction_binder  \n",
       "171         695.0         0.533654  \n",
       "149         695.0         0.164659  \n",
       "82          695.0         0.826087  \n",
       "413         695.0         0.188525  \n",
       "81          695.0         0.360465  \n",
       "310         695.0         0.276730  \n",
       "118         695.0         0.516393  \n",
       "282         695.0         0.236364  \n",
       "249         695.0         0.244604  \n",
       "244         695.0         0.173307  \n",
       "367         695.0         0.097166  \n",
       "359         695.0         0.086735  \n",
       "366         695.0         0.093555  \n",
       "69          695.0         0.156695  \n",
       "248         695.0         0.655340  \n",
       "647         695.0         0.091262  \n",
       "34          695.0         0.242424  \n",
       "358         695.0         0.091004  \n",
       "533         695.0         0.213964  \n",
       "667         695.0         0.105814  "
      ]
     },
     "execution_count": 37,
     "metadata": {},
     "output_type": "execute_result"
    }
   ],
   "source": [
    "# Get list of members for subcluster\n",
    "members_sc = list(clustered_clusters[clustered_clusters.subcluster_rep.isin(subcluster_names)]\n",
    "                  .member)\n",
    "\n",
    "median_scores[median_scores.member.isin(members_sc)].sort_values(by='rmsd').head(20)"
   ]
  },
  {
   "cell_type": "markdown",
   "metadata": {},
   "source": [
    "See if any of the homologous proteins are in here:"
   ]
  },
  {
   "cell_type": "code",
   "execution_count": 38,
   "metadata": {},
   "outputs": [
    {
     "data": {
      "text/plain": [
       "[True, True, True, False, True]"
      ]
     },
     "execution_count": 38,
     "metadata": {},
     "output_type": "execute_result"
    }
   ],
   "source": [
    "[h in members_sc for h in homologues]"
   ]
  },
  {
   "cell_type": "code",
   "execution_count": 39,
   "metadata": {},
   "outputs": [
    {
     "data": {
      "text/plain": [
       "['Q5VMP0', 'A0A0N7KEW0', 'Q8RZQ3', 'Q69X07', 'A0A0P0Y6A8']"
      ]
     },
     "execution_count": 39,
     "metadata": {},
     "output_type": "execute_result"
    }
   ],
   "source": [
    "homologues"
   ]
  },
  {
   "cell_type": "markdown",
   "metadata": {},
   "source": [
    "All the rest of homologous proteins are in here!"
   ]
  },
  {
   "cell_type": "markdown",
   "metadata": {},
   "source": [
    "Print the paths of the top 20 PDB files to open them in PyMOL:"
   ]
  },
  {
   "cell_type": "code",
   "execution_count": null,
   "metadata": {},
   "outputs": [],
   "source": [
    "# Print paths to open models in pymol\n",
    "membs = median_scores[median_scores.member.isin(members_sc)].sort_values(by='rmsd').head(20).member\n",
    "' '.join([(path_cluster + str(results_dir) + f'/merged_clusters/cluster_{cluster}/{m}.pdb') for m in membs])"
   ]
  },
  {
   "cell_type": "markdown",
   "metadata": {},
   "source": [
    "<img src='./pictures/SKP1_cluster_llr.png' height='600px'>"
   ]
  },
  {
   "cell_type": "markdown",
   "metadata": {},
   "source": [
    "These subclusters contain binders that, in addition to the binding motif, have LLR domains that also interact with SKP1 in some way. The true binder of SKP1 and its homologues have a similar architecture."
   ]
  },
  {
   "cell_type": "markdown",
   "metadata": {},
   "source": [
    "## Subclusters for the binding motif + beta propeller"
   ]
  },
  {
   "cell_type": "code",
   "execution_count": 40,
   "metadata": {},
   "outputs": [],
   "source": [
    "subcluster_names = [\n",
    "'A0A0P0W419.pdb_B',\n",
    "'Q0DQG8.pdb_B',\n",
    "'Q0JK63.pdb_B',\n",
    "'Q6ZDH1.pdb_B',\n",
    "'A0A0P0V3R7.pdb_B'\n",
    "]"
   ]
  },
  {
   "cell_type": "markdown",
   "metadata": {},
   "source": [
    "See how many proteins are in these subclusters:"
   ]
  },
  {
   "cell_type": "code",
   "execution_count": 41,
   "metadata": {},
   "outputs": [
    {
     "data": {
      "text/plain": [
       "277"
      ]
     },
     "execution_count": 41,
     "metadata": {},
     "output_type": "execute_result"
    }
   ],
   "source": [
    "(clustered_clusters[clustered_clusters.subcluster_rep.isin(subcluster_names)]\n",
    " .subcluster_rep.value_counts().sum())"
   ]
  },
  {
   "cell_type": "markdown",
   "metadata": {},
   "source": [
    "See the alignment scores of the top members in these subclusters:"
   ]
  },
  {
   "cell_type": "code",
   "execution_count": 42,
   "metadata": {},
   "outputs": [
    {
     "data": {
      "text/html": [
       "<div>\n",
       "<style scoped>\n",
       "    .dataframe tbody tr th:only-of-type {\n",
       "        vertical-align: middle;\n",
       "    }\n",
       "\n",
       "    .dataframe tbody tr th {\n",
       "        vertical-align: top;\n",
       "    }\n",
       "\n",
       "    .dataframe thead th {\n",
       "        text-align: right;\n",
       "    }\n",
       "</style>\n",
       "<table border=\"1\" class=\"dataframe\">\n",
       "  <thead>\n",
       "    <tr style=\"text-align: right;\">\n",
       "      <th></th>\n",
       "      <th>cluster</th>\n",
       "      <th>member</th>\n",
       "      <th>tmscore</th>\n",
       "      <th>rmsd</th>\n",
       "      <th>aligned_length</th>\n",
       "      <th>cluster_size</th>\n",
       "      <th>fraction_binder</th>\n",
       "    </tr>\n",
       "  </thead>\n",
       "  <tbody>\n",
       "    <tr>\n",
       "      <th>213</th>\n",
       "      <td>A0A0P0XHF4.pdb_B</td>\n",
       "      <td>A0A0P0XQK8</td>\n",
       "      <td>0.302510</td>\n",
       "      <td>7.940</td>\n",
       "      <td>201.5</td>\n",
       "      <td>695.0</td>\n",
       "      <td>0.065757</td>\n",
       "    </tr>\n",
       "    <tr>\n",
       "      <th>133</th>\n",
       "      <td>A0A0P0XHF4.pdb_B</td>\n",
       "      <td>A0A0P0WR08</td>\n",
       "      <td>0.309095</td>\n",
       "      <td>8.335</td>\n",
       "      <td>188.0</td>\n",
       "      <td>695.0</td>\n",
       "      <td>0.033679</td>\n",
       "    </tr>\n",
       "    <tr>\n",
       "      <th>422</th>\n",
       "      <td>A0A0P0XHF4.pdb_B</td>\n",
       "      <td>Q2R1S8</td>\n",
       "      <td>0.293405</td>\n",
       "      <td>8.740</td>\n",
       "      <td>194.0</td>\n",
       "      <td>695.0</td>\n",
       "      <td>0.045564</td>\n",
       "    </tr>\n",
       "    <tr>\n",
       "      <th>528</th>\n",
       "      <td>A0A0P0XHF4.pdb_B</td>\n",
       "      <td>Q6EQC5</td>\n",
       "      <td>0.351750</td>\n",
       "      <td>8.760</td>\n",
       "      <td>197.5</td>\n",
       "      <td>695.0</td>\n",
       "      <td>0.070755</td>\n",
       "    </tr>\n",
       "    <tr>\n",
       "      <th>575</th>\n",
       "      <td>A0A0P0XHF4.pdb_B</td>\n",
       "      <td>Q6Z4S1</td>\n",
       "      <td>0.318150</td>\n",
       "      <td>8.760</td>\n",
       "      <td>206.5</td>\n",
       "      <td>695.0</td>\n",
       "      <td>0.084450</td>\n",
       "    </tr>\n",
       "    <tr>\n",
       "      <th>691</th>\n",
       "      <td>A0A0P0XHF4.pdb_B</td>\n",
       "      <td>Q8VWI8</td>\n",
       "      <td>0.295920</td>\n",
       "      <td>8.865</td>\n",
       "      <td>194.0</td>\n",
       "      <td>695.0</td>\n",
       "      <td>0.046569</td>\n",
       "    </tr>\n",
       "    <tr>\n",
       "      <th>360</th>\n",
       "      <td>A0A0P0XHF4.pdb_B</td>\n",
       "      <td>Q0JFD5</td>\n",
       "      <td>0.274020</td>\n",
       "      <td>8.890</td>\n",
       "      <td>191.0</td>\n",
       "      <td>695.0</td>\n",
       "      <td>0.034858</td>\n",
       "    </tr>\n",
       "    <tr>\n",
       "      <th>692</th>\n",
       "      <td>A0A0P0XHF4.pdb_B</td>\n",
       "      <td>Q8W0I3</td>\n",
       "      <td>0.308530</td>\n",
       "      <td>8.955</td>\n",
       "      <td>195.0</td>\n",
       "      <td>695.0</td>\n",
       "      <td>0.051680</td>\n",
       "    </tr>\n",
       "    <tr>\n",
       "      <th>471</th>\n",
       "      <td>A0A0P0XHF4.pdb_B</td>\n",
       "      <td>Q53WL8</td>\n",
       "      <td>0.333390</td>\n",
       "      <td>9.060</td>\n",
       "      <td>197.0</td>\n",
       "      <td>695.0</td>\n",
       "      <td>0.063768</td>\n",
       "    </tr>\n",
       "    <tr>\n",
       "      <th>577</th>\n",
       "      <td>A0A0P0XHF4.pdb_B</td>\n",
       "      <td>Q6Z6Y9</td>\n",
       "      <td>0.307905</td>\n",
       "      <td>9.070</td>\n",
       "      <td>197.0</td>\n",
       "      <td>695.0</td>\n",
       "      <td>0.057143</td>\n",
       "    </tr>\n",
       "    <tr>\n",
       "      <th>66</th>\n",
       "      <td>A0A0P0XHF4.pdb_B</td>\n",
       "      <td>A0A0P0VI66</td>\n",
       "      <td>0.302140</td>\n",
       "      <td>9.100</td>\n",
       "      <td>194.0</td>\n",
       "      <td>695.0</td>\n",
       "      <td>0.047739</td>\n",
       "    </tr>\n",
       "    <tr>\n",
       "      <th>129</th>\n",
       "      <td>A0A0P0XHF4.pdb_B</td>\n",
       "      <td>A0A0P0WQ78</td>\n",
       "      <td>0.293750</td>\n",
       "      <td>9.125</td>\n",
       "      <td>191.0</td>\n",
       "      <td>695.0</td>\n",
       "      <td>0.038554</td>\n",
       "    </tr>\n",
       "    <tr>\n",
       "      <th>599</th>\n",
       "      <td>A0A0P0XHF4.pdb_B</td>\n",
       "      <td>Q6ZK55</td>\n",
       "      <td>0.313985</td>\n",
       "      <td>9.145</td>\n",
       "      <td>198.0</td>\n",
       "      <td>695.0</td>\n",
       "      <td>0.060526</td>\n",
       "    </tr>\n",
       "    <tr>\n",
       "      <th>578</th>\n",
       "      <td>A0A0P0XHF4.pdb_B</td>\n",
       "      <td>Q6Z7A7</td>\n",
       "      <td>0.333375</td>\n",
       "      <td>9.185</td>\n",
       "      <td>197.0</td>\n",
       "      <td>695.0</td>\n",
       "      <td>0.065089</td>\n",
       "    </tr>\n",
       "    <tr>\n",
       "      <th>513</th>\n",
       "      <td>A0A0P0XHF4.pdb_B</td>\n",
       "      <td>Q69RN5</td>\n",
       "      <td>0.279535</td>\n",
       "      <td>9.300</td>\n",
       "      <td>192.0</td>\n",
       "      <td>695.0</td>\n",
       "      <td>0.037862</td>\n",
       "    </tr>\n",
       "    <tr>\n",
       "      <th>474</th>\n",
       "      <td>A0A0P0XHF4.pdb_B</td>\n",
       "      <td>Q5QM20</td>\n",
       "      <td>0.326920</td>\n",
       "      <td>9.310</td>\n",
       "      <td>213.0</td>\n",
       "      <td>695.0</td>\n",
       "      <td>0.106443</td>\n",
       "    </tr>\n",
       "    <tr>\n",
       "      <th>128</th>\n",
       "      <td>A0A0P0XHF4.pdb_B</td>\n",
       "      <td>A0A0P0WPS2</td>\n",
       "      <td>0.290210</td>\n",
       "      <td>9.330</td>\n",
       "      <td>195.0</td>\n",
       "      <td>695.0</td>\n",
       "      <td>0.047393</td>\n",
       "    </tr>\n",
       "    <tr>\n",
       "      <th>267</th>\n",
       "      <td>A0A0P0XHF4.pdb_B</td>\n",
       "      <td>A0A5S6R9A0</td>\n",
       "      <td>0.329460</td>\n",
       "      <td>9.330</td>\n",
       "      <td>209.0</td>\n",
       "      <td>695.0</td>\n",
       "      <td>0.095775</td>\n",
       "    </tr>\n",
       "    <tr>\n",
       "      <th>677</th>\n",
       "      <td>A0A0P0XHF4.pdb_B</td>\n",
       "      <td>Q8LHX9</td>\n",
       "      <td>0.326415</td>\n",
       "      <td>9.380</td>\n",
       "      <td>202.5</td>\n",
       "      <td>695.0</td>\n",
       "      <td>0.076816</td>\n",
       "    </tr>\n",
       "    <tr>\n",
       "      <th>363</th>\n",
       "      <td>A0A0P0XHF4.pdb_B</td>\n",
       "      <td>Q0JKP0</td>\n",
       "      <td>0.297210</td>\n",
       "      <td>9.410</td>\n",
       "      <td>195.0</td>\n",
       "      <td>695.0</td>\n",
       "      <td>0.049020</td>\n",
       "    </tr>\n",
       "  </tbody>\n",
       "</table>\n",
       "</div>"
      ],
      "text/plain": [
       "              cluster      member   tmscore   rmsd  aligned_length  \\\n",
       "213  A0A0P0XHF4.pdb_B  A0A0P0XQK8  0.302510  7.940           201.5   \n",
       "133  A0A0P0XHF4.pdb_B  A0A0P0WR08  0.309095  8.335           188.0   \n",
       "422  A0A0P0XHF4.pdb_B      Q2R1S8  0.293405  8.740           194.0   \n",
       "528  A0A0P0XHF4.pdb_B      Q6EQC5  0.351750  8.760           197.5   \n",
       "575  A0A0P0XHF4.pdb_B      Q6Z4S1  0.318150  8.760           206.5   \n",
       "691  A0A0P0XHF4.pdb_B      Q8VWI8  0.295920  8.865           194.0   \n",
       "360  A0A0P0XHF4.pdb_B      Q0JFD5  0.274020  8.890           191.0   \n",
       "692  A0A0P0XHF4.pdb_B      Q8W0I3  0.308530  8.955           195.0   \n",
       "471  A0A0P0XHF4.pdb_B      Q53WL8  0.333390  9.060           197.0   \n",
       "577  A0A0P0XHF4.pdb_B      Q6Z6Y9  0.307905  9.070           197.0   \n",
       "66   A0A0P0XHF4.pdb_B  A0A0P0VI66  0.302140  9.100           194.0   \n",
       "129  A0A0P0XHF4.pdb_B  A0A0P0WQ78  0.293750  9.125           191.0   \n",
       "599  A0A0P0XHF4.pdb_B      Q6ZK55  0.313985  9.145           198.0   \n",
       "578  A0A0P0XHF4.pdb_B      Q6Z7A7  0.333375  9.185           197.0   \n",
       "513  A0A0P0XHF4.pdb_B      Q69RN5  0.279535  9.300           192.0   \n",
       "474  A0A0P0XHF4.pdb_B      Q5QM20  0.326920  9.310           213.0   \n",
       "128  A0A0P0XHF4.pdb_B  A0A0P0WPS2  0.290210  9.330           195.0   \n",
       "267  A0A0P0XHF4.pdb_B  A0A5S6R9A0  0.329460  9.330           209.0   \n",
       "677  A0A0P0XHF4.pdb_B      Q8LHX9  0.326415  9.380           202.5   \n",
       "363  A0A0P0XHF4.pdb_B      Q0JKP0  0.297210  9.410           195.0   \n",
       "\n",
       "     cluster_size  fraction_binder  \n",
       "213         695.0         0.065757  \n",
       "133         695.0         0.033679  \n",
       "422         695.0         0.045564  \n",
       "528         695.0         0.070755  \n",
       "575         695.0         0.084450  \n",
       "691         695.0         0.046569  \n",
       "360         695.0         0.034858  \n",
       "692         695.0         0.051680  \n",
       "471         695.0         0.063768  \n",
       "577         695.0         0.057143  \n",
       "66          695.0         0.047739  \n",
       "129         695.0         0.038554  \n",
       "599         695.0         0.060526  \n",
       "578         695.0         0.065089  \n",
       "513         695.0         0.037862  \n",
       "474         695.0         0.106443  \n",
       "128         695.0         0.047393  \n",
       "267         695.0         0.095775  \n",
       "677         695.0         0.076816  \n",
       "363         695.0         0.049020  "
      ]
     },
     "execution_count": 42,
     "metadata": {},
     "output_type": "execute_result"
    }
   ],
   "source": [
    "# Get list of members for subcluster\n",
    "members_sc = list(clustered_clusters[clustered_clusters.subcluster_rep.isin(subcluster_names)]\n",
    "                  .member)\n",
    "\n",
    "median_scores[median_scores.member.isin(members_sc)].sort_values(by='rmsd').head(20)"
   ]
  },
  {
   "cell_type": "markdown",
   "metadata": {},
   "source": [
    "Print the paths of the top 20 PDB files to open them in PyMOL:"
   ]
  },
  {
   "cell_type": "code",
   "execution_count": null,
   "metadata": {},
   "outputs": [],
   "source": [
    "# Print paths to open models in pymol\n",
    "membs = median_scores[median_scores.member.isin(members_sc)].sort_values(by='rmsd').head(20).member\n",
    "' '.join([(path_cluster + str(results_dir) + f'/merged_clusters/cluster_{cluster}/{m}.pdb') for m in membs])"
   ]
  },
  {
   "cell_type": "markdown",
   "metadata": {},
   "source": [
    "<img src='./pictures/SKP1_cluster_beta_propeller.png' height='600px'>"
   ]
  },
  {
   "cell_type": "markdown",
   "metadata": {},
   "source": [
    "The alignment of the beta propeller domains is much messier, as they are modeled in many different orientations. The screenshot above only contains a few of the complexes."
   ]
  },
  {
   "cell_type": "code",
   "execution_count": null,
   "metadata": {},
   "outputs": [],
   "source": []
  }
 ],
 "metadata": {
  "kernelspec": {
   "display_name": "Python 3",
   "language": "python",
   "name": "python3"
  },
  "language_info": {
   "codemirror_mode": {
    "name": "ipython",
    "version": 3
   },
   "file_extension": ".py",
   "mimetype": "text/x-python",
   "name": "python",
   "nbconvert_exporter": "python",
   "pygments_lexer": "ipython3",
   "version": "3.10.13"
  }
 },
 "nbformat": 4,
 "nbformat_minor": 2
}
